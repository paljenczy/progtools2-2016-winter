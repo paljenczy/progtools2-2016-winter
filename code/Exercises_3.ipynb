{
 "cells": [
  {
   "cell_type": "markdown",
   "metadata": {},
   "source": [
    "# Exercises 3 - with solutions"
   ]
  },
  {
   "cell_type": "markdown",
   "metadata": {},
   "source": [
    "### Exercise: the Fibonacci sequence"
   ]
  },
  {
   "cell_type": "markdown",
   "metadata": {},
   "source": [
    "The [Fibonacci sequence](#http://en.wikipedia.org/wiki/Fibonacci_number) is a famous sequence of numbers. It begins with 1, 1 then followed by the sum of the previous two elements. Exercise: find the 100th element of the sequence! Also, how many digits has the 1000th element?\n",
    "\n",
    "* initialize a list `sequence = [1, 1]`\n",
    "* use a while loop to test whether `sequence` has a length less than 1000\n",
    "* if yes, calculate the next value and append to the sequence\n",
    "* you can turn an integer to a string by using the str() function: this way you can determine the number of digits of a number (with which function?)"
   ]
  },
  {
   "cell_type": "markdown",
   "metadata": {},
   "source": [
    "### Exercise: the birthday paradox"
   ]
  },
  {
   "cell_type": "markdown",
   "metadata": {},
   "source": [
    "The [birtday problem](#http://en.wikipedia.org/wiki/Birthday_problem) is a classical and surprising observation in probability theory. It loosely states that given a group of people, there is a surprisingly high probability that there are two of them who happen to share birthdays. Even in a group of only 23 people, this probability is 0.5. In this problem, you should prove this by simulation.\n",
    "\n",
    "1. to the beginning of your code, put `import random`. This will load Python functions that generate random numbers.\n",
    "2. to generate a random integer between a and b, use `random.randint(a, b)`. Inspect its help by typing `random.int?`\n",
    "and experiment with it for some time.\n",
    "3. write a function that takes a parameter `n_class` and generates a list of birthdays. The has length `n_class`. Each element of the list is a random integer between 1 and 365, representing the possible birthdays (don't bother now with 29th February)\n",
    "    * you can do this either by using a for-loop or using list comprehension\n",
    "    * the \"skeleton\" of your function should look like\n",
    "    ```\n",
    "    def generate_class_birthdays(n_class):\n",
    "          \"\"\"\n",
    "          Generate a list containing \"n_class\" random integers between 1 and 365,\n",
    "          representing birthdays.\n",
    "          \"\"\"\n",
    "          # here comes your code that will produce a variable \"list_birthdays\" that the\n",
    "          # function returns\n",
    "          return list_birthdays\n",
    "    ```\n",
    "4. Write another function `are_elements_unique` that takes a list as input and returns `True` if there are two elements which are the same and `False` otherwise\n",
    "    * you can get the number of unique elements of a list `list_a` by calling `len(set(list_a))`\n",
    "    * there are two elements that are the same if the number of unique elements is strictly less than the number of elements\n",
    "5. Write a third function `birthday_paradox` that takes two inputs, `n_class` and `n_rep`, the size of the class and the number of random classes we want to generate. Within the function, write a loop that `n_rep` times does the following:\n",
    "    * generate a list containing birthdays using `generate_class_birthdays(n_class)`\n",
    "    * inspect the list with `are_elements_unique` if there are common birthdays\n",
    "        * if elements are unique, it means there are NO common birthdays\n",
    "    * before the for loop, you should define an integer `count_if_common = 0` whose value you increase by 1 if the currently generated class contains common birthdays\n",
    "After the loop, divide `count_if_common` by `n_reps` to get the probability that for a class of size `n_class` there are common birthdays. BE CAREFUL! If you divide an integer with a bigger integer, you'll get zero. Please convert `n_reps` to float, that is, calculate `n_class / float(n_reps)`. \n",
    "    * if you want to print a `float`, use the `%.2f` formatter for precision of 2 digits, `%.4f` for 4 digits, etc., similarly to `%d` and `%s`\n",
    "\n",
    "6. Test your function using `n_class = 23` and `n_reps = 10000`."
   ]
  },
  {
   "cell_type": "markdown",
   "metadata": {},
   "source": [
    "### Exercise: read and write .csv data"
   ]
  },
  {
   "cell_type": "markdown",
   "metadata": {},
   "source": [
    "Wherever you have the current file where you work on this problem, create ONE LEVEL UP a directory called \"data\" and put there the datafile `amazon_stock_data.csv`. This data contains data on Amazon's stock price on a daily frequency.\n",
    "\n",
    "1. Read the data using the `csv` module's `DictReader` function and build a list of the daily price data. That is, this will be a list of dictionaries where each dictionary contains data from a day.\n",
    "\n",
    "2. Go through this list and for each dictionary, create a new key-value pair: `\"Avg\"` will be the key and the value will be the average of the `Open` and `Close` prices.\n",
    "    * define an empty list `list_new_dicts` in which you'll collect the new dictionaries\n",
    "    * write a for loop that steps thourgh the dictionaries\n",
    "        * from each dictionary, get the value corresponding to the keys `\"Open\"` and `\"Close\"`. These are strings, turn them into `float`s using the `float` function\n",
    "        * take the average of these two float numbers and assign it to a variable `avg_price`. Its type is `float`.\n",
    "        * add the new key-value pair `\"Avg\"` as key and the calculated average as value. CAUTION! Turn fist the float value into string using `\"{%.2f}\".format(avg_price)`\n",
    "\n",
    "3. Take the new list and write it using `csv.DictWriter`. You have to supply an argument `fieldnames` that specifies the fields that are written (just copy and paste, and inspect how you can use it).\n",
    "\n",
    "```\n",
    "with open(\"../data/amazon_stock_data.csv\", \"w\") as f:\n",
    "      writer = csv.DictWriter(f, fieldnames=[\"Date\", \"Open\", \"High\", \"Low\", \"Close\", \"Volume\", \"Adj Close\",\"Avg\"],\n",
    "                              delimiter=\",\")\n",
    "      # write a header\n",
    "      writer.writeheader()\n",
    "      # loop through the new list of dictionaries\n",
    "      for d in list_new_dicts:\n",
    "            writer.writerow(d)\n",
    "      \n",
    "      \n",
    "```"
   ]
  }
 ],
 "metadata": {
  "kernelspec": {
   "display_name": "Python 3",
   "language": "python",
   "name": "python3"
  },
  "language_info": {
   "codemirror_mode": {
    "name": "ipython",
    "version": 3
   },
   "file_extension": ".py",
   "mimetype": "text/x-python",
   "name": "python",
   "nbconvert_exporter": "python",
   "pygments_lexer": "ipython3",
   "version": "3.5.1"
  }
 },
 "nbformat": 4,
 "nbformat_minor": 0
}
