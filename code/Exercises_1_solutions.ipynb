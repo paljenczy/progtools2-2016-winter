{
 "cells": [
  {
   "cell_type": "markdown",
   "metadata": {},
   "source": [
    "# Exercises - 1."
   ]
  },
  {
   "cell_type": "markdown",
   "metadata": {},
   "source": [
    "### Exercise: lists"
   ]
  },
  {
   "cell_type": "markdown",
   "metadata": {},
   "source": [
    "1. Define a list called `names` that contains three names: `Anna, John and Peter`.\n",
    "    * remember: these are strings, those have to be enclosed between quotation marks\n",
    "        * apostrophes also work: `\"John\"` is the same as `'John'`\n",
    "        \n",
    "2. Retrieve the second element of the list and assign it to a variable `name_2`.\n",
    "\n",
    "3. You can add elements to the list: if you have a list `a`, the command `a.append(something)` adds `something` to the end of the list. Add the name `Theodora` to the list.\n",
    "4. You can concatenate lists by using the `\"+\"` operator. Create another list `long_names = [\"Anastasia\", \"Alexander\"]`\n",
    "and by concatenating the two lists, create a list called `all_names`.\n",
    "5. Create a list called `my_name` that contains no elements: `my_name = []`\n",
    "    * empty lists are useful as they can be filled later\n",
    "6. Add your name to the list `my_name` and concatenate this list with the `all_names`."
   ]
  },
  {
   "cell_type": "markdown",
   "metadata": {},
   "source": [
    "### Solution"
   ]
  },
  {
   "cell_type": "code",
   "execution_count": 1,
   "metadata": {
    "collapsed": false
   },
   "outputs": [],
   "source": [
    "names = [\"Anna\", \"John\", \"Peter\"]\n",
    "\n",
    "name_2 = names[1]\n",
    "names.append(\"Theodora\")\n",
    "long_names = [\"Anastasia\", \"Alexander\"]\n",
    "\n",
    "all_names = names + long_names\n",
    "\n",
    "my_name = []\n",
    "my_name.append(\"Jeno\")\n",
    "all_names = all_names + my_name\n",
    "# alternative solution: all_names += my_name"
   ]
  },
  {
   "cell_type": "markdown",
   "metadata": {},
   "source": [
    "### Exercise: dictionaries"
   ]
  },
  {
   "cell_type": "markdown",
   "metadata": {},
   "source": [
    "Define a dictionary that contains countries as keys and lists as values. Each list contains the country's population as the first element and the capital city as the second element:\n",
    "\n",
    "`countries = {\"Hungary\": [9897000, \"Budapest\"], \"Poland\": [38530000, \"Warsaw\"], \"Switzerland\": [8081000, \"Bern\"]}`\n",
    "\n",
    "1. get the population of Hungary from the dictionary and assign it to a variable `pop_hun`.\n",
    "2. print the capital city of Switzerland.\n",
    "3. Create an empty dictionary: `d_capitals = {}`. You can add a key-value pair to a dictionary by simply issuing the command\n",
    "    `d[key] = value`. Add all countries to this empty dictionary as keys and their capital cities as values, using the information contained in the `countries` dictionary.\n",
    "4. How would you modify this if you wanted to have a dictionary with keys as the countries and the _length_ of the name of the capital city as values?\n",
    "    * the `len(x)` gives the length of a list if `x` is a list and the length of a string when `x` is a string (Try that!)"
   ]
  },
  {
   "cell_type": "markdown",
   "metadata": {},
   "source": [
    "### Solutions"
   ]
  },
  {
   "cell_type": "code",
   "execution_count": 2,
   "metadata": {
    "collapsed": false
   },
   "outputs": [
    {
     "name": "stdout",
     "output_type": "stream",
     "text": [
      "{'Hungary': 'Budapest', 'Poland': 'Warsaw', 'Switzerland': 'Bern'}\n",
      "{'Hungary': 8, 'Poland': 6, 'Switzerland': 4}\n"
     ]
    }
   ],
   "source": [
    "countries = {\"Hungary\": [9897000, \"Budapest\"], \"Poland\": [38530000, \"Warsaw\"], \"Switzerland\": [8081000, \"Bern\"]}\n",
    "\n",
    "countries[\"Hungary\"][0]\n",
    "\n",
    "d_capitals = {}\n",
    "d_capitals[\"Hungary\"] = countries[\"Hungary\"][1]\n",
    "d_capitals[\"Poland\"] = countries[\"Poland\"][1]\n",
    "d_capitals[\"Switzerland\"] = countries[\"Switzerland\"][1]\n",
    "\n",
    "print(d_capitals)\n",
    "\n",
    "d_len_capitals = {}\n",
    "d_len_capitals[\"Hungary\"] = len(d_capitals[\"Hungary\"])\n",
    "d_len_capitals[\"Poland\"] = len(d_capitals[\"Poland\"])\n",
    "d_len_capitals[\"Switzerland\"] = len(d_capitals[\"Switzerland\"])\n",
    "\n",
    "print(d_len_capitals)"
   ]
  },
  {
   "cell_type": "markdown",
   "metadata": {},
   "source": [
    "### Exercise: working with lists"
   ]
  },
  {
   "cell_type": "markdown",
   "metadata": {},
   "source": [
    "Assume you have a list of names:\n",
    "    \n",
    "`names = [\"Anna\", \"Barbara\", \"Clara\", \"Diane\", \"Emily\"]`\n",
    "\n",
    "Indexation\n",
    "\n",
    "1. Return a list that contains the \"middle\" of the list: everything but the first and the last element\n",
    "2. Return a list that contains the first, third and fith element\n",
    "    * Google for \"python list every second\"\n",
    "3. Return a list that contains the second and the fourth element.\n",
    "4. Define a name to be long if it is at least 6 characters long. Create a list `is_name_long` that is as long as `names` and `is_name_long[i]` is a boolean that is True if the `name[i]` is long and False otherwise.\n",
    "\n",
    "5. Using the function `any` to infer if there is any long name in `names`."
   ]
  },
  {
   "cell_type": "markdown",
   "metadata": {},
   "source": [
    "### Solution"
   ]
  },
  {
   "cell_type": "code",
   "execution_count": 3,
   "metadata": {
    "collapsed": false
   },
   "outputs": [
    {
     "name": "stdout",
     "output_type": "stream",
     "text": [
      "['Barbara', 'Clara', 'Diane']\n",
      "['Anna', 'Clara', 'Emily']\n",
      "['Barbara', 'Diane']\n",
      "[False, True, False, False, False]\n",
      "[False, True, False, False, False]\n",
      "True\n"
     ]
    }
   ],
   "source": [
    "names = [\"Anna\", \"Barbara\", \"Clara\", \"Diane\", \"Emily\"]\n",
    "\n",
    "# 1.\n",
    "print(names[1:-1])\n",
    "\n",
    "# 2.\n",
    "print(names[::2])\n",
    "\n",
    "# 3. \n",
    "print(names[1::2])\n",
    "\n",
    "# 4.\n",
    "is_name_long = [len(names[0]) > 6, len(names[1]) > 6, len(names[2]) > 6, len(names[3]) > 6, len(names[4]) > 6]\n",
    "print(is_name_long)\n",
    "\n",
    "# -- ok, use loops\n",
    "is_name_long = []\n",
    "for name in names:\n",
    "    is_name_long.append(len(name) > 6)\n",
    "\n",
    "print(is_name_long)\n",
    "\n",
    "# 5.\n",
    "print(any([is_name_long]))"
   ]
  }
 ],
 "metadata": {
  "kernelspec": {
   "display_name": "Python 3",
   "language": "python",
   "name": "python3"
  },
  "language_info": {
   "codemirror_mode": {
    "name": "ipython",
    "version": 3
   },
   "file_extension": ".py",
   "mimetype": "text/x-python",
   "name": "python",
   "nbconvert_exporter": "python",
   "pygments_lexer": "ipython3",
   "version": "3.5.1"
  }
 },
 "nbformat": 4,
 "nbformat_minor": 0
}
