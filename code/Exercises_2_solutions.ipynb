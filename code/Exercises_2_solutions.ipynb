{
 "cells": [
  {
   "cell_type": "markdown",
   "metadata": {},
   "source": [
    "# Exercises 2 - with solutions"
   ]
  },
  {
   "cell_type": "markdown",
   "metadata": {},
   "source": [
    "### Exercise: working with dictionaries"
   ]
  },
  {
   "cell_type": "markdown",
   "metadata": {},
   "source": [
    "Let's take a number of US states and two dictionaries that contain state abbreviations and some cities in the states.\n",
    "\n",
    "```\n",
    "states = {\n",
    "    'Oregon': 'OR',\n",
    "    'Florida': 'FL',\n",
    "    'California': 'CA',\n",
    "    'New York': 'NY',\n",
    "    'Michigan': 'MI'\n",
    "}\n",
    "\n",
    "cities = {\n",
    "    'CA': 'San Francisco',\n",
    "    'MI': 'Detroit',\n",
    "    'FL': 'Jacksonville',\n",
    "    'NY': 'New York',\n",
    "    'OR': 'Portland'\n",
    "}\n",
    "```"
   ]
  },
  {
   "cell_type": "markdown",
   "metadata": {},
   "source": [
    "Tasks to do:\n",
    "\n",
    "1. Add the \"Georgia\" - \"GA\" key-value pair to the `states` dictionary and the \"GA\" - \"Atlanta\" key-value pair to the `cities` dictionary.\n",
    "2. Test if North Dakota is in the states database. If yes, print a message: \"The abbreviation of >>here comes the state's name<< is >>here comes the abbreviation<<\"., if not, print a sorry message: \"Sorry, the state >>here comes the state's name<< does not exist in the database\".\n",
    "    * with a dictionary `d`, you can iterate on key, value pairs using the following syntax, remembering that `d.items()` gives you a list of (key, value) pairs\n",
    "    ```\n",
    "    for key, value in d.items():\n",
    "        # do something with the key and the value\n",
    "    ```\n",
    "    * you can concatenate strings with the \"+\" operator\n",
    "    * define a variable that has the value \"North Dakota\"\n",
    "    * write your test referencing to this variable. It is useful because if you want to test another state, you only have to modify you code in one place.\n",
    "3. Print all abbreviations with what is it standing for\n",
    "4. To the previous statements, add the city information you have: \".. and this state has a city called [city name]\n"
   ]
  },
  {
   "cell_type": "markdown",
   "metadata": {},
   "source": [
    "### Solution"
   ]
  },
  {
   "cell_type": "code",
   "execution_count": 8,
   "metadata": {
    "collapsed": false
   },
   "outputs": [],
   "source": [
    "states = {\n",
    "    'Oregon': 'OR',\n",
    "    'Florida': 'FL',\n",
    "    'California': 'CA',\n",
    "    'New York': 'NY',\n",
    "    'Michigan': 'MI'\n",
    "}\n",
    "\n",
    "cities = {\n",
    "    'CA': 'San Francisco',\n",
    "    'MI': 'Detroit',\n",
    "    'FL': 'Jacksonville',\n",
    "    'NY': 'New York',\n",
    "    'OR': 'Portland'\n",
    "}"
   ]
  },
  {
   "cell_type": "code",
   "execution_count": 9,
   "metadata": {
    "collapsed": false
   },
   "outputs": [
    {
     "name": "stdout",
     "output_type": "stream",
     "text": [
      "Sorry, North Dakota is not in the database\n"
     ]
    }
   ],
   "source": [
    "# 1. \n",
    "states[\"Georgia\"] = \"GA\"\n",
    "cities[\"GA\"] = \"Atlanta\"\n",
    "\n",
    "# 2.\n",
    "x = \"North Dakota\"\n",
    "\n",
    "if x in states:\n",
    "    print(\"The abbreviation of {} is {}\".format(x, states[x]))\n",
    "else:\n",
    "    print(\"Sorry, {} is not in the database\".format(x))"
   ]
  },
  {
   "cell_type": "code",
   "execution_count": 10,
   "metadata": {
    "collapsed": false
   },
   "outputs": [
    {
     "name": "stdout",
     "output_type": "stream",
     "text": [
      "GA stands for Georgia\n",
      "NY stands for New York\n",
      "MI stands for Michigan\n",
      "OR stands for Oregon\n",
      "CA stands for California\n",
      "FL stands for Florida\n"
     ]
    }
   ],
   "source": [
    "for state, abbrev in states.items():\n",
    "    print(\"{} stands for {}\".format(abbrev, state))"
   ]
  },
  {
   "cell_type": "code",
   "execution_count": 11,
   "metadata": {
    "collapsed": false
   },
   "outputs": [
    {
     "name": "stdout",
     "output_type": "stream",
     "text": [
      "GA stands for Georgia and this state has a city called Atlanta\n",
      "NY stands for New York and this state has a city called New York\n",
      "MI stands for Michigan and this state has a city called Detroit\n",
      "OR stands for Oregon and this state has a city called Portland\n",
      "CA stands for California and this state has a city called San Francisco\n",
      "FL stands for Florida and this state has a city called Jacksonville\n"
     ]
    }
   ],
   "source": [
    "for state, abbrev in states.items():\n",
    "    print(\"{} stands for {} and this state has a city called {}\".format(abbrev, state, cities[abbrev]))"
   ]
  },
  {
   "cell_type": "markdown",
   "metadata": {},
   "source": [
    "### Exercise: numbers divisible by 3 or 7"
   ]
  },
  {
   "cell_type": "markdown",
   "metadata": {},
   "source": [
    "How many numbers below 12345 are divisible by either 3 or 7?\n",
    "\n",
    "* you can get the remainder of dividing an integer `x` by another integer `y` by writing `x % y`. So, for example, `20 % 3` gives 2. Try it!\n",
    "* based on this, you can test if a number is divisible by another by testing if the remainder is zero. Try it!\n",
    "* write a for loop that answers the question!\n",
    "    * set up a `counter = 0`. In the loop, whenever a number is divisible by either 3 or 7, you should increase the value of `counter` by one\n",
    "* write a while loop that answers the same question\n",
    "* write a while loop that begins with `while True:`, and use a `break` statement to finish the loop if you have already examined all integers below 12345"
   ]
  },
  {
   "cell_type": "markdown",
   "metadata": {},
   "source": [
    "### Solution"
   ]
  },
  {
   "cell_type": "code",
   "execution_count": 12,
   "metadata": {
    "collapsed": false
   },
   "outputs": [
    {
     "name": "stdout",
     "output_type": "stream",
     "text": [
      "2\n",
      "True\n"
     ]
    }
   ],
   "source": [
    "remainder = 20 % 3 \n",
    "print(remainder)\n",
    "\n",
    "# test if 32 is divisible by 16\n",
    "is_divisible = (32 % 16 == 0)\n",
    "print(is_divisible)"
   ]
  },
  {
   "cell_type": "code",
   "execution_count": 14,
   "metadata": {
    "collapsed": false
   },
   "outputs": [
    {
     "name": "stdout",
     "output_type": "stream",
     "text": [
      "5291 numbers below 12345 are divisible by either 3 or 7\n"
     ]
    }
   ],
   "source": [
    "counter = 0\n",
    "\n",
    "for x in range(12345):\n",
    "    if (x % 3 == 0) or (x % 7 == 0):\n",
    "        counter += 1\n",
    "\n",
    "print(\"{} numbers below 12345 are divisible by either 3 or 7\".format(counter))"
   ]
  },
  {
   "cell_type": "code",
   "execution_count": 33,
   "metadata": {
    "collapsed": false
   },
   "outputs": [
    {
     "name": "stdout",
     "output_type": "stream",
     "text": [
      "5291 numbers below 12345 are divisible by either 3 or 7\n"
     ]
    }
   ],
   "source": [
    "counter = 0\n",
    "num = 0\n",
    "\n",
    "while num < 12345:\n",
    "    if (num % 3 == 0) or (num % 7 == 0):\n",
    "        counter += 1\n",
    "    num += 1\n",
    "    \n",
    "print(\"{} numbers below 12345 are divisible by either 3 or 7\" % counter)"
   ]
  },
  {
   "cell_type": "code",
   "execution_count": 34,
   "metadata": {
    "collapsed": false
   },
   "outputs": [
    {
     "name": "stdout",
     "output_type": "stream",
     "text": [
      "5291 numbers below 12345 are divisible by either 3 or 7\n"
     ]
    }
   ],
   "source": [
    "counter = 0\n",
    "num = 0\n",
    "\n",
    "while True:\n",
    "    if num >= 12345:\n",
    "        break\n",
    "    if (num % 3 == 0) or (num % 7 == 0):\n",
    "        counter += 1\n",
    "    num += 1\n",
    "        \n",
    "print(\"%d numbers below 12345 are divisible by either 3 or 7\" % counter)"
   ]
  },
  {
   "cell_type": "markdown",
   "metadata": {},
   "source": [
    "### Exercise: combining lists to dict\n",
    "\n",
    "Define two lists: \n",
    "```\n",
    "countries = [\"USA\", \"Hungary\", \"France\", \"Russia\", \"Spain\"]\n",
    "capitals = [\"Washington\", \"Budapest\", \"Paris\", \"Moscow\", \"Madrid\"]\n",
    "```\n",
    "Create a dictionary linking countries (keys) to capitals (values).\n",
    "\n",
    "1. you can create an empty dictionary by `name = {}`, then you can add the pairs with a for loop\n",
    "    * loop over range(len(countries)) and at each step, take the ith element of countries, use it as a key and add the ith element of capitals as value\n",
    "2. observe and try the function `zip` by typing `zip?`, then evaluating the cell with `Shift + Enter`\n",
    "    * it zippes together sequences (lists or tuples) and gives you a new list containing tuples pairing the first element of one list with the first element of the other, second of one with second of the other, etc. Try it! \n",
    "    * now loop over `zip(countries, capitals)` to build your dictionary!\n",
    "3. If you give a list of (key, value) pairs to the function `dict(list_of_key_value_pairs)`, it returns a dictionary with the first elements of the pairs as keys, second elements as values. So, using `zip` and `dict()`, can you solve the problem in just one line?"
   ]
  },
  {
   "cell_type": "markdown",
   "metadata": {},
   "source": [
    "### Solution"
   ]
  },
  {
   "cell_type": "code",
   "execution_count": 35,
   "metadata": {
    "collapsed": false
   },
   "outputs": [],
   "source": [
    "countries = [\"USA\", \"Hungary\", \"France\", \"Russia\", \"Spain\"]\n",
    "capitals = [\"Washington\", \"Budapest\", \"Paris\", \"Moscow\", \"Madrid\"]"
   ]
  },
  {
   "cell_type": "code",
   "execution_count": 36,
   "metadata": {
    "collapsed": false
   },
   "outputs": [
    {
     "name": "stdout",
     "output_type": "stream",
     "text": [
      "{'Hungary': 'Budapest', 'Spain': 'Madrid', 'Russia': 'Moscow', 'USA': 'Washington', 'France': 'Paris'}\n"
     ]
    }
   ],
   "source": [
    "# using indices: not so pythonic\n",
    "d = {}\n",
    "for i in range(len(countries)):\n",
    "    d[countries[i]] = capitals[i]\n",
    "    \n",
    "print(d)"
   ]
  },
  {
   "cell_type": "code",
   "execution_count": 37,
   "metadata": {
    "collapsed": false
   },
   "outputs": [
    {
     "name": "stdout",
     "output_type": "stream",
     "text": [
      "{'Hungary': 'Budapest', 'Spain': 'Madrid', 'Russia': 'Moscow', 'USA': 'Washington', 'France': 'Paris'}\n"
     ]
    }
   ],
   "source": [
    "# using zip: very pythonic\n",
    "d2 = {}\n",
    "for country, capital in zip(countries, capitals):\n",
    "    d2[country] = capital\n",
    "\n",
    "print(d2)"
   ]
  },
  {
   "cell_type": "code",
   "execution_count": 38,
   "metadata": {
    "collapsed": false
   },
   "outputs": [
    {
     "name": "stdout",
     "output_type": "stream",
     "text": [
      "{'Hungary': 'Budapest', 'Spain': 'Madrid', 'Russia': 'Moscow', 'USA': 'Washington', 'France': 'Paris'}\n"
     ]
    }
   ],
   "source": [
    "# even more pythonic: dict() takes a list of (key, value) pairs and creates a dictionary of them\n",
    "d3 = dict(zip(countries, capitals))\n",
    "print(d3)"
   ]
  },
  {
   "cell_type": "markdown",
   "metadata": {},
   "source": [
    "### Exercise: working with text"
   ]
  },
  {
   "cell_type": "markdown",
   "metadata": {},
   "source": [
    "Take the following text: \n",
    "\n",
    "Lorem ipsum dolor sit amet, consectetur adipiscing elit. Pellentesque placerat non libero ultricies consectetur. Proin leo diam, consectetur vel ligula a, hendrerit posuere risus. Quisque vel massa at ligula placerat tempor in eget nibh. Aenean viverra risus vitae pulvinar tincidunt. Etiam tempus nulla eget augue ornare feugiat. Suspendisse potenti. Mauris imperdiet risus vitae nisi tempus, eget laoreet turpis ullamcorper. Vivamus cursus accumsan maximus. Nulla consequat, mi eu tempor gravida, justo odio faucibus massa, vitae pharetra enim nulla sed urna. Nulla tincidunt quis lorem sed cursus. Etiam mi mauris, pellentesque ac turpis vel, interdum rhoncus tortor. Proin tristique mi lectus, vitae lobortis sem ullamcorper nec. Mauris sed mattis nisl. Nam est nunc, congue nec consequat ut, dapibus sed arcu.\n",
    "\n",
    "1. Define a string variable that contains this long text.\n",
    "2. How many sentences are contained in the text? Use that only dots mark the end of a sentence in the text.\n",
    "2. get rid of punctuation: import the `string` module and see what you get with `string.punctuation`. Use that to filter punctuation\n",
    "    * remember that you can iterate on a string like it was a list of characters\n",
    "    * define an empty string `text_clean = \"\"` and with a loop, add all characters `char` that are non-punctuation characters to the variable: `text_clean = text_clean + char`\n",
    "    * you can try an alternative solution\n",
    "        * with list comprehension, create a list of characters that are non-punctuations\n",
    "        * use the `join` method of the empty string `\"\"` to joint these characters\n",
    "3. Count the number of words by splitting the clean text on whitespaces.\n",
    "4. Count the number of words that are longer than 5 letters."
   ]
  },
  {
   "cell_type": "markdown",
   "metadata": {},
   "source": [
    "### Solution"
   ]
  },
  {
   "cell_type": "code",
   "execution_count": 1,
   "metadata": {
    "collapsed": false
   },
   "outputs": [],
   "source": [
    "# 1.\n",
    "text = \"Lorem ipsum dolor sit amet, consectetur adipiscing elit. Pellentesque placerat non libero ultricies consectetur. Proin leo diam, consectetur vel ligula a, hendrerit posuere risus. Quisque vel massa at ligula placerat tempor in eget nibh. Aenean viverra risus vitae pulvinar tincidunt. Etiam tempus nulla eget augue ornare feugiat. Suspendisse potenti. Mauris imperdiet risus vitae nisi tempus, eget laoreet turpis ullamcorper. Vivamus cursus accumsan maximus. Nulla consequat, mi eu tempor gravida, justo odio faucibus massa, vitae pharetra enim nulla sed urna. Nulla tincidunt quis lorem sed cursus. Etiam mi mauris, pellentesque ac turpis vel, interdum rhoncus tortor. Proin tristique mi lectus, vitae lobortis sem ullamcorper nec. Mauris sed mattis nisl. Nam est nunc, congue nec consequat ut, dapibus sed arcu.\""
   ]
  },
  {
   "cell_type": "code",
   "execution_count": 2,
   "metadata": {
    "collapsed": false
   },
   "outputs": [
    {
     "name": "stdout",
     "output_type": "stream",
     "text": [
      "The text has 16 sentences.\n"
     ]
    }
   ],
   "source": [
    "# 2.\n",
    "sentences = text.split(\".\")\n",
    "n_sentences = len(sentences)\n",
    "print(\"The text has {} sentences.\".format(n_sentences))"
   ]
  },
  {
   "cell_type": "code",
   "execution_count": 3,
   "metadata": {
    "collapsed": false
   },
   "outputs": [
    {
     "name": "stdout",
     "output_type": "stream",
     "text": [
      "Lorem ipsum dolor sit amet consectetur adipiscing elit Pellentesque placerat non libero ultricies consectetur Proin leo diam consectetur vel ligula a hendrerit posuere risus Quisque vel massa at ligula placerat tempor in eget nibh Aenean viverra risus vitae pulvinar tincidunt Etiam tempus nulla eget augue ornare feugiat Suspendisse potenti Mauris imperdiet risus vitae nisi tempus eget laoreet turpis ullamcorper Vivamus cursus accumsan maximus Nulla consequat mi eu tempor gravida justo odio faucibus massa vitae pharetra enim nulla sed urna Nulla tincidunt quis lorem sed cursus Etiam mi mauris pellentesque ac turpis vel interdum rhoncus tortor Proin tristique mi lectus vitae lobortis sem ullamcorper nec Mauris sed mattis nisl Nam est nunc congue nec consequat ut dapibus sed arcu\n"
     ]
    }
   ],
   "source": [
    "# 3.\n",
    "import string\n",
    "\n",
    "string.punctuation\n",
    "\n",
    "text_clean = \"\"\n",
    "for letter in text:\n",
    "    if letter not in string.punctuation:\n",
    "        text_clean += letter\n",
    "        \n",
    "print(text_clean)"
   ]
  },
  {
   "cell_type": "code",
   "execution_count": 4,
   "metadata": {
    "collapsed": false
   },
   "outputs": [
    {
     "name": "stdout",
     "output_type": "stream",
     "text": [
      "Lorem ipsum dolor sit amet consectetur adipiscing elit Pellentesque placerat non libero ultricies consectetur Proin leo diam consectetur vel ligula a hendrerit posuere risus Quisque vel massa at ligula placerat tempor in eget nibh Aenean viverra risus vitae pulvinar tincidunt Etiam tempus nulla eget augue ornare feugiat Suspendisse potenti Mauris imperdiet risus vitae nisi tempus eget laoreet turpis ullamcorper Vivamus cursus accumsan maximus Nulla consequat mi eu tempor gravida justo odio faucibus massa vitae pharetra enim nulla sed urna Nulla tincidunt quis lorem sed cursus Etiam mi mauris pellentesque ac turpis vel interdum rhoncus tortor Proin tristique mi lectus vitae lobortis sem ullamcorper nec Mauris sed mattis nisl Nam est nunc congue nec consequat ut dapibus sed arcu\n"
     ]
    }
   ],
   "source": [
    "# 3. alternative, using list comprehension and join\n",
    "\n",
    "# get the characters that are not punctuations\n",
    "non_punct_characters = [x for x in text if x not in string.punctuation]\n",
    "# the join method is called using the empty string \"\"\n",
    "text_clean = \"\".join(non_punct_characters)\n",
    "\n",
    "print(text_clean)"
   ]
  },
  {
   "cell_type": "code",
   "execution_count": 6,
   "metadata": {
    "collapsed": false
   },
   "outputs": [
    {
     "name": "stdout",
     "output_type": "stream",
     "text": [
      "The number of words in the text is 118\n"
     ]
    }
   ],
   "source": [
    "# 4.\n",
    "\n",
    "num_words = len(text_clean.split(\" \"))\n",
    "print(\"The number of words in the text is {}\".format(num_words))"
   ]
  },
  {
   "cell_type": "code",
   "execution_count": 7,
   "metadata": {
    "collapsed": false
   },
   "outputs": [
    {
     "name": "stdout",
     "output_type": "stream",
     "text": [
      "The number of words in the text longer than 5 characters is 56\n",
      "The number of words in the text longer than 5 characters is 56\n"
     ]
    }
   ],
   "source": [
    "# 5.\n",
    "\n",
    "# using for loop\n",
    "num_long_words = 0\n",
    "for word in text_clean.split(\" \"):\n",
    "    if len(word) > 5:\n",
    "        num_long_words += 1\n",
    "        \n",
    "print(\"The number of words in the text longer than 5 characters is {}\".format(num_long_words))\n",
    "\n",
    "# using list comprehension\n",
    "num_long_words_v2 = len([word for word in text_clean.split(\" \") if len(word) > 5])\n",
    "print(\"The number of words in the text longer than 5 characters is {}\".format(num_long_words_v2))"
   ]
  }
 ],
 "metadata": {
  "kernelspec": {
   "display_name": "Python 3",
   "language": "python",
   "name": "python3"
  },
  "language_info": {
   "codemirror_mode": {
    "name": "ipython",
    "version": 3
   },
   "file_extension": ".py",
   "mimetype": "text/x-python",
   "name": "python",
   "nbconvert_exporter": "python",
   "pygments_lexer": "ipython3",
   "version": "3.5.1"
  }
 },
 "nbformat": 4,
 "nbformat_minor": 0
}
