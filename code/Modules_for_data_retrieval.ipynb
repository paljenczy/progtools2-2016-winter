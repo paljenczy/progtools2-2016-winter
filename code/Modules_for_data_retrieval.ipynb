{
 "cells": [
  {
   "cell_type": "markdown",
   "metadata": {},
   "source": [
    "# Modules for retrieving data from the Internet"
   ]
  },
  {
   "cell_type": "markdown",
   "metadata": {},
   "source": [
    "## Programming tools, 2016 Winter semester, CEU\n",
    "_Jeno Pal_, Jan-Feb 2016"
   ]
  },
  {
   "cell_type": "markdown",
   "metadata": {},
   "source": [
    "## Regular expressions"
   ]
  },
  {
   "cell_type": "markdown",
   "metadata": {},
   "source": [
    "Regular expressions are powerful tools to extract information from texts. Essentially they form a language for patterns with which you can easily describe complex rules to find in texts what you are looking for."
   ]
  },
  {
   "cell_type": "code",
   "execution_count": 39,
   "metadata": {
    "collapsed": false
   },
   "outputs": [],
   "source": [
    "import re"
   ]
  },
  {
   "cell_type": "markdown",
   "metadata": {},
   "source": [
    "You should define a pattern, compile it and then use `match` or `search` to look for the pattern in a string.\n",
    "\n",
    "* `match` looks for the string only at the beginning of the string\n",
    "* `search` searches in the whole string"
   ]
  },
  {
   "cell_type": "code",
   "execution_count": 40,
   "metadata": {
    "collapsed": false
   },
   "outputs": [],
   "source": [
    "text = \"Lorem ipsum dolor sit amet, consectetur adipiscing elit. Praesent semper ex sed erat sodales, consectetur molestie augue blandit. Cras ac nisl elementum, mollis ex vitae, accumsan eros. Phasellus nulla purus, bibendum sit amet ultrices et, dignissim vitae erat. Pellentesque in gravida eros, et condimentum nisl. Praesent lobortis fermentum ipsum et lobortis. Proin ultricies dignissim eros ac cursus. Proin blandit libero ac lectus dictum rhoncus. Etiam condimentum, ligula gravida gravida rhoncus, purus erat facilisis tortor, ut elementum purus justo vitae enim. Vestibulum auctor condimentum porttitor. Quisque blandit augue vitae justo facilisis interdum. Sed vel facilisis leo, vel pulvinar enim.\""
   ]
  },
  {
   "cell_type": "code",
   "execution_count": 41,
   "metadata": {
    "collapsed": false
   },
   "outputs": [
    {
     "name": "stdout",
     "output_type": "stream",
     "text": [
      "Lorem ipsum dolor sit amet, consectetur adipiscing elit. Praesent semper ex sed erat sodales, consectetur molestie augue blandit. Cras ac nisl elementum, mollis ex vitae, accumsan eros. Phasellus nulla purus, bibendum sit amet ultrices et, dignissim vitae erat. Pellentesque in gravida eros, et condimentum nisl. Praesent lobortis fermentum ipsum et lobortis. Proin ultricies dignissim eros ac cursus. Proin blandit libero ac lectus dictum rhoncus. Etiam condimentum, ligula gravida gravida rhoncus, purus erat facilisis tortor, ut elementum purus justo vitae enim. Vestibulum auctor condimentum porttitor. Quisque blandit augue vitae justo facilisis interdum. Sed vel facilisis leo, vel pulvinar enim.\n"
     ]
    }
   ],
   "source": [
    "print(text)"
   ]
  },
  {
   "cell_type": "code",
   "execution_count": 42,
   "metadata": {
    "collapsed": false
   },
   "outputs": [],
   "source": [
    "regex = \"Lorem\"\n",
    "pattern = re.compile(regex)"
   ]
  },
  {
   "cell_type": "code",
   "execution_count": 43,
   "metadata": {
    "collapsed": false
   },
   "outputs": [
    {
     "data": {
      "text/plain": [
       "<_sre.SRE_Match object; span=(0, 5), match='Lorem'>"
      ]
     },
     "execution_count": 43,
     "metadata": {},
     "output_type": "execute_result"
    }
   ],
   "source": [
    "# if there is a match, it gives back a match object\n",
    "pattern.match(text)"
   ]
  },
  {
   "cell_type": "code",
   "execution_count": 44,
   "metadata": {
    "collapsed": false
   },
   "outputs": [],
   "source": [
    "# if there is no match, it gives back nothing (None)\n",
    "pattern = re.compile(\"Foobar\")\n",
    "pattern.match(text)"
   ]
  },
  {
   "cell_type": "code",
   "execution_count": 45,
   "metadata": {
    "collapsed": false
   },
   "outputs": [],
   "source": [
    "# see the difference between match and search: searching only at the beginning or\n",
    "# in the whole string\n",
    "pattern = re.compile(\"ipsum\")\n",
    "\n",
    "result_match = pattern.match(text)\n",
    "result_search = pattern.search(text)"
   ]
  },
  {
   "cell_type": "code",
   "execution_count": 46,
   "metadata": {
    "collapsed": false
   },
   "outputs": [
    {
     "name": "stdout",
     "output_type": "stream",
     "text": [
      "False\n",
      "True\n"
     ]
    }
   ],
   "source": [
    "print(bool(result_match))\n",
    "print(bool(result_search))"
   ]
  },
  {
   "cell_type": "markdown",
   "metadata": {},
   "source": [
    "### Elements of patterns"
   ]
  },
  {
   "cell_type": "code",
   "execution_count": 47,
   "metadata": {
    "collapsed": false
   },
   "outputs": [
    {
     "data": {
      "text/plain": [
       "<_sre.SRE_Match object; span=(0, 6), match='Python'>"
      ]
     },
     "execution_count": 47,
     "metadata": {},
     "output_type": "execute_result"
    }
   ],
   "source": [
    "# search at the beginning: ^\n",
    "# search at the end: $\n",
    "\n",
    "text = \"Python is a lot of fun\"\n",
    "\n",
    "pattern = re.compile(\"^Python\")\n",
    "pattern.search(text)"
   ]
  },
  {
   "cell_type": "code",
   "execution_count": 48,
   "metadata": {
    "collapsed": false
   },
   "outputs": [
    {
     "name": "stdout",
     "output_type": "stream",
     "text": [
      "False\n",
      "True\n",
      "True\n",
      "False\n"
     ]
    }
   ],
   "source": [
    "pattern = re.compile(\"^is\")\n",
    "print(bool(pattern.search(text)))\n",
    "\n",
    "pattern = re.compile(\"is\")\n",
    "print(bool(pattern.search(text)))\n",
    "\n",
    "pattern = re.compile(\"lot\")\n",
    "print(bool(pattern.search(text)))\n",
    "\n",
    "pattern = re.compile(\"lot$\")\n",
    "print(bool(pattern.search(text)))"
   ]
  },
  {
   "cell_type": "code",
   "execution_count": 49,
   "metadata": {
    "collapsed": false
   },
   "outputs": [],
   "source": [
    "# \\d: any numeric digit\n",
    "\n",
    "phone_num = \"(800) 456-567\""
   ]
  },
  {
   "cell_type": "code",
   "execution_count": 50,
   "metadata": {
    "collapsed": false
   },
   "outputs": [
    {
     "name": "stdout",
     "output_type": "stream",
     "text": [
      "True\n",
      "False\n",
      "True\n"
     ]
    }
   ],
   "source": [
    "# there is a numeric character in the string\n",
    "pattern = re.compile(\"\\d\")\n",
    "print(bool(pattern.search(phone_num)))\n",
    "\n",
    "# it does not begin with one\n",
    "pattern = re.compile(\"^\\d\")\n",
    "print(bool(pattern.search(phone_num)))\n",
    "\n",
    "# it does end with one\n",
    "pattern = re.compile(\"\\d$\")\n",
    "print(bool(pattern.search(phone_num)))"
   ]
  },
  {
   "cell_type": "code",
   "execution_count": 51,
   "metadata": {
    "collapsed": false
   },
   "outputs": [
    {
     "name": "stdout",
     "output_type": "stream",
     "text": [
      "True\n",
      "False\n",
      "True\n",
      "True\n"
     ]
    }
   ],
   "source": [
    "# x*: x is present zero or more times\n",
    "# x+: x is present one or more times\n",
    "\n",
    "phone_num_1 = \"(800) 456-567\"\n",
    "phone_num_2 = \"800 456-567\"\n",
    "\n",
    "# the parenthesis has to be escaped with a backslash: parenthesis are special characters in regex\n",
    "# if we want to tell Python that we are looking for a parenthesis in the text, we have to use\n",
    "# \\( \\)\n",
    "pattern_plus = re.compile(\"\\(+\\d\\d\\d\\)+\")\n",
    "pattern_star = re.compile(\"\\(*\\d\\d\\d\\)*\")\n",
    "\n",
    "print(bool(pattern_plus.search(phone_num_1)))\n",
    "print(bool(pattern_plus.search(phone_num_2)))\n",
    "\n",
    "print(bool(pattern_star.search(phone_num_1)))\n",
    "print(bool(pattern_star.search(phone_num_2)))"
   ]
  },
  {
   "cell_type": "code",
   "execution_count": 52,
   "metadata": {
    "collapsed": false
   },
   "outputs": [
    {
     "name": "stdout",
     "output_type": "stream",
     "text": [
      "True\n",
      "False\n",
      "True\n"
     ]
    }
   ],
   "source": [
    "# {n}: match exactly n times\n",
    "# {n,m}: match at least n times, not more than m times\n",
    "\n",
    "phone_num_1 = \"(800) 456-567\"\n",
    "phone_num_2 = \"(36) 345-456\"\n",
    "\n",
    "pattern = re.compile(\"\\(\\d{3}\\) \\d{3}-\\d{3}\")\n",
    "print(bool(pattern.search(phone_num_1)))\n",
    "print(bool(pattern.search(phone_num_2)))\n",
    "\n",
    "# - now allow for 2 or 3 digits in the area code\n",
    "pattern = re.compile(\"\\(\\d{2,3}\\) \\d{3}-\\d{3}\")\n",
    "print(bool(pattern.search(phone_num_2)))"
   ]
  },
  {
   "cell_type": "code",
   "execution_count": 53,
   "metadata": {
    "collapsed": false
   },
   "outputs": [
    {
     "name": "stdout",
     "output_type": "stream",
     "text": [
      "True\n",
      "True\n"
     ]
    }
   ],
   "source": [
    "# (a|b|c): matches either a or b or c\n",
    "\n",
    "phone_number_1 = \"36-234-345\"\n",
    "phone_number_2 = \"HUN-234-567\"\n",
    "\n",
    "# [A-z] matches any alphabetic character\n",
    "\n",
    "pattern = re.compile(\"(\\d+|[A-z]+)-\\d{3}-\\d{3}\")\n",
    "print(bool(pattern.search(phone_number_1)))\n",
    "print(bool(pattern.search(phone_number_2)))"
   ]
  },
  {
   "cell_type": "code",
   "execution_count": 54,
   "metadata": {
    "collapsed": false
   },
   "outputs": [
    {
     "name": "stdout",
     "output_type": "stream",
     "text": [
      "<class 'tuple'>\n",
      "('36', '234', '345')\n"
     ]
    }
   ],
   "source": [
    "# (x) is stored as a group, you can get the matched value with the `.groups()` method when using `re.search`\n",
    "\n",
    "phone_number_1 = \"36-234-345\"\n",
    "phone_number_2 = \"HUN-234-567\"\n",
    "\n",
    "# \\w means alphanumeric character: either numeric or alphabetic\n",
    "pattern = re.compile(\"(\\w+)-(\\d{3})-(\\d{3})\")\n",
    "\n",
    "gr = pattern.search(phone_number_1).groups()\n",
    "print(type(gr))\n",
    "print(gr)"
   ]
  },
  {
   "cell_type": "code",
   "execution_count": 75,
   "metadata": {
    "collapsed": false
   },
   "outputs": [
    {
     "name": "stdout",
     "output_type": "stream",
     "text": [
      "Area is HUN\n",
      "First part of the number is 234\n",
      "Second part of the number is 567\n"
     ]
    }
   ],
   "source": [
    "gr = pattern.search(phone_number_2).groups()\n",
    "print(\"Area is {}\".format(gr[0]))\n",
    "print(\"First part of the number is {}\".format(gr[1]))\n",
    "print(\"Second part of the number is {}\".format(gr[2]))"
   ]
  },
  {
   "cell_type": "code",
   "execution_count": 80,
   "metadata": {
    "collapsed": false
   },
   "outputs": [
    {
     "name": "stdout",
     "output_type": "stream",
     "text": [
      "<class 'dict'>\n",
      "{'area': 'HUN', 'first_part': '234', 'second_part': '567'}\n"
     ]
    }
   ],
   "source": [
    "# groups can be retrieved as dictionaries, too.\n",
    "\n",
    "pattern = re.compile(\"(?P<area>\\w+)-(?P<first_part>\\d{3})-(?P<second_part>\\d{3})\")\n",
    "gr = pattern.search(phone_number_2).groupdict()\n",
    "\n",
    "print(type(gr))\n",
    "print(gr)"
   ]
  },
  {
   "cell_type": "markdown",
   "metadata": {},
   "source": [
    "There is a lot more into regular expressions. Google is your friend!"
   ]
  },
  {
   "cell_type": "markdown",
   "metadata": {},
   "source": [
    "## urllib.request"
   ]
  },
  {
   "cell_type": "markdown",
   "metadata": {},
   "source": [
    "`urllib` is a module used to interact with web pages. We will use the module solely to retrieve a web page as an HTML text, but again, there is a lot more to this module."
   ]
  },
  {
   "cell_type": "code",
   "execution_count": 56,
   "metadata": {
    "collapsed": false
   },
   "outputs": [],
   "source": [
    "from urllib.request import urlopen"
   ]
  },
  {
   "cell_type": "code",
   "execution_count": 57,
   "metadata": {
    "collapsed": false
   },
   "outputs": [],
   "source": [
    "url = \"http://scores.espn.go.com/nba/boxscore?gameId=400579201\"\n",
    "\n",
    "response = urlopen(url)\n",
    "html_text = response.read()"
   ]
  },
  {
   "cell_type": "markdown",
   "metadata": {},
   "source": [
    "## Beautiful Soup"
   ]
  },
  {
   "cell_type": "markdown",
   "metadata": {},
   "source": [
    "This is a module used to parse HTML files: make sense of its content, extract relevant fields, etc. We are again scratching just the surface here. For more, see the book [Web Scraping with Python](http://shop.oreilly.com/product/0636920034391.do) on which this part is based.\n",
    "\n",
    "* where is the name coming from? See [here](http://en.wikipedia.org/wiki/Beautiful_Soup)"
   ]
  },
  {
   "cell_type": "code",
   "execution_count": 58,
   "metadata": {
    "collapsed": false
   },
   "outputs": [],
   "source": [
    "from bs4 import BeautifulSoup"
   ]
  },
  {
   "cell_type": "code",
   "execution_count": 59,
   "metadata": {
    "collapsed": false
   },
   "outputs": [
    {
     "name": "stderr",
     "output_type": "stream",
     "text": [
      "/home/paljenczy/anaconda3/lib/python3.5/site-packages/bs4/__init__.py:166: UserWarning: No parser was explicitly specified, so I'm using the best available HTML parser for this system (\"lxml\"). This usually isn't a problem, but if you run this code on another system, or in a different virtual environment, it may use a different parser and behave differently.\n",
      "\n",
      "To get rid of this warning, change this:\n",
      "\n",
      " BeautifulSoup([your markup])\n",
      "\n",
      "to this:\n",
      "\n",
      " BeautifulSoup([your markup], \"lxml\")\n",
      "\n",
      "  markup_type=markup_type))\n"
     ]
    }
   ],
   "source": [
    "url = \"http://pythonscraping.com/pages/page1.html\"\n",
    "\n",
    "# go and check this url! use Right click -> Inspect element to discover what kind of tags\n",
    "# enclose information you are looking for\n",
    "\n",
    "response = urlopen(url)\n",
    "html_text = response.read()\n",
    "\n",
    "soup = BeautifulSoup(html_text)"
   ]
  },
  {
   "cell_type": "code",
   "execution_count": 60,
   "metadata": {
    "collapsed": true
   },
   "outputs": [],
   "source": [
    "# set the default xml reader:\n",
    "\n",
    "def BS(html):\n",
    "    \"\"\"\n",
    "    Overcome annoying warning message: set the html parser\n",
    "    \"\"\"\n",
    "    return BeautifulSoup(html, \"lxml\")\n",
    "\n",
    "soup = BS(html_text)"
   ]
  },
  {
   "cell_type": "markdown",
   "metadata": {},
   "source": [
    "If you want to parse parts of a webpage, you have to closely inspect its structure. A great way to do that is (when using Chrome): `Right click - Inspect element`. Then you can go deeper and deeper to the tree structure to reach the information you want. This way you can observe how information is embedded and you can use Beautiful Soup to search for that information. Information is always contained within tags and using the tree structure of tags and their attributes to define the paths you are searching for, you can get the information you need."
   ]
  },
  {
   "cell_type": "code",
   "execution_count": 62,
   "metadata": {
    "collapsed": false
   },
   "outputs": [
    {
     "name": "stdout",
     "output_type": "stream",
     "text": [
      "<h1>An Interesting Title</h1>\n",
      "<class 'bs4.element.Tag'>\n"
     ]
    }
   ],
   "source": [
    "# we can get the first h1 tag\n",
    "print(soup.h1)\n",
    "print(type(soup.h1))"
   ]
  },
  {
   "cell_type": "code",
   "execution_count": 63,
   "metadata": {
    "collapsed": false
   },
   "outputs": [
    {
     "name": "stdout",
     "output_type": "stream",
     "text": [
      "<h1>An Interesting Title</h1>\n",
      "<h1>An Interesting Title</h1>\n"
     ]
    }
   ],
   "source": [
    "# this is identical to\n",
    "\n",
    "print(soup.body.h1)\n",
    "print(soup.html.body.h1)"
   ]
  },
  {
   "cell_type": "markdown",
   "metadata": {},
   "source": [
    "### Searching for tags by attribute values"
   ]
  },
  {
   "cell_type": "code",
   "execution_count": 64,
   "metadata": {
    "collapsed": false
   },
   "outputs": [],
   "source": [
    "url = \"http://www.pythonscraping.com/pages/warandpeace.html\"\n",
    "response = urlopen(url)\n",
    "html_text = response.read()\n",
    "soup = BS(html_text)"
   ]
  },
  {
   "cell_type": "markdown",
   "metadata": {},
   "source": [
    "Use `findAll` to find all tags given in the first argument (can be one element or a set), having either one of the attributes represented by a dictionary of key-value pairs."
   ]
  },
  {
   "cell_type": "code",
   "execution_count": 65,
   "metadata": {
    "collapsed": false
   },
   "outputs": [
    {
     "name": "stdout",
     "output_type": "stream",
     "text": [
      "Anna\n",
      "Pavlovna Scherer\n",
      "Empress Marya\n",
      "Fedorovna\n",
      "Prince Vasili Kuragin\n",
      "Anna Pavlovna\n",
      "St. Petersburg\n",
      "the prince\n",
      "Anna Pavlovna\n",
      "Anna Pavlovna\n",
      "the prince\n",
      "the prince\n",
      "the prince\n",
      "Prince Vasili\n",
      "Anna Pavlovna\n",
      "Anna Pavlovna\n",
      "the prince\n",
      "Wintzingerode\n",
      "King of Prussia\n",
      "le Vicomte de Mortemart\n",
      "Montmorencys\n",
      "Rohans\n",
      "Abbe Morio\n",
      "the Emperor\n",
      "the prince\n",
      "Prince Vasili\n",
      "Dowager Empress Marya Fedorovna\n",
      "the baron\n",
      "Anna Pavlovna\n",
      "the Empress\n",
      "the Empress\n",
      "Anna Pavlovna's\n",
      "Her Majesty\n",
      "Baron\n",
      "Funke\n",
      "The prince\n",
      "Anna\n",
      "Pavlovna\n",
      "the Empress\n",
      "The prince\n",
      "Anatole\n",
      "the prince\n",
      "The prince\n",
      "Anna\n",
      "Pavlovna\n",
      "Anna Pavlovna\n"
     ]
    }
   ],
   "source": [
    "# green text are character names\n",
    "\n",
    "# find all <span> tags with attribute class equal to \"green\"\n",
    "name_list = soup.findAll(\"span\", {\"class\": \"green\"})\n",
    "for name in name_list:\n",
    "    print(name.get_text())   # use .get_text() to find text contained within a tag"
   ]
  },
  {
   "cell_type": "markdown",
   "metadata": {},
   "source": [
    "### Searching tags based on their position"
   ]
  },
  {
   "cell_type": "markdown",
   "metadata": {},
   "source": [
    "Children: tags one level below the current one. Descendants are _somewhere_ below the current one. (That is, all children are descendants but not all descendants are children.)"
   ]
  },
  {
   "cell_type": "code",
   "execution_count": 66,
   "metadata": {
    "collapsed": true
   },
   "outputs": [],
   "source": [
    "def url_to_BS(url):\n",
    "    response = urlopen(url)\n",
    "    html_text = response.read()\n",
    "    soup = BS(html_text)\n",
    "    return soup\n",
    "\n",
    "url = \"http://www.pythonscraping.com/pages/page3.html\"\n",
    "soup = url_to_BS(url)"
   ]
  },
  {
   "cell_type": "code",
   "execution_count": 67,
   "metadata": {
    "collapsed": true
   },
   "outputs": [],
   "source": [
    "# \"find\" finds the first occurence\n",
    "bs_table = soup.find(\"table\", {\"id\": \"giftList\"})"
   ]
  },
  {
   "cell_type": "code",
   "execution_count": 68,
   "metadata": {
    "collapsed": false
   },
   "outputs": [
    {
     "name": "stdout",
     "output_type": "stream",
     "text": [
      "\n",
      "\n",
      "<tr><th>\n",
      "Item Title\n",
      "</th><th>\n",
      "Description\n",
      "</th><th>\n",
      "Cost\n",
      "</th><th>\n",
      "Image\n",
      "</th></tr>\n",
      "\n",
      "\n",
      "<tr class=\"gift\" id=\"gift1\"><td>\n",
      "Vegetable Basket\n",
      "</td><td>\n",
      "This vegetable basket is the perfect gift for your health conscious (or overweight) friends!\n",
      "<span class=\"excitingNote\">Now with super-colorful bell peppers!</span>\n",
      "</td><td>\n",
      "$15.00\n",
      "</td><td>\n",
      "<img src=\"../img/gifts/img1.jpg\"/>\n",
      "</td></tr>\n",
      "\n",
      "\n",
      "<tr class=\"gift\" id=\"gift2\"><td>\n",
      "Russian Nesting Dolls\n",
      "</td><td>\n",
      "Hand-painted by trained monkeys, these exquisite dolls are priceless! And by \"priceless,\" we mean \"extremely expensive\"! <span class=\"excitingNote\">8 entire dolls per set! Octuple the presents!</span>\n",
      "</td><td>\n",
      "$10,000.52\n",
      "</td><td>\n",
      "<img src=\"../img/gifts/img2.jpg\"/>\n",
      "</td></tr>\n",
      "\n",
      "\n",
      "<tr class=\"gift\" id=\"gift3\"><td>\n",
      "Fish Painting\n",
      "</td><td>\n",
      "If something seems fishy about this painting, it's because it's a fish! <span class=\"excitingNote\">Also hand-painted by trained monkeys!</span>\n",
      "</td><td>\n",
      "$10,005.00\n",
      "</td><td>\n",
      "<img src=\"../img/gifts/img3.jpg\"/>\n",
      "</td></tr>\n",
      "\n",
      "\n",
      "<tr class=\"gift\" id=\"gift4\"><td>\n",
      "Dead Parrot\n",
      "</td><td>\n",
      "This is an ex-parrot! <span class=\"excitingNote\">Or maybe he's only resting?</span>\n",
      "</td><td>\n",
      "$0.50\n",
      "</td><td>\n",
      "<img src=\"../img/gifts/img4.jpg\"/>\n",
      "</td></tr>\n",
      "\n",
      "\n",
      "<tr class=\"gift\" id=\"gift5\"><td>\n",
      "Mystery Box\n",
      "</td><td>\n",
      "If you love suprises, this mystery box is for you! Do not place on light-colored surfaces. May cause oil staining. <span class=\"excitingNote\">Keep your friends guessing!</span>\n",
      "</td><td>\n",
      "$1.50\n",
      "</td><td>\n",
      "<img src=\"../img/gifts/img6.jpg\"/>\n",
      "</td></tr>\n",
      "\n",
      "\n"
     ]
    }
   ],
   "source": [
    "for child in bs_table.children:\n",
    "    print(child)"
   ]
  },
  {
   "cell_type": "code",
   "execution_count": 69,
   "metadata": {
    "collapsed": false
   },
   "outputs": [
    {
     "name": "stdout",
     "output_type": "stream",
     "text": [
      "13\n",
      "86\n"
     ]
    }
   ],
   "source": [
    "# there are much more descendants than children: all the nested things appear there separately\n",
    "\n",
    "print(len(list(bs_table.children)))\n",
    "print(len(list(bs_table.descendants)))"
   ]
  },
  {
   "cell_type": "markdown",
   "metadata": {},
   "source": [
    "Siblings are tags that sit on the same level."
   ]
  },
  {
   "cell_type": "code",
   "execution_count": 70,
   "metadata": {
    "collapsed": false
   },
   "outputs": [
    {
     "data": {
      "text/plain": [
       "<tr><th>\n",
       "Item Title\n",
       "</th><th>\n",
       "Description\n",
       "</th><th>\n",
       "Cost\n",
       "</th><th>\n",
       "Image\n",
       "</th></tr>"
      ]
     },
     "execution_count": 70,
     "metadata": {},
     "output_type": "execute_result"
    }
   ],
   "source": [
    "bs_table.tr"
   ]
  },
  {
   "cell_type": "code",
   "execution_count": 71,
   "metadata": {
    "collapsed": false
   },
   "outputs": [
    {
     "name": "stdout",
     "output_type": "stream",
     "text": [
      "\n",
      "\n",
      "<tr class=\"gift\" id=\"gift1\"><td>\n",
      "Vegetable Basket\n",
      "</td><td>\n",
      "This vegetable basket is the perfect gift for your health conscious (or overweight) friends!\n",
      "<span class=\"excitingNote\">Now with super-colorful bell peppers!</span>\n",
      "</td><td>\n",
      "$15.00\n",
      "</td><td>\n",
      "<img src=\"../img/gifts/img1.jpg\"/>\n",
      "</td></tr>\n",
      "\n",
      "\n",
      "<tr class=\"gift\" id=\"gift2\"><td>\n",
      "Russian Nesting Dolls\n",
      "</td><td>\n",
      "Hand-painted by trained monkeys, these exquisite dolls are priceless! And by \"priceless,\" we mean \"extremely expensive\"! <span class=\"excitingNote\">8 entire dolls per set! Octuple the presents!</span>\n",
      "</td><td>\n",
      "$10,000.52\n",
      "</td><td>\n",
      "<img src=\"../img/gifts/img2.jpg\"/>\n",
      "</td></tr>\n",
      "\n",
      "\n",
      "<tr class=\"gift\" id=\"gift3\"><td>\n",
      "Fish Painting\n",
      "</td><td>\n",
      "If something seems fishy about this painting, it's because it's a fish! <span class=\"excitingNote\">Also hand-painted by trained monkeys!</span>\n",
      "</td><td>\n",
      "$10,005.00\n",
      "</td><td>\n",
      "<img src=\"../img/gifts/img3.jpg\"/>\n",
      "</td></tr>\n",
      "\n",
      "\n",
      "<tr class=\"gift\" id=\"gift4\"><td>\n",
      "Dead Parrot\n",
      "</td><td>\n",
      "This is an ex-parrot! <span class=\"excitingNote\">Or maybe he's only resting?</span>\n",
      "</td><td>\n",
      "$0.50\n",
      "</td><td>\n",
      "<img src=\"../img/gifts/img4.jpg\"/>\n",
      "</td></tr>\n",
      "\n",
      "\n",
      "<tr class=\"gift\" id=\"gift5\"><td>\n",
      "Mystery Box\n",
      "</td><td>\n",
      "If you love suprises, this mystery box is for you! Do not place on light-colored surfaces. May cause oil staining. <span class=\"excitingNote\">Keep your friends guessing!</span>\n",
      "</td><td>\n",
      "$1.50\n",
      "</td><td>\n",
      "<img src=\"../img/gifts/img6.jpg\"/>\n",
      "</td></tr>\n",
      "\n",
      "\n"
     ]
    }
   ],
   "source": [
    "# with next_siblings we can get subsequent tags at the same level of the tree.\n",
    "# similarly, there is previous_siblings, too.\n",
    "for sibling in bs_table.tr.next_siblings:\n",
    "    print(sibling)"
   ]
  },
  {
   "cell_type": "markdown",
   "metadata": {},
   "source": [
    "### Searching tags based on regular expressions"
   ]
  },
  {
   "cell_type": "markdown",
   "metadata": {},
   "source": [
    "Using regular expressions our search queries can become more refined."
   ]
  },
  {
   "cell_type": "code",
   "execution_count": 72,
   "metadata": {
    "collapsed": false
   },
   "outputs": [
    {
     "data": {
      "text/plain": [
       "[<img src=\"../img/gifts/img1.jpg\"/>,\n",
       " <img src=\"../img/gifts/img2.jpg\"/>,\n",
       " <img src=\"../img/gifts/img3.jpg\"/>,\n",
       " <img src=\"../img/gifts/img4.jpg\"/>,\n",
       " <img src=\"../img/gifts/img6.jpg\"/>]"
      ]
     },
     "execution_count": 72,
     "metadata": {},
     "output_type": "execute_result"
    }
   ],
   "source": [
    "import re\n",
    "\n",
    "soup.findAll(\"img\", {\"src\": re.compile(\"\\.\\.\\/img\\/gifts\\/img.*\\.jpg\")})"
   ]
  },
  {
   "cell_type": "markdown",
   "metadata": {},
   "source": [
    "### Access attribute values of tags"
   ]
  },
  {
   "cell_type": "markdown",
   "metadata": {},
   "source": [
    "Many times we are looking for information within a tag that we found. We have already seen `.get_text()` to get the text enclosed within a tag. Attribute values can be retrieved, too."
   ]
  },
  {
   "cell_type": "code",
   "execution_count": 73,
   "metadata": {
    "collapsed": false
   },
   "outputs": [
    {
     "name": "stdout",
     "output_type": "stream",
     "text": [
      "<class 'bs4.element.Tag'>\n"
     ]
    }
   ],
   "source": [
    "image_tags = soup.find(\"img\", {\"src\": re.compile(\"\\.\\.\\/img\\/gifts\\/img.*\\.jpg\")})\n",
    "\n",
    "print(type(image_tags))"
   ]
  },
  {
   "cell_type": "code",
   "execution_count": 74,
   "metadata": {
    "collapsed": false
   },
   "outputs": [
    {
     "data": {
      "text/plain": [
       "'../img/gifts/img1.jpg'"
      ]
     },
     "execution_count": 74,
     "metadata": {},
     "output_type": "execute_result"
    }
   ],
   "source": [
    "# access attribute values like in a dictionary\n",
    "\n",
    "image_tags[\"src\"]"
   ]
  }
 ],
 "metadata": {
  "kernelspec": {
   "display_name": "Python 3",
   "language": "python",
   "name": "python3"
  },
  "language_info": {
   "codemirror_mode": {
    "name": "ipython",
    "version": 3
   },
   "file_extension": ".py",
   "mimetype": "text/x-python",
   "name": "python",
   "nbconvert_exporter": "python",
   "pygments_lexer": "ipython3",
   "version": "3.5.1"
  }
 },
 "nbformat": 4,
 "nbformat_minor": 0
}
