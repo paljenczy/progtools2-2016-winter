{
 "cells": [
  {
   "cell_type": "markdown",
   "metadata": {},
   "source": [
    "# Introduction to Python\n",
    "## Programming tools, 2016 Winter semester, CEU\n",
    "_Jeno Pal_, Jan-Feb 2016"
   ]
  },
  {
   "cell_type": "markdown",
   "metadata": {},
   "source": [
    "## Outline\n",
    "\n",
    "* [Functions](#functions)\n",
    "* [File Input-Output](#fileio)\n",
    "* [Debugging](#debugging)\n",
    "* [Coding style: PEP 8](#pep8)"
   ]
  },
  {
   "cell_type": "markdown",
   "metadata": {},
   "source": [
    "## Functions"
   ]
  },
  {
   "cell_type": "markdown",
   "metadata": {},
   "source": [
    "Functions are objects that take inputs, do some calculations and possibly return an output.\n",
    "__They are essential and should be used all the time.__ Why?\n",
    "\n",
    "* they let you be organized and logical: ideally you should break whatever you do into small, easily testable pieces\n",
    "* abstraction is key: you should not repeat yourself, ever\n",
    "    * easier to modify later, easier to fix bugs"
   ]
  },
  {
   "cell_type": "markdown",
   "metadata": {},
   "source": [
    "### Built-in functions"
   ]
  },
  {
   "cell_type": "markdown",
   "metadata": {},
   "source": [
    "You have already seen some examples!"
   ]
  },
  {
   "cell_type": "code",
   "execution_count": 1,
   "metadata": {
    "collapsed": false
   },
   "outputs": [
    {
     "name": "stdout",
     "output_type": "stream",
     "text": [
      "True\n",
      "10\n",
      "42\n"
     ]
    }
   ],
   "source": [
    "# any\n",
    "print(any([1, 1, 0]))\n",
    "\n",
    "# len\n",
    "print(len(range(10)))\n",
    "\n",
    "# str\n",
    "print(str(42))"
   ]
  },
  {
   "cell_type": "markdown",
   "metadata": {},
   "source": [
    "You can get information in IPython by typing the function's name and a \"?\""
   ]
  },
  {
   "cell_type": "code",
   "execution_count": 2,
   "metadata": {
    "collapsed": false
   },
   "outputs": [],
   "source": [
    "len?"
   ]
  },
  {
   "cell_type": "markdown",
   "metadata": {},
   "source": [
    "These are functions that are loaded whenever you start Python - you don't have to import anyting so that you can use them. The list of built-in functions are [here](https://docs.python.org/2/library/functions.html)."
   ]
  },
  {
   "cell_type": "markdown",
   "metadata": {},
   "source": [
    "### User-defined functions"
   ]
  },
  {
   "cell_type": "markdown",
   "metadata": {},
   "source": [
    "Beyond these built-in functions, you can create your own functions, too. This is a power that sets you free. :)\n",
    "The syntax is\n",
    "\n",
    "```\n",
    "def name_of_function(arguments):\n",
    "    \"\"\"\n",
    "    docstring\n",
    "    \"\"\"\n",
    "    code block\n",
    "    return something\n",
    "```\n",
    "Arguments are optional, as well as return statements."
   ]
  },
  {
   "cell_type": "markdown",
   "metadata": {},
   "source": [
    "Let's see some examples!"
   ]
  },
  {
   "cell_type": "code",
   "execution_count": 3,
   "metadata": {
    "collapsed": false
   },
   "outputs": [
    {
     "name": "stdout",
     "output_type": "stream",
     "text": [
      "Hello Mary, how are you today?\n",
      "Hello John, how are you today?\n"
     ]
    }
   ],
   "source": [
    "# greet\n",
    "\n",
    "def greeting(name):\n",
    "    \"\"\"\n",
    "    Greet someone with the name \"name\"\n",
    "    \"\"\"\n",
    "    print(\"Hello {}, how are you today?\".format(name))\n",
    "    \n",
    "# this function has one argument, name\n",
    "# it does not return anything\n",
    "\n",
    "greeting(\"Mary\")\n",
    "greeting(\"John\")"
   ]
  },
  {
   "cell_type": "code",
   "execution_count": 4,
   "metadata": {
    "collapsed": false
   },
   "outputs": [
    {
     "name": "stdout",
     "output_type": "stream",
     "text": [
      "Hello Adele, how are you today?\n",
      "Hello Meghan, how are you today?\n",
      "Hello Katy, how are you today?\n",
      "Hello Taylor, how are you today?\n"
     ]
    }
   ],
   "source": [
    "# functions can be used inside other functions\n",
    "\n",
    "def greet_people(list_people):\n",
    "    \"\"\"\n",
    "    Greet a list of people\n",
    "    \"\"\"\n",
    "    for name in list_people:\n",
    "        greeting(name)\n",
    "        \n",
    "greet_people([\"Adele\", \"Meghan\", \"Katy\", \"Taylor\"])"
   ]
  },
  {
   "cell_type": "code",
   "execution_count": 5,
   "metadata": {
    "collapsed": false
   },
   "outputs": [
    {
     "name": "stdout",
     "output_type": "stream",
     "text": [
      "<class 'function'>\n"
     ]
    }
   ],
   "source": [
    "# inspect for a moment these functions\n",
    "print(type(greeting))\n",
    "\n",
    "greeting?"
   ]
  },
  {
   "cell_type": "code",
   "execution_count": 6,
   "metadata": {
    "collapsed": false
   },
   "outputs": [],
   "source": [
    "greeting??"
   ]
  },
  {
   "cell_type": "markdown",
   "metadata": {},
   "source": [
    "Docstrings are available when someone asks for help.\n",
    "\n",
    "* apart from very small, self-explanatory functions you should always include a docstring, describing in one sentence\n",
    "what the function does\n",
    "* it is best to include a description of the arguments and their types"
   ]
  },
  {
   "cell_type": "markdown",
   "metadata": {},
   "source": [
    "Python functions are very flexible:\n",
    "    \n",
    "* functions may have no, several or even a variable number of arguments\n",
    "* functions may have arbitrary number of return statements: even zero\n",
    "    * execution is stopped at the first return statement\n",
    "* functions can be defined within functions\n",
    "* functions can be arguments or return values of other functions"
   ]
  },
  {
   "cell_type": "code",
   "execution_count": 7,
   "metadata": {
    "collapsed": false
   },
   "outputs": [
    {
     "name": "stdout",
     "output_type": "stream",
     "text": [
      ":-) :-D\n"
     ]
    }
   ],
   "source": [
    "# a function without arguments\n",
    "\n",
    "def print_smileys():\n",
    "    \"\"\" This function prints smileys\"\"\"\n",
    "    print(\":-) :-D\")\n",
    "    \n",
    "print_smileys()"
   ]
  },
  {
   "cell_type": "code",
   "execution_count": 8,
   "metadata": {
    "collapsed": false
   },
   "outputs": [
    {
     "name": "stdout",
     "output_type": "stream",
     "text": [
      "True\n",
      "False\n"
     ]
    }
   ],
   "source": [
    "# a function with multiple return statements\n",
    "# --- only the first one hit is executed\n",
    "def is_even(num):\n",
    "    \"\"\"\n",
    "    Check if a number is even or odd.\n",
    "    \"\"\"\n",
    "    if num % 2 == 0:\n",
    "        return True\n",
    "    else:\n",
    "        return False\n",
    "    \n",
    "print(is_even(2))\n",
    "print(is_even(3))"
   ]
  },
  {
   "cell_type": "code",
   "execution_count": 9,
   "metadata": {
    "collapsed": false
   },
   "outputs": [
    {
     "name": "stdout",
     "output_type": "stream",
     "text": [
      "foo\n",
      "foo\n"
     ]
    }
   ],
   "source": [
    "def print_foo():\n",
    "    print(\"foo\")\n",
    "    \n",
    "# a function that takes a function as argument\n",
    "\n",
    "def do_twice(f):\n",
    "    f()\n",
    "    f()\n",
    "    \n",
    "\n",
    "do_twice(print_foo)"
   ]
  },
  {
   "cell_type": "markdown",
   "metadata": {},
   "source": [
    "### Functions have their own namespaces"
   ]
  },
  {
   "cell_type": "markdown",
   "metadata": {},
   "source": [
    "You can pass arguments to a function and define variables within a function. Important thing is that they will only exist _within_ the function, after execution you can't access their values any more."
   ]
  },
  {
   "cell_type": "code",
   "execution_count": 10,
   "metadata": {
    "collapsed": false
   },
   "outputs": [
    {
     "name": "stdout",
     "output_type": "stream",
     "text": [
      "2\n",
      "3\n",
      "3\n"
     ]
    },
    {
     "ename": "NameError",
     "evalue": "name 'b' is not defined",
     "output_type": "error",
     "traceback": [
      "\u001b[1;31m---------------------------------------------------------------------------\u001b[0m",
      "\u001b[1;31mNameError\u001b[0m                                 Traceback (most recent call last)",
      "\u001b[1;32m<ipython-input-10-c092921ad1d5>\u001b[0m in \u001b[0;36m<module>\u001b[1;34m()\u001b[0m\n\u001b[0;32m      9\u001b[0m \u001b[1;33m\u001b[0m\u001b[0m\n\u001b[0;32m     10\u001b[0m \u001b[1;31m# after the execution is done, you can't access b any more - you get an error\u001b[0m\u001b[1;33m\u001b[0m\u001b[1;33m\u001b[0m\u001b[0m\n\u001b[1;32m---> 11\u001b[1;33m \u001b[0mprint\u001b[0m\u001b[1;33m(\u001b[0m\u001b[0mb\u001b[0m\u001b[1;33m)\u001b[0m\u001b[1;33m\u001b[0m\u001b[0m\n\u001b[0m",
      "\u001b[1;31mNameError\u001b[0m: name 'b' is not defined"
     ]
    }
   ],
   "source": [
    "def foo(a, y):\n",
    "    # a and y exist here, are passed as arguments\n",
    "    print(a)\n",
    "    print(y)\n",
    "    b = a + 1\n",
    "    print(b)\n",
    "\n",
    "foo(2, 3)\n",
    "\n",
    "# after the execution is done, you can't access b any more - you get an error\n",
    "print(b)"
   ]
  },
  {
   "cell_type": "markdown",
   "metadata": {},
   "source": [
    "### Keyword arguments"
   ]
  },
  {
   "cell_type": "markdown",
   "metadata": {},
   "source": [
    "A function may have special types of arguments called _keyword arguments_. The arguments you've seen so far are called _positional arguments_."
   ]
  },
  {
   "cell_type": "markdown",
   "metadata": {},
   "source": [
    "Positional arguments are determined by their positions: first, second, third... "
   ]
  },
  {
   "cell_type": "code",
   "execution_count": 11,
   "metadata": {
    "collapsed": false
   },
   "outputs": [
    {
     "name": "stdout",
     "output_type": "stream",
     "text": [
      "[3, 4, 5]\n",
      "[]\n"
     ]
    }
   ],
   "source": [
    "# the order defines the role of the inputs\n",
    "\n",
    "# range(a, b): an iterator over integer numbers in the interval [a, b)\n",
    "# turn to list with list()\n",
    "print(list(range(3, 6)))\n",
    "# if a > b, it is an empty list\n",
    "print(list(range(6, 3)))"
   ]
  },
  {
   "cell_type": "markdown",
   "metadata": {},
   "source": [
    "Keyword arguments are named, you can pass values by the `f(arg_name=value)` syntax."
   ]
  },
  {
   "cell_type": "code",
   "execution_count": 12,
   "metadata": {
    "collapsed": false
   },
   "outputs": [
    {
     "name": "stdout",
     "output_type": "stream",
     "text": [
      "[3, 4, 5]\n",
      "[3, 4, 5]\n"
     ]
    }
   ],
   "source": [
    "# write a version of range with named arguments!\n",
    "\n",
    "def kw_range(from_num=0, to_num=0):\n",
    "    return list(range(from_num, to_num))\n",
    "\n",
    "print(kw_range(from_num=3, to_num=6))\n",
    "\n",
    "# order does not matter\n",
    "print(kw_range(to_num=6, from_num=3))"
   ]
  },
  {
   "cell_type": "code",
   "execution_count": 13,
   "metadata": {
    "collapsed": false
   },
   "outputs": [
    {
     "name": "stdout",
     "output_type": "stream",
     "text": [
      "[0, 1, 2, 3, 4]\n",
      "[-2, -1]\n",
      "[]\n"
     ]
    }
   ],
   "source": [
    "# the function definition involves default values for the named parameters\n",
    "print(kw_range(to_num=5))\n",
    "print(kw_range(from_num=-2))\n",
    "print(kw_range())"
   ]
  },
  {
   "cell_type": "markdown",
   "metadata": {},
   "source": [
    "Keyword arguments are useful if there are many parameters whose order is hard to remember. The default values are also useful: many times you use function with inputs that are largely unchanged. Then using the usual value as default saves typing."
   ]
  },
  {
   "cell_type": "markdown",
   "metadata": {},
   "source": [
    "<a id='fileio'></a>"
   ]
  },
  {
   "cell_type": "markdown",
   "metadata": {},
   "source": [
    "## File Input-Output"
   ]
  },
  {
   "cell_type": "markdown",
   "metadata": {},
   "source": [
    "Reading and writing files is essential since data is stored in files."
   ]
  },
  {
   "cell_type": "markdown",
   "metadata": {},
   "source": [
    "### Basic reading and writing"
   ]
  },
  {
   "cell_type": "markdown",
   "metadata": {},
   "source": [
    "Let's create a new file, write text into it and save it."
   ]
  },
  {
   "cell_type": "code",
   "execution_count": 15,
   "metadata": {
    "collapsed": false
   },
   "outputs": [],
   "source": [
    "# this creates a new file object: open's first argument is the file's name, \"w: is for writing\n",
    "f = open(\"newfile.txt\", \"w\")                \n",
    "\n",
    "# the file object's write method takes a string and writes it. \"\\n\" is a newline character.\n",
    "f.write(\"Hello World!\\n\")\n",
    "f.write(\"Python is a lot of fun!\")\n",
    "\n",
    "# if we open a file object, we have to close it, too. Upon closing, it gets saved.\n",
    "f.close()"
   ]
  },
  {
   "cell_type": "markdown",
   "metadata": {},
   "source": [
    "Let's read the file we've just created"
   ]
  },
  {
   "cell_type": "code",
   "execution_count": 16,
   "metadata": {
    "collapsed": false
   },
   "outputs": [
    {
     "name": "stdout",
     "output_type": "stream",
     "text": [
      "Hello World!\n",
      "\n",
      "Python is a lot of fun!\n"
     ]
    }
   ],
   "source": [
    "# f is again a file object, \"r\" stands for reading\n",
    "f = open(\"newfile.txt\", \"r\")\n",
    "\n",
    "# most of the times we want to read a file line-by-line.\n",
    "# you can iterate on f to get the lines!\n",
    "for line in f:\n",
    "    print(line)\n",
    "    \n",
    "# we have to close the file\n",
    "f.close()"
   ]
  },
  {
   "cell_type": "markdown",
   "metadata": {},
   "source": [
    "You can actually spare on always having to remember closing the file with the `with -- as` statement. I use this all the time."
   ]
  },
  {
   "cell_type": "code",
   "execution_count": 17,
   "metadata": {
    "collapsed": false
   },
   "outputs": [
    {
     "name": "stdout",
     "output_type": "stream",
     "text": [
      "Hello World!\n",
      "\n",
      "Python is a lot of fun!\n"
     ]
    }
   ],
   "source": [
    "with open(\"newfile.txt\", \"r\") as f_in:\n",
    "    for line in f_in:\n",
    "        print(line)"
   ]
  },
  {
   "cell_type": "code",
   "execution_count": 18,
   "metadata": {
    "collapsed": false
   },
   "outputs": [
    {
     "name": "stdout",
     "output_type": "stream",
     "text": [
      "Santa\n",
      "\n",
      "Claus\n",
      "\n",
      "is\n",
      "\n",
      "coming\n",
      "\n",
      "to\n",
      "\n",
      "town!\n",
      "\n"
     ]
    }
   ],
   "source": [
    "with open(\"newfile_2.txt\", \"w\") as f_out:\n",
    "    for text in [\"Santa\", \"Claus\", \"is\", \"coming\", \"to\", \"town!\"]:\n",
    "        f_out.write(text + \"\\n\")\n",
    "        \n",
    "with open(\"newfile_2.txt\", \"r\") as f_in:\n",
    "    for line in f_in:\n",
    "        print(line)"
   ]
  },
  {
   "cell_type": "markdown",
   "metadata": {},
   "source": [
    "### Paths"
   ]
  },
  {
   "cell_type": "markdown",
   "metadata": {},
   "source": [
    "OK - where is the \"newfile.txt\" file stored? In the current working directory (cwd). What is that?\n",
    "\n",
    "* in IPython, you can get that by typing `pwd`\n",
    "* alternatively:"
   ]
  },
  {
   "cell_type": "code",
   "execution_count": 19,
   "metadata": {
    "collapsed": false
   },
   "outputs": [
    {
     "data": {
      "text/plain": [
       "'/home/paljenczy/Dropbox/Programming_Tools/Winter2016/progtools2-2016-winter/code'"
      ]
     },
     "execution_count": 19,
     "metadata": {},
     "output_type": "execute_result"
    }
   ],
   "source": [
    "import os\n",
    "os.getcwd()"
   ]
  },
  {
   "cell_type": "markdown",
   "metadata": {},
   "source": [
    "You can specify where you want to store a new file by specifying a path to it.\n",
    "\n",
    "* absolute path: the full path to the file\n",
    "* relative path: the path relative to the current working directory"
   ]
  },
  {
   "cell_type": "code",
   "execution_count": 20,
   "metadata": {
    "collapsed": false
   },
   "outputs": [
    {
     "data": {
      "text/plain": [
       "'/home/paljenczy/Dropbox/Programming_Tools/Winter2016/progtools2-2016-winter/code'"
      ]
     },
     "execution_count": 20,
     "metadata": {},
     "output_type": "execute_result"
    }
   ],
   "source": [
    "pwd"
   ]
  },
  {
   "cell_type": "markdown",
   "metadata": {},
   "source": [
    "You can change the current working directory\n",
    "\n",
    "* in IPython, use `cd`"
   ]
  },
  {
   "cell_type": "markdown",
   "metadata": {},
   "source": [
    "You can list the content of the current working directory by `ls` in Ipython."
   ]
  },
  {
   "cell_type": "markdown",
   "metadata": {},
   "source": [
    "### The csv module"
   ]
  },
  {
   "cell_type": "markdown",
   "metadata": {},
   "source": [
    "#### Simple writing and reading"
   ]
  },
  {
   "cell_type": "markdown",
   "metadata": {},
   "source": [
    "Data is best stored as text files as opposed to application-specific file formats (e.g., `.dta` in Stata). It's better because it can be read by many applications (including Stata) - and even humans, too."
   ]
  },
  {
   "cell_type": "markdown",
   "metadata": {},
   "source": [
    "`.csv` stands for [comma (or character) separated values](#http://en.wikipedia.org/wiki/Comma-separated_values) and is a plain text file that contains rows with fields separated by a fixed character (comma or tab most of the times).\n",
    "\n",
    "* example: \"../Data/UNRATE.csv\": go and open it with a text editor"
   ]
  },
  {
   "cell_type": "markdown",
   "metadata": {},
   "source": [
    "Python's `csv` module allows us to work with .csv files. Remember to import it!"
   ]
  },
  {
   "cell_type": "code",
   "execution_count": 21,
   "metadata": {
    "collapsed": false
   },
   "outputs": [
    {
     "name": "stdout",
     "output_type": "stream",
     "text": [
      "DATE,VALUE\n",
      "\n",
      "1948-01-01,3.4\n",
      "\n",
      "1948-02-01,3.8\n",
      "\n",
      "1948-03-01,4.0\n",
      "\n",
      "1948-04-01,3.9\n",
      "\n",
      "1948-05-01,3.5\n",
      "\n",
      "1948-06-01,3.6\n",
      "\n",
      "1948-07-01,3.6\n",
      "\n",
      "1948-08-01,3.9\n",
      "\n",
      "1948-09-01,3.8\n",
      "\n",
      "1948-10-01,3.7\n",
      "\n"
     ]
    }
   ],
   "source": [
    "# read a .csv file with the previous method and print its first 10 lines\n",
    "# reads each line as one string\n",
    "with open(\"../data/UNRATE.csv\", \"r\") as f:\n",
    "    count = 0\n",
    "    for line in f:\n",
    "        print(line)\n",
    "        count += 1\n",
    "        if count > 10:\n",
    "            break"
   ]
  },
  {
   "cell_type": "code",
   "execution_count": 22,
   "metadata": {
    "collapsed": false
   },
   "outputs": [
    {
     "name": "stdout",
     "output_type": "stream",
     "text": [
      "['DATE', 'VALUE']\n",
      "['1948-01-01', '3.4']\n",
      "['1948-02-01', '3.8']\n",
      "['1948-03-01', '4.0']\n",
      "['1948-04-01', '3.9']\n",
      "['1948-05-01', '3.5']\n",
      "['1948-06-01', '3.6']\n",
      "['1948-07-01', '3.6']\n",
      "['1948-08-01', '3.9']\n",
      "['1948-09-01', '3.8']\n",
      "['1948-10-01', '3.7']\n"
     ]
    }
   ],
   "source": [
    "import csv \n",
    "\n",
    "# read a .csv file with the csv module's reader\n",
    "with open(\"../data/UNRATE.csv\", \"r\") as f:\n",
    "    reader = csv.reader(f, delimiter=\",\")\n",
    "    count = 0\n",
    "    for line in reader:\n",
    "        print(line)\n",
    "        count += 1\n",
    "        if count > 10:\n",
    "            break"
   ]
  },
  {
   "cell_type": "markdown",
   "metadata": {},
   "source": [
    "So we can iterate on the reader. Why is it better than iterating on the open file like before?\n",
    "\n",
    "* `csv` recognizes that it is a .csv file and separates lines on the delimiting character\n",
    "* reads lines as a list"
   ]
  },
  {
   "cell_type": "code",
   "execution_count": 23,
   "metadata": {
    "collapsed": false
   },
   "outputs": [],
   "source": [
    "import csv\n",
    "\n",
    "# writing: collect data to be written to list of lists\n",
    "# one list: one row\n",
    "countries_capitals = [[\"Hungary\", \"Budapest\"], [\"Poland\", \"Warsaw\"], [\"Croatia\", \"Zagreb\"]]\n",
    "\n",
    "with open(\"../data/countries_capitals.csv\", \"w\") as f_out:\n",
    "    # this time we use a tab for delimiting\n",
    "    writer = csv.writer(f_out, delimiter=\"\\t\")\n",
    "    # write a header row\n",
    "    writer.writerow([\"country\", \"capital\"])\n",
    "    for c_c in countries_capitals:\n",
    "        writer.writerow(c_c)"
   ]
  },
  {
   "cell_type": "markdown",
   "metadata": {},
   "source": [
    "#### DictReader, DictWriter"
   ]
  },
  {
   "cell_type": "markdown",
   "metadata": {},
   "source": [
    "If you have a .csv file, it may be convenient to read each row as a dictionary: field names as keys and the respective field values as values. You can also use a list of dicts to be written."
   ]
  },
  {
   "cell_type": "code",
   "execution_count": 24,
   "metadata": {
    "collapsed": false
   },
   "outputs": [
    {
     "name": "stdout",
     "output_type": "stream",
     "text": [
      "<class 'dict'>\n",
      "{'country': 'Hungary', 'capital': 'Budapest'}\n",
      "<class 'dict'>\n",
      "{'country': 'Poland', 'capital': 'Warsaw'}\n",
      "<class 'dict'>\n",
      "{'country': 'Croatia', 'capital': 'Zagreb'}\n"
     ]
    }
   ],
   "source": [
    "# Let's read in the country file we've just written\n",
    "\n",
    "with open(\"../data/countries_capitals.csv\", \"r\") as f_in:\n",
    "    d_reader = csv.DictReader(f_in, delimiter=\"\\t\")\n",
    "    for xx in d_reader:\n",
    "        print(type(xx))\n",
    "        print(xx)"
   ]
  },
  {
   "cell_type": "code",
   "execution_count": 25,
   "metadata": {
    "collapsed": false
   },
   "outputs": [],
   "source": [
    "# writing is similar: you have the data in a list of dicts \n",
    "countries_data = [{\"country\":\"Hungary\", \"capital\": \"Budapest\", \"currency\": \"Forint\"}, \n",
    "                  {\"country\":\"Poland\",  \"capital\": \"Warsaw\", \"currency\": \"Zloty\"}, \n",
    "                  {\"country\": \"Croatia\", \"capital\": \"Zagreb\", \"currency\": \"Kuna\"}]\n",
    "                       \n",
    "# an important thing: you have to specify a fieldnames argument, a list\n",
    "# which fields will be written (order is also set)\n",
    "with open(\"../data/coutries_capitals_currencies.csv\", \"w\") as f_out:\n",
    "    d_writer = csv.DictWriter(f_out, fieldnames=[\"country\", \"currency\", \"capital\"])\n",
    "    # header is written: fieldnames\n",
    "    d_writer.writeheader()\n",
    "    for dd in countries_data:\n",
    "        d_writer.writerow(dd)"
   ]
  },
  {
   "cell_type": "markdown",
   "metadata": {},
   "source": [
    "## Debugging"
   ]
  },
  {
   "cell_type": "markdown",
   "metadata": {},
   "source": [
    "A large chunk of time when writing code is spent on fixing things that don't work - debugging."
   ]
  },
  {
   "cell_type": "markdown",
   "metadata": {},
   "source": [
    "### Easy but useful: printing"
   ]
  },
  {
   "cell_type": "markdown",
   "metadata": {},
   "source": [
    "A not-so-sophisticated but sometimes useful method is to print out variables to see what's going on inside your code (e.g., what values does a variable have in a loop?). It's ok to do that but it's not very effective."
   ]
  },
  {
   "cell_type": "markdown",
   "metadata": {},
   "source": [
    "### IPython's `debug` magic and pdb"
   ]
  },
  {
   "cell_type": "markdown",
   "metadata": {},
   "source": [
    "Let's try to write a function that takes a dict of data and prints a message based on it."
   ]
  },
  {
   "cell_type": "code",
   "execution_count": 49,
   "metadata": {
    "collapsed": false
   },
   "outputs": [],
   "source": [
    "def print_country_info(d_info):\n",
    "    \"\"\"\n",
    "    Based on a dictionary containing infos, this function prints\n",
    "    a sentence about a country.\n",
    "    \"\"\"\n",
    "    print(\"The capital of {} is {}\".format(d_info[\"country\"], d_info[\"capital\"]))"
   ]
  },
  {
   "cell_type": "code",
   "execution_count": 54,
   "metadata": {
    "collapsed": false
   },
   "outputs": [],
   "source": [
    "# an example dictionary\n",
    "d_info = {\"country\": \"Switzerland\", \"capitol\": \"Bern\"}"
   ]
  },
  {
   "cell_type": "code",
   "execution_count": 55,
   "metadata": {
    "collapsed": false
   },
   "outputs": [
    {
     "ename": "KeyError",
     "evalue": "'capital'",
     "output_type": "error",
     "traceback": [
      "\u001b[1;31m---------------------------------------------------------------------------\u001b[0m",
      "\u001b[1;31mKeyError\u001b[0m                                  Traceback (most recent call last)",
      "\u001b[1;32m<ipython-input-55-3cfcc839fc7a>\u001b[0m in \u001b[0;36m<module>\u001b[1;34m()\u001b[0m\n\u001b[0;32m      1\u001b[0m \u001b[1;31m# try to use our function\u001b[0m\u001b[1;33m\u001b[0m\u001b[1;33m\u001b[0m\u001b[0m\n\u001b[1;32m----> 2\u001b[1;33m \u001b[0mprint_country_info\u001b[0m\u001b[1;33m(\u001b[0m\u001b[0md_info\u001b[0m\u001b[1;33m)\u001b[0m\u001b[1;33m\u001b[0m\u001b[0m\n\u001b[0m",
      "\u001b[1;32m<ipython-input-49-385d06509084>\u001b[0m in \u001b[0;36mprint_country_info\u001b[1;34m(d_info)\u001b[0m\n\u001b[0;32m      4\u001b[0m     \u001b[0ma\u001b[0m \u001b[0msentence\u001b[0m \u001b[0mabout\u001b[0m \u001b[0ma\u001b[0m \u001b[0mcountry\u001b[0m\u001b[1;33m.\u001b[0m\u001b[1;33m\u001b[0m\u001b[0m\n\u001b[0;32m      5\u001b[0m     \"\"\"\n\u001b[1;32m----> 6\u001b[1;33m     \u001b[0mprint\u001b[0m\u001b[1;33m(\u001b[0m\u001b[1;34m\"The capital of {} is {}\"\u001b[0m\u001b[1;33m.\u001b[0m\u001b[0mformat\u001b[0m\u001b[1;33m(\u001b[0m\u001b[0md_info\u001b[0m\u001b[1;33m[\u001b[0m\u001b[1;34m\"country\"\u001b[0m\u001b[1;33m]\u001b[0m\u001b[1;33m,\u001b[0m \u001b[0md_info\u001b[0m\u001b[1;33m[\u001b[0m\u001b[1;34m\"capital\"\u001b[0m\u001b[1;33m]\u001b[0m\u001b[1;33m)\u001b[0m\u001b[1;33m)\u001b[0m\u001b[1;33m\u001b[0m\u001b[0m\n\u001b[0m",
      "\u001b[1;31mKeyError\u001b[0m: 'capital'"
     ]
    }
   ],
   "source": [
    "# try to use our function\n",
    "print_country_info(d_info)"
   ]
  },
  {
   "cell_type": "markdown",
   "metadata": {},
   "source": [
    "Whoops, we got an error. Why? Where did things go wrong? Now see the magic: type debug, then `Shift + Enter`"
   ]
  },
  {
   "cell_type": "code",
   "execution_count": 57,
   "metadata": {
    "collapsed": false
   },
   "outputs": [
    {
     "name": "stdout",
     "output_type": "stream",
     "text": [
      "> \u001b[1;32m<ipython-input-49-385d06509084>\u001b[0m(6)\u001b[0;36mprint_country_info\u001b[1;34m()\u001b[0m\n",
      "\u001b[1;32m      4 \u001b[1;33m    \u001b[0ma\u001b[0m \u001b[0msentence\u001b[0m \u001b[0mabout\u001b[0m \u001b[0ma\u001b[0m \u001b[0mcountry\u001b[0m\u001b[1;33m.\u001b[0m\u001b[1;33m\u001b[0m\u001b[0m\n",
      "\u001b[0m\u001b[1;32m      5 \u001b[1;33m    \"\"\"\n",
      "\u001b[0m\u001b[1;32m----> 6 \u001b[1;33m    \u001b[0mprint\u001b[0m\u001b[1;33m(\u001b[0m\u001b[1;34m\"The capital of {} is {}\"\u001b[0m\u001b[1;33m.\u001b[0m\u001b[0mformat\u001b[0m\u001b[1;33m(\u001b[0m\u001b[0md_info\u001b[0m\u001b[1;33m[\u001b[0m\u001b[1;34m\"country\"\u001b[0m\u001b[1;33m]\u001b[0m\u001b[1;33m,\u001b[0m \u001b[0md_info\u001b[0m\u001b[1;33m[\u001b[0m\u001b[1;34m\"capital\"\u001b[0m\u001b[1;33m]\u001b[0m\u001b[1;33m)\u001b[0m\u001b[1;33m)\u001b[0m\u001b[1;33m\u001b[0m\u001b[0m\n",
      "\u001b[0m\n",
      "ipdb> d_info\n",
      "{'country': 'Switzerland', 'capitol': 'Bern'}\n",
      "ipdb> q\n"
     ]
    }
   ],
   "source": [
    "debug"
   ]
  },
  {
   "cell_type": "markdown",
   "metadata": {},
   "source": [
    "You are put back to the code just before the error happens. This enables you to inspect variables, objects, play with them, to see what could go wrong.\n",
    "\n",
    "* this works when you execute code with IPython, and even here, in IPython Notebook"
   ]
  },
  {
   "cell_type": "markdown",
   "metadata": {},
   "source": [
    "## Coding style and PEP 8"
   ]
  },
  {
   "cell_type": "markdown",
   "metadata": {},
   "source": [
    "Coding style is a set of recommendations for how to write code.\n",
    "\n",
    "* you can give (almost) any name to a variable\n",
    "* but typically you don't want to\n",
    "* you want to help youself, your future self and others who read your code by writing according to some set of consistent rules"
   ]
  },
  {
   "cell_type": "code",
   "execution_count": 58,
   "metadata": {
    "collapsed": false
   },
   "outputs": [],
   "source": [
    "first_name = \"Jeno\"       # this uses the lowercase letter, underscore naming\n",
    "lastName = \"Pal\"          # this is called mixed case\n",
    "\n",
    "# both are similar variables - their names refer to that they might be different, can be misleading"
   ]
  },
  {
   "cell_type": "markdown",
   "metadata": {},
   "source": [
    "For Python, you want to adhere to a set of rules called [PEP8](https://www.python.org/dev/peps/pep-0008/). You should skim through it and try to gradually use these in your codes."
   ]
  },
  {
   "cell_type": "markdown",
   "metadata": {},
   "source": [
    "Type `import this` to the prompt to read more on Python philosophy!"
   ]
  },
  {
   "cell_type": "code",
   "execution_count": 59,
   "metadata": {
    "collapsed": false
   },
   "outputs": [
    {
     "name": "stdout",
     "output_type": "stream",
     "text": [
      "The Zen of Python, by Tim Peters\n",
      "\n",
      "Beautiful is better than ugly.\n",
      "Explicit is better than implicit.\n",
      "Simple is better than complex.\n",
      "Complex is better than complicated.\n",
      "Flat is better than nested.\n",
      "Sparse is better than dense.\n",
      "Readability counts.\n",
      "Special cases aren't special enough to break the rules.\n",
      "Although practicality beats purity.\n",
      "Errors should never pass silently.\n",
      "Unless explicitly silenced.\n",
      "In the face of ambiguity, refuse the temptation to guess.\n",
      "There should be one-- and preferably only one --obvious way to do it.\n",
      "Although that way may not be obvious at first unless you're Dutch.\n",
      "Now is better than never.\n",
      "Although never is often better than *right* now.\n",
      "If the implementation is hard to explain, it's a bad idea.\n",
      "If the implementation is easy to explain, it may be a good idea.\n",
      "Namespaces are one honking great idea -- let's do more of those!\n"
     ]
    }
   ],
   "source": [
    "import this"
   ]
  }
 ],
 "metadata": {
  "kernelspec": {
   "display_name": "Python 3",
   "language": "python",
   "name": "python3"
  },
  "language_info": {
   "codemirror_mode": {
    "name": "ipython",
    "version": 3
   },
   "file_extension": ".py",
   "mimetype": "text/x-python",
   "name": "python",
   "nbconvert_exporter": "python",
   "pygments_lexer": "ipython3",
   "version": "3.5.1"
  }
 },
 "nbformat": 4,
 "nbformat_minor": 0
}
