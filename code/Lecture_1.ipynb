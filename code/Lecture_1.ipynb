{
 "cells": [
  {
   "cell_type": "markdown",
   "metadata": {},
   "source": [
    "# Introduction to Python\n",
    "## Programming tools, 2016 Winter semester, CEU\n",
    "_Jeno Pal_, Jan-Feb 2016"
   ]
  },
  {
   "cell_type": "markdown",
   "metadata": {},
   "source": [
    "## Outline\n",
    "\n",
    "* [What is Python? Why should we use it?](#what_is_python)\n",
    "* [The working environment: Anaconda](#anaconda)\n",
    "* [Variables and data types](#variables_datatypes)\n",
    "* [Data containers: lists, tuples, dictionaries, sets](#data_containers)\n",
    "* [Programming structures: looping and conditional execution](#prog_structures)\n",
    "* [List and dict comprehensions](#listcomp)\n",
    "* [String methods](#stringmethods)\n",
    "* [Packages: import statements](#import_statements)"
   ]
  },
  {
   "cell_type": "markdown",
   "metadata": {},
   "source": [
    "<a id='what_is_python'></a>"
   ]
  },
  {
   "cell_type": "markdown",
   "metadata": {},
   "source": [
    "## What is Python? Why should we use it?"
   ]
  },
  {
   "cell_type": "markdown",
   "metadata": {},
   "source": [
    "Python is a general purpose programming language\n",
    "\n",
    "* as opposed to domain-specific languages like Stata\n",
    "* created by Guido van Rossum in the early 90's\n",
    "* versions: concurrently both 2 and 3 are used\n",
    "    * we will work with 3 (3.5.1)\n",
    "    * differences are not enormous\n",
    "    * a vast majority of packages are [already available](http://py3readiness.org/) for 3\n",
    "* homework: why the name?"
   ]
  },
  {
   "cell_type": "markdown",
   "metadata": {},
   "source": [
    "Wide variety of applications\n",
    "\n",
    "* web applications\n",
    "* game programming\n",
    "* __scientific computing__\n",
    "* __data analysis__\n",
    "\n",
    "Used by prominent organizations like Yahoo, NASA, Google ([see more](https://wiki.python.org/moin/OrganizationsUsingPython))\n",
    "* also very popular for the purpose of [teaching programming](http://cacm.acm.org/blogs/blog-cacm/176450-python-is-now-the-most-popular-introductory-teaching-language-at-top-us-universities/fulltext)\n",
    "    * very elegant, easy-to-read syntax"
   ]
  },
  {
   "cell_type": "markdown",
   "metadata": {},
   "source": [
    "Python has become ever more popular in the last decade - check [PYPL](http://pypl.github.io/PYPL.html)"
   ]
  },
  {
   "cell_type": "markdown",
   "metadata": {},
   "source": [
    "### Why do I need a language like Python? I already know Matlab and Stata!"
   ]
  },
  {
   "cell_type": "markdown",
   "metadata": {},
   "source": [
    "* Matlab and Stata are great in their domains: numerical computation and econometrics\n",
    "* there are many other tasks an economist wants to do these days\n",
    "    * getting data from the Internet\n",
    "    * structure and clean data that is messy, not well-structured\n",
    "    * do various types of analyses: standard econometrics, simulation, textual analysis, network analysis, machine learning techniques...\n",
    "        * Python offers various great libraries for all these purposes\n",
    "* moreover, unlike Matlab or Stata, it is _free_ ([not (only) in terms of money](http://en.wikipedia.org/wiki/Free_software))"
   ]
  },
  {
   "cell_type": "markdown",
   "metadata": {},
   "source": [
    "### Sources for learning"
   ]
  },
  {
   "cell_type": "markdown",
   "metadata": {},
   "source": [
    "* Where I learned Python from: [quant-econ.net](http://quant-econ.net) created by economists [John Stachurski](http://johnstachurski.net) and Nobel-laureate [Tom Sargent](https://files.nyu.edu/ts43/public/)\n",
    "    * also check out [John Stachurski's awesome book](http://amzn.com/0262012774)\n",
    "* [Software carpentry](http://swcarpentry.github.io/python-novice-inflammation/) is a nice place to get a strong basis\n",
    "* [Learn Python the hard way](http://learnpythonthehardway.org/) contains many drills and common mistakes\n",
    "* Google is your best friend if you run into a specific problem. Most probably you will end up finding a solution on the great [Stackoverflow](http://stackoverflow.com/). It is and endless source for learning."
   ]
  },
  {
   "cell_type": "markdown",
   "metadata": {},
   "source": [
    "<a id='anaconda'></a>"
   ]
  },
  {
   "cell_type": "markdown",
   "metadata": {},
   "source": [
    "## The working environment: Anaconda"
   ]
  },
  {
   "cell_type": "markdown",
   "metadata": {},
   "source": [
    "There are many ways to set up Python.\n",
    "\n",
    "* the core language is quite small\n",
    "* extensive number of libraries are there to use (see the [Python package index](https://pypi.python.org/pypi))"
   ]
  },
  {
   "cell_type": "markdown",
   "metadata": {},
   "source": [
    "[Anaconda](https://store.continuum.io/cshop/anaconda/): free, cross-platform (Windows, OSX, Linux) Python distribution\n",
    "\n",
    "* easy to use\n",
    "* comes with more libraries than you probably need - never mind for now\n",
    "  * lighter version: Miniconda - install packages you need one-by-one\n",
    "* excellent features for reproducibility - environments"
   ]
  },
  {
   "cell_type": "markdown",
   "metadata": {},
   "source": [
    "Packages or libraries are bundles of programs you can use for specific purposes."
   ]
  },
  {
   "cell_type": "markdown",
   "metadata": {},
   "source": [
    "### Workflow"
   ]
  },
  {
   "cell_type": "markdown",
   "metadata": {},
   "source": [
    "Two basic ways of writing code: using the __Jupyter (IPython) notebook__ or __script + shell__\n",
    "\n",
    "__Jupyter Notebook__\n",
    "* formerly called Ipython Notebook, now encompasses other languages like Ruby and Julia\n",
    "*  is perfect for presenting things (e.g., teaching), combining code\n",
    "with text and visualization\n",
    "* easy to share text, code and results in a visually appealing way (see [nbviewer](http://nbviewer.jupyter.org/))\n",
    "* also: __experimentation, exploration of data or code functionality__\n",
    "* use the Help to get keyboard shortcuts and a user interface tour\n",
    "    * `a`: add cell before, `b`: add cell below, `dd`: delete cell\n",
    "    * `Shift + Enter`: execute cell\n",
    "    * `Esc` and `Enter`: change between modes - `Enter` puts you into edit mode\n",
    "\n",
    "__Script and shell__\n",
    "\n",
    "* is useful for writing longer, more complex code\n",
    "* better for reproduction purposes\n",
    "* better if you share your work with the aim of others modifying it\n",
    "* Anaconda comes with an [IDE](http://en.wikipedia.org/wiki/Integrated_development_environment): Spyder\n",
    "    * let's go, open it"
   ]
  },
  {
   "cell_type": "markdown",
   "metadata": {},
   "source": [
    "We will use both methods in this course."
   ]
  },
  {
   "cell_type": "markdown",
   "metadata": {},
   "source": [
    "<a id='variables_datatypes'></a>"
   ]
  },
  {
   "cell_type": "markdown",
   "metadata": {},
   "source": [
    "## Variables and data types"
   ]
  },
  {
   "cell_type": "markdown",
   "metadata": {},
   "source": [
    "### Variables"
   ]
  },
  {
   "cell_type": "markdown",
   "metadata": {},
   "source": [
    "Variables are the basic cornerstones of Python. Variables are named places in the memory that contain a value. You can get the value by calling the variable's name."
   ]
  },
  {
   "cell_type": "code",
   "execution_count": 1,
   "metadata": {
    "collapsed": false
   },
   "outputs": [
    {
     "name": "stdout",
     "output_type": "stream",
     "text": [
      "2\n"
     ]
    }
   ],
   "source": [
    "# assign a value to a variable with \"=\"\n",
    "a = 2\n",
    "\n",
    "# now the name \"a\" is referring to a place in the memory, holding the value 2\n",
    "print(a)"
   ]
  },
  {
   "cell_type": "markdown",
   "metadata": {},
   "source": [
    "If there is a \"=\" symbol, its right hand side gets evaluated and is assigned to the left"
   ]
  },
  {
   "cell_type": "code",
   "execution_count": 2,
   "metadata": {
    "collapsed": false
   },
   "outputs": [],
   "source": [
    "b = a + 2\n",
    "\n",
    "# Guess the value of b!"
   ]
  },
  {
   "cell_type": "code",
   "execution_count": 3,
   "metadata": {
    "collapsed": false
   },
   "outputs": [
    {
     "name": "stdout",
     "output_type": "stream",
     "text": [
      "4\n"
     ]
    }
   ],
   "source": [
    "print(b)"
   ]
  },
  {
   "cell_type": "markdown",
   "metadata": {},
   "source": [
    "Based on this, a mindblowing thing in programming is updating a value"
   ]
  },
  {
   "cell_type": "code",
   "execution_count": 4,
   "metadata": {
    "collapsed": false
   },
   "outputs": [],
   "source": [
    "a = a + 2\n",
    "# the left side: the value of \"a\" is retrieved from memory, 2 gets added, and this resulting value is\n",
    "# attached to the name \"a\"\n",
    "\n",
    "# So, what is the value?"
   ]
  },
  {
   "cell_type": "code",
   "execution_count": 5,
   "metadata": {
    "collapsed": false
   },
   "outputs": [
    {
     "name": "stdout",
     "output_type": "stream",
     "text": [
      "4\n"
     ]
    }
   ],
   "source": [
    "print(a)"
   ]
  },
  {
   "cell_type": "code",
   "execution_count": 6,
   "metadata": {
    "collapsed": false
   },
   "outputs": [
    {
     "name": "stdout",
     "output_type": "stream",
     "text": [
      "4\n"
     ]
    }
   ],
   "source": [
    "# by the way, a useful shorthand\n",
    "a = 2\n",
    "\n",
    "a += 2          # \"x += something\" is equivalent to x = x + something\n",
    "\n",
    "print(a)"
   ]
  },
  {
   "cell_type": "markdown",
   "metadata": {},
   "source": [
    "### Data types"
   ]
  },
  {
   "cell_type": "markdown",
   "metadata": {},
   "source": [
    "#### Numbers"
   ]
  },
  {
   "cell_type": "markdown",
   "metadata": {},
   "source": [
    "Numbers are represented by integers or floats:"
   ]
  },
  {
   "cell_type": "code",
   "execution_count": 7,
   "metadata": {
    "collapsed": false
   },
   "outputs": [
    {
     "name": "stdout",
     "output_type": "stream",
     "text": [
      "2\n",
      "<class 'int'>\n"
     ]
    }
   ],
   "source": [
    "# integer\n",
    "\n",
    "x = 2           # the value 2 is assigned to variable x\n",
    "print(x)        # the value of the variable is accessible by using the variable name\n",
    "print(type(x))  # we can check its type by calling the function 'type'"
   ]
  },
  {
   "cell_type": "code",
   "execution_count": 8,
   "metadata": {
    "collapsed": false
   },
   "outputs": [
    {
     "name": "stdout",
     "output_type": "stream",
     "text": [
      "1.234\n",
      "<class 'float'>\n"
     ]
    }
   ],
   "source": [
    "# floating point numbers\n",
    "\n",
    "y = 1.234\n",
    "print(y)\n",
    "print(type(y))"
   ]
  },
  {
   "cell_type": "markdown",
   "metadata": {},
   "source": [
    "#### Strings"
   ]
  },
  {
   "cell_type": "markdown",
   "metadata": {},
   "source": [
    "To represent text, we use strings:"
   ]
  },
  {
   "cell_type": "code",
   "execution_count": 9,
   "metadata": {
    "collapsed": false
   },
   "outputs": [
    {
     "name": "stdout",
     "output_type": "stream",
     "text": [
      "Michael\n",
      "Jordan\n",
      "<class 'str'>\n"
     ]
    }
   ],
   "source": [
    "# strings\n",
    "first_name = \"Michael\"\n",
    "# goes with single quote, too\n",
    "last_name = 'Jordan'\n",
    "\n",
    "print(first_name)\n",
    "print(last_name)\n",
    "print(type(last_name))"
   ]
  },
  {
   "cell_type": "markdown",
   "metadata": {},
   "source": [
    "#### Booleans"
   ]
  },
  {
   "cell_type": "code",
   "execution_count": 10,
   "metadata": {
    "collapsed": false
   },
   "outputs": [
    {
     "name": "stdout",
     "output_type": "stream",
     "text": [
      "True\n",
      "<class 'bool'>\n"
     ]
    }
   ],
   "source": [
    "# logical values or booleans - True or False\n",
    "\n",
    "a = True\n",
    "b = False\n",
    "\n",
    "c = 2 < 3\n",
    "\n",
    "# Here first the right-hand side gets evaluated (2 is less than 3, so it is True)\n",
    "# then the resulting value (True, a bool) gets assigned to the variable c\n",
    "\n",
    "print(c)\n",
    "print(type(c))"
   ]
  },
  {
   "cell_type": "code",
   "execution_count": 11,
   "metadata": {
    "collapsed": false
   },
   "outputs": [
    {
     "name": "stdout",
     "output_type": "stream",
     "text": [
      "True and True is True\n",
      "True or False is True\n",
      "False and True is False\n"
     ]
    }
   ],
   "source": [
    "# Boolean algebra:\n",
    "\n",
    "print(\"True and True is {0}\".format(True and True))\n",
    "print(\"True or False is {0}\".format(True or False))\n",
    "print(\"False and True is {0}\".format(False and True))\n",
    "\n",
    "# and so on. Try more combinations!"
   ]
  },
  {
   "cell_type": "markdown",
   "metadata": {},
   "source": [
    "<a id='data_containers'></a>"
   ]
  },
  {
   "cell_type": "markdown",
   "metadata": {},
   "source": [
    "## Data containers: lists, tuples, dictionaries, sets"
   ]
  },
  {
   "cell_type": "markdown",
   "metadata": {},
   "source": [
    "__Lists__ contain several objects, the content can be modified."
   ]
  },
  {
   "cell_type": "code",
   "execution_count": 12,
   "metadata": {
    "collapsed": false
   },
   "outputs": [
    {
     "name": "stdout",
     "output_type": "stream",
     "text": [
      "<class 'list'>\n"
     ]
    }
   ],
   "source": [
    "a = [1, 2, 3]            # a list of integers\n",
    "print(type(a))"
   ]
  },
  {
   "cell_type": "code",
   "execution_count": 13,
   "metadata": {
    "collapsed": false
   },
   "outputs": [
    {
     "name": "stdout",
     "output_type": "stream",
     "text": [
      "1\n"
     ]
    }
   ],
   "source": [
    "print(a[0])              # indexing based on 0"
   ]
  },
  {
   "cell_type": "code",
   "execution_count": 14,
   "metadata": {
    "collapsed": false
   },
   "outputs": [
    {
     "name": "stdout",
     "output_type": "stream",
     "text": [
      "[1, 'foo', 3]\n"
     ]
    }
   ],
   "source": [
    "a[1] = \"foo\"             # reset a value; types can be mixed\n",
    "\n",
    "print(a)"
   ]
  },
  {
   "cell_type": "markdown",
   "metadata": {},
   "source": [
    "As you noted, lists can contain any types of values, even mixed. Lists can contain, for example, lists, too!"
   ]
  },
  {
   "cell_type": "code",
   "execution_count": 15,
   "metadata": {
    "collapsed": false
   },
   "outputs": [
    {
     "name": "stdout",
     "output_type": "stream",
     "text": [
      "['foo', 'bar', 'baz']\n",
      "bar\n"
     ]
    }
   ],
   "source": [
    "a = [\"hello\", 3, [\"foo\", \"bar\", \"baz\"], 3.45]\n",
    "print(a[2])\n",
    "\n",
    "# as a[2] is a list, you can access its elements by further indexation\n",
    "\n",
    "print(a[2][1])"
   ]
  },
  {
   "cell_type": "markdown",
   "metadata": {},
   "source": [
    "__Tuples__ are similar, but once created, content cannot be modified (_immutable_)"
   ]
  },
  {
   "cell_type": "code",
   "execution_count": 16,
   "metadata": {
    "collapsed": false
   },
   "outputs": [
    {
     "name": "stdout",
     "output_type": "stream",
     "text": [
      "(1, 2, 3)\n",
      "<class 'tuple'>\n"
     ]
    }
   ],
   "source": [
    "t = (1, 2, 3)            # brackets mark a tuple\n",
    "print(t)\n",
    "print(type(t)) "
   ]
  },
  {
   "cell_type": "code",
   "execution_count": 17,
   "metadata": {
    "collapsed": false
   },
   "outputs": [
    {
     "name": "stdout",
     "output_type": "stream",
     "text": [
      "(1, 2, 3)\n"
     ]
    }
   ],
   "source": [
    "t = 1, 2, 3             # without brackets it is the same\n",
    "print(t)"
   ]
  },
  {
   "cell_type": "code",
   "execution_count": 18,
   "metadata": {
    "collapsed": false
   },
   "outputs": [
    {
     "name": "stdout",
     "output_type": "stream",
     "text": [
      "1\n",
      "2\n"
     ]
    }
   ],
   "source": [
    "a, b = (1, 2)           # you can define multiple variables at once by unpacking a tuple\n",
    "\n",
    "print(a)\n",
    "print(b)"
   ]
  },
  {
   "cell_type": "code",
   "execution_count": 19,
   "metadata": {
    "collapsed": false
   },
   "outputs": [
    {
     "name": "stdout",
     "output_type": "stream",
     "text": [
      "1\n"
     ]
    }
   ],
   "source": [
    "print(t[0])             # access elements similarly to lists"
   ]
  },
  {
   "cell_type": "code",
   "execution_count": 20,
   "metadata": {
    "collapsed": false
   },
   "outputs": [
    {
     "ename": "TypeError",
     "evalue": "'tuple' object does not support item assignment",
     "output_type": "error",
     "traceback": [
      "\u001b[1;31m---------------------------------------------------------------------------\u001b[0m",
      "\u001b[1;31mTypeError\u001b[0m                                 Traceback (most recent call last)",
      "\u001b[1;32m<ipython-input-20-4623512ce433>\u001b[0m in \u001b[0;36m<module>\u001b[1;34m()\u001b[0m\n\u001b[1;32m----> 1\u001b[1;33m \u001b[0mt\u001b[0m\u001b[1;33m[\u001b[0m\u001b[1;36m0\u001b[0m\u001b[1;33m]\u001b[0m \u001b[1;33m=\u001b[0m \u001b[1;36m3\u001b[0m                \u001b[1;31m# you cannot modify its values: once set, remains that forever\u001b[0m\u001b[1;33m\u001b[0m\u001b[0m\n\u001b[0m",
      "\u001b[1;31mTypeError\u001b[0m: 'tuple' object does not support item assignment"
     ]
    }
   ],
   "source": [
    "t[0] = 3                # you cannot modify its values: once set, remains that forever"
   ]
  },
  {
   "cell_type": "markdown",
   "metadata": {},
   "source": [
    "Why is it useful? Why are not lists enough?\n",
    "\n",
    "* sometimes you want an object that it is not modified by accident for _safety_ reasons\n",
    "* tuples are faster if you work with very large containers"
   ]
  },
  {
   "cell_type": "markdown",
   "metadata": {},
   "source": [
    "__Dictionaries__ are a collection of key-value pairs.\n",
    "\n",
    "* imagine it as a lookup table\n",
    "* keys are unique\n",
    "* keys are typically strings or integers (can be tuples, too), values can be anything\n",
    "* important difference from lists and tuples: dictionaries are __unordered__\n",
    "    * you do not use indices to get values but the keys"
   ]
  },
  {
   "cell_type": "code",
   "execution_count": 21,
   "metadata": {
    "collapsed": false
   },
   "outputs": [
    {
     "data": {
      "text/plain": [
       "'John'"
      ]
     },
     "execution_count": 21,
     "metadata": {},
     "output_type": "execute_result"
    }
   ],
   "source": [
    "d = {\"first_name\": \"John\", \"last_name\": \"Doe\"}\n",
    "\n",
    "d[\"first_name\"]         # get the value corresponding to the key \"first_name\""
   ]
  },
  {
   "cell_type": "code",
   "execution_count": 22,
   "metadata": {
    "collapsed": false
   },
   "outputs": [
    {
     "data": {
      "text/plain": [
       "{'first_name': 'John', 'last_name': 'Doe', 'middle_name': 'Thomas'}"
      ]
     },
     "execution_count": 22,
     "metadata": {},
     "output_type": "execute_result"
    }
   ],
   "source": [
    "d[\"middle_name\"] = \"Thomas\"   # you can add more key-value pairs\n",
    "d"
   ]
  },
  {
   "cell_type": "code",
   "execution_count": 23,
   "metadata": {
    "collapsed": false
   },
   "outputs": [
    {
     "data": {
      "text/plain": [
       "{'first_name': 'Jonathan', 'last_name': 'Doe', 'middle_name': 'Thomas'}"
      ]
     },
     "execution_count": 23,
     "metadata": {},
     "output_type": "execute_result"
    }
   ],
   "source": [
    "d[\"first_name\"] = \"Jonathan\"   # you can modify values assigned to existing keys, too\n",
    "d"
   ]
  },
  {
   "cell_type": "code",
   "execution_count": 24,
   "metadata": {
    "collapsed": false
   },
   "outputs": [
    {
     "data": {
      "text/plain": [
       "{'first_name': 'Jonathan', 'last_name': 'Doe'}"
      ]
     },
     "execution_count": 24,
     "metadata": {},
     "output_type": "execute_result"
    }
   ],
   "source": [
    "del d[\"middle_name\"]          # this is how you delete a key-value pair\n",
    "d"
   ]
  },
  {
   "cell_type": "markdown",
   "metadata": {},
   "source": [
    "__Sets__ represent the mathematical notion of sets. "
   ]
  },
  {
   "cell_type": "code",
   "execution_count": 25,
   "metadata": {
    "collapsed": false
   },
   "outputs": [
    {
     "name": "stdout",
     "output_type": "stream",
     "text": [
      "{1, 2, 3}\n"
     ]
    }
   ],
   "source": [
    "s = set([1, 1, 1, 2, 3])      \n",
    "print(s)                      # elements are unique "
   ]
  },
  {
   "cell_type": "markdown",
   "metadata": {},
   "source": [
    "### Basic operations of data containers"
   ]
  },
  {
   "cell_type": "markdown",
   "metadata": {},
   "source": [
    "__Lists__"
   ]
  },
  {
   "cell_type": "code",
   "execution_count": 26,
   "metadata": {
    "collapsed": false
   },
   "outputs": [],
   "source": [
    "l = [1, 2, 3]"
   ]
  },
  {
   "cell_type": "code",
   "execution_count": 27,
   "metadata": {
    "collapsed": false
   },
   "outputs": [
    {
     "name": "stdout",
     "output_type": "stream",
     "text": [
      "3\n"
     ]
    }
   ],
   "source": [
    "length_l = len(l)                                  # get the length of the list\n",
    "print(length_l)"
   ]
  },
  {
   "cell_type": "code",
   "execution_count": 28,
   "metadata": {
    "collapsed": false
   },
   "outputs": [
    {
     "name": "stdout",
     "output_type": "stream",
     "text": [
      "[1, 2, 3, 4]\n"
     ]
    }
   ],
   "source": [
    "l.append(4)                                        # add an element to the end\n",
    "print(l)"
   ]
  },
  {
   "cell_type": "code",
   "execution_count": 29,
   "metadata": {
    "collapsed": false
   },
   "outputs": [
    {
     "name": "stdout",
     "output_type": "stream",
     "text": [
      "[3, 4, 5]\n"
     ]
    }
   ],
   "source": [
    "# Used many times in codes: define empty list, append values gradually\n",
    "x = []\n",
    "x.append(3)\n",
    "x.append(4)\n",
    "x.append(5)\n",
    "print(x)"
   ]
  },
  {
   "cell_type": "markdown",
   "metadata": {},
   "source": [
    "Explore further possibilities by typing the name of the list, a dot and hitting tab! \n",
    "\n",
    "* This is true for other ojects, too. IPython lists the methods available to the object."
   ]
  },
  {
   "cell_type": "code",
   "execution_count": 30,
   "metadata": {
    "collapsed": false
   },
   "outputs": [
    {
     "name": "stdout",
     "output_type": "stream",
     "text": [
      "[1, 2, 3, 4]\n"
     ]
    }
   ],
   "source": [
    "# You can concatenate lists by using the \"+\" operator\n",
    "\n",
    "a = [1, 2]\n",
    "b = [3, 4]\n",
    "c = a + b\n",
    "print(c)"
   ]
  },
  {
   "cell_type": "code",
   "execution_count": 31,
   "metadata": {
    "collapsed": false
   },
   "outputs": [
    {
     "name": "stdout",
     "output_type": "stream",
     "text": [
      "[1, 2, 1, 2, 1, 2]\n"
     ]
    }
   ],
   "source": [
    "# Multiplication means the same, in relation with \"+\": concatenate with itself n times\n",
    "\n",
    "a = [1, 2]\n",
    "b = 3*a\n",
    "print(b)"
   ]
  },
  {
   "cell_type": "markdown",
   "metadata": {},
   "source": [
    "Very useful functions that act on lists (and tuples) of boolean values: __any__ and __all__"
   ]
  },
  {
   "cell_type": "code",
   "execution_count": 32,
   "metadata": {
    "collapsed": false
   },
   "outputs": [
    {
     "name": "stdout",
     "output_type": "stream",
     "text": [
      "True\n",
      "False\n"
     ]
    }
   ],
   "source": [
    "# any returns True if any of the elements evaluates to True, False otherwise\n",
    "\n",
    "print(any([True, False, False]))\n",
    "print(any([False, False, False]))"
   ]
  },
  {
   "cell_type": "code",
   "execution_count": 33,
   "metadata": {
    "collapsed": false
   },
   "outputs": [
    {
     "name": "stdout",
     "output_type": "stream",
     "text": [
      "True\n"
     ]
    }
   ],
   "source": [
    "# non-boolean values are first coerced to Boolean\n",
    "print(any([0, 23, 0]))"
   ]
  },
  {
   "cell_type": "code",
   "execution_count": 34,
   "metadata": {
    "collapsed": false
   },
   "outputs": [
    {
     "name": "stdout",
     "output_type": "stream",
     "text": [
      "True\n",
      "False\n"
     ]
    }
   ],
   "source": [
    "# all returns True if all of the elements evaluates to True, False otherwise\n",
    "\n",
    "print(all([True, True]))\n",
    "print(all((True, False, False)))"
   ]
  },
  {
   "cell_type": "markdown",
   "metadata": {},
   "source": [
    "__Dictionaries__"
   ]
  },
  {
   "cell_type": "code",
   "execution_count": 35,
   "metadata": {
    "collapsed": false
   },
   "outputs": [],
   "source": [
    "d = {\"surname\": \"Doe\", \"first_name\": \"John\"}"
   ]
  },
  {
   "cell_type": "markdown",
   "metadata": {},
   "source": [
    "Again, let's use \"d.[TAB]\" to see what we can do with d! The most important are the followings."
   ]
  },
  {
   "cell_type": "code",
   "execution_count": 36,
   "metadata": {
    "collapsed": false
   },
   "outputs": [
    {
     "name": "stdout",
     "output_type": "stream",
     "text": [
      "True\n",
      "False\n"
     ]
    }
   ],
   "source": [
    "# You can check if a key is present in the dictionary\n",
    "print(\"surname\" in d)\n",
    "print(\"middle_name\" in d)"
   ]
  },
  {
   "cell_type": "code",
   "execution_count": 37,
   "metadata": {
    "collapsed": false
   },
   "outputs": [
    {
     "ename": "KeyError",
     "evalue": "'middle_name'",
     "output_type": "error",
     "traceback": [
      "\u001b[1;31m---------------------------------------------------------------------------\u001b[0m",
      "\u001b[1;31mKeyError\u001b[0m                                  Traceback (most recent call last)",
      "\u001b[1;32m<ipython-input-37-f047b876a350>\u001b[0m in \u001b[0;36m<module>\u001b[1;34m()\u001b[0m\n\u001b[0;32m      1\u001b[0m \u001b[1;31m# If you try to get the value for a non-existent key, you get an error\u001b[0m\u001b[1;33m\u001b[0m\u001b[1;33m\u001b[0m\u001b[0m\n\u001b[1;32m----> 2\u001b[1;33m \u001b[0md\u001b[0m\u001b[1;33m[\u001b[0m\u001b[1;34m\"middle_name\"\u001b[0m\u001b[1;33m]\u001b[0m\u001b[1;33m\u001b[0m\u001b[0m\n\u001b[0m",
      "\u001b[1;31mKeyError\u001b[0m: 'middle_name'"
     ]
    }
   ],
   "source": [
    "# If you try to get the value for a non-existent key, you get an error\n",
    "d[\"middle_name\"]"
   ]
  },
  {
   "cell_type": "code",
   "execution_count": 38,
   "metadata": {
    "collapsed": false
   },
   "outputs": [
    {
     "name": "stdout",
     "output_type": "stream",
     "text": [
      "John\n",
      "no middle name present\n"
     ]
    }
   ],
   "source": [
    "# A better way to get the value is the \".get\" method: returns the value if\n",
    "# the key is present and returns a default you can specify otherwise.\n",
    "\n",
    "a = d.get(\"first_name\", False)\n",
    "print(a)\n",
    "\n",
    "a = d.get(\"middle_name\", \"no middle name present\")\n",
    "print(a)"
   ]
  },
  {
   "cell_type": "code",
   "execution_count": 47,
   "metadata": {
    "collapsed": false
   },
   "outputs": [
    {
     "name": "stdout",
     "output_type": "stream",
     "text": [
      "dict_keys(['first_name', 'surname'])\n",
      "<class 'dict_keys'>\n",
      "dict_values(['John', 'Doe'])\n",
      "dict_items([('first_name', 'John'), ('surname', 'Doe')])\n",
      "[('first_name', 'John'), ('surname', 'Doe')]\n"
     ]
    },
    {
     "data": {
      "text/plain": [
       "list"
      ]
     },
     "execution_count": 47,
     "metadata": {},
     "output_type": "execute_result"
    }
   ],
   "source": [
    "# the keys and values can be retrieved as list-like objects\n",
    "# very useful if you want to go through them\n",
    "\n",
    "a = d.keys()\n",
    "print(a)\n",
    "print(type(a))\n",
    "\n",
    "b = d.values()\n",
    "print(b)\n",
    "\n",
    "# What's more, you can get the pairs, too. A list-like object of (key, value) tuples.\n",
    "c = d.items()\n",
    "print(c)\n",
    "\n",
    "# if needed, all these can be converted to a list via list()\n",
    "print(list(c))\n",
    "type(list(c))"
   ]
  },
  {
   "cell_type": "markdown",
   "metadata": {},
   "source": [
    "__Sets__"
   ]
  },
  {
   "cell_type": "markdown",
   "metadata": {},
   "source": [
    "Basic operations with the mathematical notion of sets are available in Python, too."
   ]
  },
  {
   "cell_type": "code",
   "execution_count": 54,
   "metadata": {
    "collapsed": false
   },
   "outputs": [
    {
     "name": "stdout",
     "output_type": "stream",
     "text": [
      "{4, 5, 6}\n",
      "{3, 4, 5}\n"
     ]
    }
   ],
   "source": [
    "# two syntactic ways to create sets\n",
    "a = set([4, 5, 6])\n",
    "b = {3, 4, 4, 5}\n",
    "\n",
    "print(a)\n",
    "print(b)"
   ]
  },
  {
   "cell_type": "code",
   "execution_count": 55,
   "metadata": {
    "collapsed": false
   },
   "outputs": [
    {
     "name": "stdout",
     "output_type": "stream",
     "text": [
      "{4, 5, 6, 7}\n",
      "{5, 6, 7}\n"
     ]
    }
   ],
   "source": [
    "# Again, use a.[TAB] to explore what methods a set has!\n",
    "\n",
    "a.add(7)                    # add an element to the set\n",
    "print(a)\n",
    "\n",
    "a.remove(4)                 # remove an element\n",
    "print(a)"
   ]
  },
  {
   "cell_type": "code",
   "execution_count": 56,
   "metadata": {
    "collapsed": false
   },
   "outputs": [
    {
     "name": "stdout",
     "output_type": "stream",
     "text": [
      "False\n",
      "False\n",
      "{'foo', 5, 6, 7, 8}\n",
      "{8, 'foo', 5, 6}\n"
     ]
    }
   ],
   "source": [
    "b = set([7, 8, \"foo\"])\n",
    "\n",
    "print(a.issubset(b))               # check relations of two sets like subset, superset\n",
    "print(a.issuperset(b))\n",
    "\n",
    "print(a.union(b))                  # set operations: union, intersection, difference, symmetric difference\n",
    "print(a.symmetric_difference(b))"
   ]
  },
  {
   "cell_type": "markdown",
   "metadata": {},
   "source": [
    "### Indexation"
   ]
  },
  {
   "cell_type": "markdown",
   "metadata": {},
   "source": [
    "Indexation is 0-based. You can use negative index values, too.\n",
    "This applies to list and tuples, too."
   ]
  },
  {
   "cell_type": "code",
   "execution_count": 58,
   "metadata": {
    "collapsed": false
   },
   "outputs": [
    {
     "name": "stdout",
     "output_type": "stream",
     "text": [
      "John\n",
      "Susan\n",
      "Susan\n"
     ]
    }
   ],
   "source": [
    "team = [\"Peter\", \"Susan\", \"Adam\", \"David\", \"Richard\", \"John\"]\n",
    "\n",
    "# Get the third member in alphabetical order!\n",
    "team.sort()\n",
    "print(team[2])\n",
    "\n",
    "# Get the last one in alphabetical order!\n",
    "print(team[-1])\n",
    "# Alternative solution:\n",
    "team.reverse()\n",
    "print(team[0])"
   ]
  },
  {
   "cell_type": "markdown",
   "metadata": {},
   "source": [
    "With ranges of indices, you can get slices of the list. First specified index is inclusive, second is exclusive: a[m:n] returns m - n values, starting from a[m]"
   ]
  },
  {
   "cell_type": "code",
   "execution_count": 59,
   "metadata": {
    "collapsed": false
   },
   "outputs": [
    {
     "name": "stdout",
     "output_type": "stream",
     "text": [
      "['Adam', 'David', 'John', 'Peter', 'Richard', 'Susan']\n",
      "['Adam', 'David']\n",
      "['David', 'John']\n",
      "['Adam', 'David', 'John', 'Peter', 'Richard']\n",
      "['Richard', 'Susan']\n"
     ]
    }
   ],
   "source": [
    "team.sort()\n",
    "print(team)\n",
    "\n",
    "print(team[:2])             # equivalent to 0:2: the 0 and 1 indices\n",
    "print(team[1:3])            # get the second and the third\n",
    "\n",
    "print(team[:-1])            # get everyting but the last one\n",
    "print(team[-2:])            # get the last two"
   ]
  },
  {
   "cell_type": "markdown",
   "metadata": {},
   "source": [
    "Slicing works with tuples and strings, too. Strings can be regarded as a list of characters."
   ]
  },
  {
   "cell_type": "code",
   "execution_count": 60,
   "metadata": {
    "collapsed": false
   },
   "outputs": [
    {
     "name": "stdout",
     "output_type": "stream",
     "text": [
      "('bar', 'baz')\n",
      "Pitt\n"
     ]
    }
   ],
   "source": [
    "a = (\"foo\", \"bar\", \"baz\")\n",
    "print(a[1:])\n",
    "\n",
    "name = \"Brad Pitt\"\n",
    "print(name[5:])"
   ]
  },
  {
   "cell_type": "markdown",
   "metadata": {},
   "source": [
    "<a id='prog_structures'></a>"
   ]
  },
  {
   "cell_type": "markdown",
   "metadata": {},
   "source": [
    "## Programming structures: looping and conditional execution"
   ]
  },
  {
   "cell_type": "markdown",
   "metadata": {},
   "source": [
    "### Conditional execution"
   ]
  },
  {
   "cell_type": "markdown",
   "metadata": {},
   "source": [
    "Execute statements only if a certain condition is satisfied. \n",
    "\n",
    "What is a condition? An expression evaluating to a Boolean: True or False."
   ]
  },
  {
   "cell_type": "code",
   "execution_count": 61,
   "metadata": {
    "collapsed": false
   },
   "outputs": [
    {
     "name": "stdout",
     "output_type": "stream",
     "text": [
      "<class 'bool'>\n",
      "True\n",
      "True\n",
      "True\n"
     ]
    }
   ],
   "source": [
    "# comparisons give conditions:\n",
    "a = 2 < 3\n",
    "print(type(a))\n",
    "print(a)\n",
    "\n",
    "# test of equality: == and non-equality: !=\n",
    "print(2 == 2)\n",
    "print(2 != 4)"
   ]
  },
  {
   "cell_type": "markdown",
   "metadata": {},
   "source": [
    "Conditions can be combined, more complex conditions can also be evaluated"
   ]
  },
  {
   "cell_type": "code",
   "execution_count": 62,
   "metadata": {
    "collapsed": false
   },
   "outputs": [
    {
     "name": "stdout",
     "output_type": "stream",
     "text": [
      "True\n",
      "False\n"
     ]
    }
   ],
   "source": [
    "# Boolean algebra\n",
    "# combine them with \"and\", \"or\", \"not\"\n",
    "\n",
    "b = (2 < 3) or (4 > 6)\n",
    "print(b)\n",
    "\n",
    "c = (len(\"foo\") == len(\"bar\")) and (not(2 < 3))\n",
    "print(c)"
   ]
  },
  {
   "cell_type": "markdown",
   "metadata": {},
   "source": [
    "\"in\" is a commonly used method for lists, tuples and sets, checking if an element is contained in the container. Works for strings, too!"
   ]
  },
  {
   "cell_type": "code",
   "execution_count": 64,
   "metadata": {
    "collapsed": false
   },
   "outputs": [
    {
     "name": "stdout",
     "output_type": "stream",
     "text": [
      "False\n",
      "True\n"
     ]
    }
   ],
   "source": [
    "# evaluates to Boolean, so it can be used as a condition\n",
    "\n",
    "s1 = set([2, 4, 6])\n",
    "a = 5 in s1\n",
    "print(a)\n",
    "\n",
    "print(\"Brad\" in \"Brad Pitt\")"
   ]
  },
  {
   "cell_type": "markdown",
   "metadata": {},
   "source": [
    "\"any\" and \"all\" are useful in many cases, too"
   ]
  },
  {
   "cell_type": "code",
   "execution_count": 65,
   "metadata": {
    "collapsed": false
   },
   "outputs": [
    {
     "data": {
      "text/plain": [
       "False"
      ]
     },
     "execution_count": 65,
     "metadata": {},
     "output_type": "execute_result"
    }
   ],
   "source": [
    "# John got three cakes in December on these days\n",
    "dates = [\"2012-12-11\", \"2012-12-12\", \"2012-12-13\"]\n",
    "\n",
    "# his birthday is on\n",
    "birthday = \"2012-12-20\"\n",
    "\n",
    "# did he get any of the cakes after his birthday?\n",
    "\n",
    "# create a list of booleans: are the dates later than the birthday?\n",
    "is_after_bday = [dates[0] > birthday, dates[1] > birthday, dates[2] > birthday]\n",
    "\n",
    "# note that we can compare strings with \">\": works for dates\n",
    "\n",
    "# check with \"any\"\n",
    "any(is_after_bday)"
   ]
  },
  {
   "cell_type": "markdown",
   "metadata": {},
   "source": [
    "Knowing now what a condition is, we can use those to execute codes based on the value of conditions with the __if - elif - else__ construction"
   ]
  },
  {
   "cell_type": "code",
   "execution_count": 66,
   "metadata": {
    "collapsed": false
   },
   "outputs": [
    {
     "name": "stdout",
     "output_type": "stream",
     "text": [
      "2 is less than 3\n"
     ]
    }
   ],
   "source": [
    "if 2 < 3:\n",
    "    print(\"2 is less than 3\")"
   ]
  },
  {
   "cell_type": "markdown",
   "metadata": {},
   "source": [
    "Notice the __indentation__: in Python, blocks of code are marked by indentation: 4 spaces\n",
    "\n",
    "* in other languages, special characters are used (e.g., curly braces in C)\n",
    "* in Python, the only thing that marks the beginning and the end of blocks of code is indentation\n",
    "* not only for visual appeal, this is the way the computer understands limits of code blocks"
   ]
  },
  {
   "cell_type": "markdown",
   "metadata": {},
   "source": [
    "Also notice that that \"if\" is followed by a condition evaluating to True or False, then a __colon__ (:) is used."
   ]
  },
  {
   "cell_type": "markdown",
   "metadata": {},
   "source": [
    "The \"else\" part executes if the condition after \"if\" evaluates to False. It is optional as we saw at the first example."
   ]
  },
  {
   "cell_type": "code",
   "execution_count": 67,
   "metadata": {
    "collapsed": false
   },
   "outputs": [
    {
     "name": "stdout",
     "output_type": "stream",
     "text": [
      "2 is not less than 1\n"
     ]
    }
   ],
   "source": [
    "if 2 < 1:\n",
    "    print(\"2 is less than 1\")\n",
    "else:\n",
    "    print(\"2 is not less than 1\")"
   ]
  },
  {
   "cell_type": "markdown",
   "metadata": {},
   "source": [
    "\"elif\" clauses can be added in between. When the condition at the first \"if\" evaluates to False, it goes to the elif. If that evaluates to True, the block after the \"elif\" is executed. There can be multiple \"elif\" statements, the checking of the conditions goes in sequel. If none of them evaluates to True, the \"else\" part gets executed."
   ]
  },
  {
   "cell_type": "code",
   "execution_count": 68,
   "metadata": {
    "collapsed": false
   },
   "outputs": [
    {
     "name": "stdout",
     "output_type": "stream",
     "text": [
      "It's warmish\n"
     ]
    }
   ],
   "source": [
    "temperature_today = 5\n",
    "\n",
    "if temperature_today < -10:\n",
    "    print(\"It's very cold, I'm freezing!\")\n",
    "elif temperature_today < 0:\n",
    "    print(\"It's pretty cold, but okay for a January\")\n",
    "elif temperature_today < 10:\n",
    "    print(\"It's warmish\")\n",
    "else:\n",
    "    print(\"It's unusually hot for a January\")"
   ]
  },
  {
   "cell_type": "markdown",
   "metadata": {},
   "source": [
    "### Looping"
   ]
  },
  {
   "cell_type": "markdown",
   "metadata": {},
   "source": [
    "Loop: go through a number of things and do something with them."
   ]
  },
  {
   "cell_type": "markdown",
   "metadata": {},
   "source": [
    "#### For loop"
   ]
  },
  {
   "cell_type": "markdown",
   "metadata": {},
   "source": [
    "Take something to walk through, from the beginning to the end. \"Something\": for example, a list"
   ]
  },
  {
   "cell_type": "code",
   "execution_count": 1,
   "metadata": {
    "collapsed": false
   },
   "outputs": [
    {
     "name": "stdout",
     "output_type": "stream",
     "text": [
      "0\n",
      "1\n",
      "4\n",
      "9\n",
      "16\n",
      "25\n",
      "36\n",
      "49\n",
      "64\n",
      "81\n"
     ]
    }
   ],
   "source": [
    "# print squared numbers\n",
    "# range(10): (like) a list of numbers from 0 to 9 \n",
    "for i in range(10):\n",
    "    print(i*i)"
   ]
  },
  {
   "cell_type": "code",
   "execution_count": 2,
   "metadata": {
    "collapsed": false
   },
   "outputs": [
    {
     "name": "stdout",
     "output_type": "stream",
     "text": [
      "JOHN\n",
      "MARY\n",
      "TRAVIS\n",
      "ABIGAIL\n"
     ]
    }
   ],
   "source": [
    "# take a list of names and print them in all uppercase letters\n",
    "names = [\"john\", \"mary\", \"travis\", \"abigail\"]\n",
    "\n",
    "# usual method in many languages: indexation\n",
    "for i in range(len(names)):\n",
    "    # print i\n",
    "    print(names[i].upper())"
   ]
  },
  {
   "cell_type": "markdown",
   "metadata": {},
   "source": [
    "The Pythonic way of looping does not require indices, it is very close to human language. "
   ]
  },
  {
   "cell_type": "code",
   "execution_count": 3,
   "metadata": {
    "collapsed": false
   },
   "outputs": [
    {
     "name": "stdout",
     "output_type": "stream",
     "text": [
      "JOHN\n",
      "MARY\n",
      "TRAVIS\n",
      "ABIGAIL\n"
     ]
    }
   ],
   "source": [
    "for name in names:\n",
    "    print(name.upper())"
   ]
  },
  {
   "cell_type": "markdown",
   "metadata": {},
   "source": [
    "For loops can be nested."
   ]
  },
  {
   "cell_type": "code",
   "execution_count": 4,
   "metadata": {
    "collapsed": false
   },
   "outputs": [
    {
     "name": "stdout",
     "output_type": "stream",
     "text": [
      "Susan and John\n",
      "Melissa and John\n",
      "Meghan and John\n",
      "Susan and Paul\n",
      "Melissa and Paul\n",
      "Meghan and Paul\n",
      "Susan and George\n",
      "Melissa and George\n",
      "Meghan and George\n"
     ]
    }
   ],
   "source": [
    "# There are three women and men looking for a marriage. List all the possible couples!\n",
    "\n",
    "men = [\"John\", \"Paul\", \"George\"]\n",
    "women = [\"Susan\", \"Melissa\", \"Meghan\"]\n",
    "\n",
    "for m in men:\n",
    "    for w in women:\n",
    "        print(w + \" and \" + m)"
   ]
  },
  {
   "cell_type": "markdown",
   "metadata": {},
   "source": [
    "#### While loop"
   ]
  },
  {
   "cell_type": "markdown",
   "metadata": {},
   "source": [
    "The \"while\" loop executes a body of code while a __condition is true__."
   ]
  },
  {
   "cell_type": "code",
   "execution_count": 5,
   "metadata": {
    "collapsed": false
   },
   "outputs": [
    {
     "name": "stdout",
     "output_type": "stream",
     "text": [
      "0\n",
      "1\n",
      "2\n",
      "3\n",
      "4\n",
      "5\n",
      "6\n",
      "7\n",
      "8\n",
      "9\n"
     ]
    }
   ],
   "source": [
    "count = 0\n",
    "while count < 10:\n",
    "    print(count)\n",
    "    count += 1"
   ]
  },
  {
   "cell_type": "markdown",
   "metadata": {},
   "source": [
    "Two important statements are __break__ and __continue__"
   ]
  },
  {
   "cell_type": "markdown",
   "metadata": {},
   "source": [
    "In a for or while loop, when a \"break\" statement is given, the loop terminates"
   ]
  },
  {
   "cell_type": "code",
   "execution_count": 6,
   "metadata": {
    "collapsed": false
   },
   "outputs": [
    {
     "name": "stdout",
     "output_type": "stream",
     "text": [
      "0\n",
      "1\n",
      "2\n",
      "3\n",
      "4\n",
      "5\n",
      "6\n",
      "7\n",
      "8\n",
      "9\n"
     ]
    }
   ],
   "source": [
    "count = 0\n",
    "while True:         # notice: True is always True! If it were like this, it would run forever.\n",
    "    print(count)\n",
    "    count += 1\n",
    "    if count == 10:\n",
    "        break"
   ]
  },
  {
   "cell_type": "markdown",
   "metadata": {},
   "source": [
    "\"continue\" is used to skip part of the body of the loop and continue with the next iteration. Typically used after checking a condition."
   ]
  },
  {
   "cell_type": "code",
   "execution_count": 13,
   "metadata": {
    "collapsed": false
   },
   "outputs": [
    {
     "name": "stdout",
     "output_type": "stream",
     "text": [
      "Current letter is P\n",
      "Current letter is y\n",
      "Current letter is h\n",
      "Current letter is o\n",
      "Current letter is n\n"
     ]
    }
   ],
   "source": [
    "# observe that strings can be iterated upon: works like a list of letters\n",
    "for letter in \"Python\":\n",
    "    if letter == \"t\":\n",
    "        continue\n",
    "    print(\"Current letter is {}\".format(letter))"
   ]
  },
  {
   "cell_type": "markdown",
   "metadata": {},
   "source": [
    "<a id='listcomp'></a>"
   ]
  },
  {
   "cell_type": "markdown",
   "metadata": {},
   "source": [
    "## List and dict comprehensions"
   ]
  },
  {
   "cell_type": "markdown",
   "metadata": {},
   "source": [
    "Maybe the most distinctive feature of Python in relation to other languages. They make Python work really beautifully, so pay attention! "
   ]
  },
  {
   "cell_type": "markdown",
   "metadata": {},
   "source": [
    "Suppose you want to get a list of vowels in the sentence \"Python is a lot of fun\"."
   ]
  },
  {
   "cell_type": "markdown",
   "metadata": {},
   "source": [
    "We have learned how to do loops. "
   ]
  },
  {
   "cell_type": "code",
   "execution_count": 8,
   "metadata": {
    "collapsed": false
   },
   "outputs": [
    {
     "data": {
      "text/plain": [
       "['o', 'i', 'a', 'o', 'o', 'u']"
      ]
     },
     "execution_count": 8,
     "metadata": {},
     "output_type": "execute_result"
    }
   ],
   "source": [
    "sentence = \"Python is a lot of fun\"\n",
    "vowels = \"aeiou\"\n",
    "\n",
    "list_vowels = []\n",
    "for letter in sentence:\n",
    "    if letter in vowels:\n",
    "        list_vowels.append(letter)\n",
    "        \n",
    "list_vowels"
   ]
  },
  {
   "cell_type": "markdown",
   "metadata": {},
   "source": [
    "Python offers a nicer way to to that!"
   ]
  },
  {
   "cell_type": "code",
   "execution_count": 9,
   "metadata": {
    "collapsed": false
   },
   "outputs": [
    {
     "data": {
      "text/plain": [
       "['o', 'i', 'a', 'o', 'o', 'u']"
      ]
     },
     "execution_count": 9,
     "metadata": {},
     "output_type": "execute_result"
    }
   ],
   "source": [
    "list_vowels = [letter for letter in sentence if letter in vowels]\n",
    "list_vowels"
   ]
  },
  {
   "cell_type": "markdown",
   "metadata": {},
   "source": [
    "Isn't it nice? Maybe you don't realize it at the moment, but this is very powerful, you can express many things with list comprehensions in a human-readable, compact way."
   ]
  },
  {
   "cell_type": "markdown",
   "metadata": {},
   "source": [
    "Dictionaries can also be built with a similar syntax."
   ]
  },
  {
   "cell_type": "code",
   "execution_count": 10,
   "metadata": {
    "collapsed": false
   },
   "outputs": [],
   "source": [
    "# create a dictionary of numbers between 0 and 100 as keys, their squares as values\n",
    "d_squares = {x: x**2 for x in range(101)}"
   ]
  },
  {
   "cell_type": "code",
   "execution_count": 11,
   "metadata": {
    "collapsed": false
   },
   "outputs": [
    {
     "name": "stdout",
     "output_type": "stream",
     "text": [
      "The square of 10 is 100\n",
      "The square of 15 is 225\n"
     ]
    }
   ],
   "source": [
    "print(\"The square of {} is {}\".format(10, d_squares[10]))\n",
    "print(\"The square of {} is {}\".format(15, d_squares[15]))"
   ]
  },
  {
   "cell_type": "markdown",
   "metadata": {},
   "source": [
    "The \"if\" condition can be used to filter existing lists or dictionaries."
   ]
  },
  {
   "cell_type": "code",
   "execution_count": 12,
   "metadata": {
    "collapsed": false
   },
   "outputs": [
    {
     "data": {
      "text/plain": [
       "{0: 0, 13: 169, 26: 676, 39: 1521, 52: 2704, 65: 4225, 78: 6084, 91: 8281}"
      ]
     },
     "execution_count": 12,
     "metadata": {},
     "output_type": "execute_result"
    }
   ],
   "source": [
    "# Now create a dictionary that contains only the squares of numbers divisible by 13.\n",
    "d_squares_div_13 = {k: v for k, v in d_squares.items() if k % 13 == 0}\n",
    "d_squares_div_13"
   ]
  },
  {
   "cell_type": "markdown",
   "metadata": {},
   "source": [
    "<a id='stringmethods'></a>"
   ]
  },
  {
   "cell_type": "markdown",
   "metadata": {},
   "source": [
    "## String methods"
   ]
  },
  {
   "cell_type": "markdown",
   "metadata": {},
   "source": [
    "Python has very extensive and powerful methods to work with strings and text files. We are only scratching the surface here, but these simple tools are very useful in themselves."
   ]
  },
  {
   "cell_type": "markdown",
   "metadata": {},
   "source": [
    "__Basic string operations__"
   ]
  },
  {
   "cell_type": "code",
   "execution_count": 81,
   "metadata": {
    "collapsed": false
   },
   "outputs": [
    {
     "name": "stdout",
     "output_type": "stream",
     "text": [
      "JohnDoe\n",
      "John Doe\n",
      "John Doe\n",
      "John and Doe\n"
     ]
    }
   ],
   "source": [
    "# you concatenate strings by \"+\"\n",
    "\n",
    "s1 = \"John\"\n",
    "s2 = \"Doe\"\n",
    "\n",
    "s12 = s1 + s2\n",
    "print(s12)\n",
    "\n",
    "# add a space, too: you can link operations with \"+\"\n",
    "print(s1 + \" \" + s2)\n",
    "\n",
    "# if you only want to print them, use the print function's functionality\n",
    "print(s1, s2)\n",
    "print(s1, s2, sep = \" and \")"
   ]
  },
  {
   "cell_type": "code",
   "execution_count": 82,
   "metadata": {
    "collapsed": false
   },
   "outputs": [
    {
     "name": "stdout",
     "output_type": "stream",
     "text": [
      "HelloHelloHello\n",
      "A Clockwork Orange\n",
      "------------------\n"
     ]
    }
   ],
   "source": [
    "# multiplication, just like for lists, works in accordance with \"+\"\n",
    "\n",
    "s1 = \"Hello\"\n",
    "print(s1*3)\n",
    "\n",
    "# sometimes it is useful\n",
    "title = \"A Clockwork Orange\"\n",
    "underline = len(title)*\"-\"\n",
    "\n",
    "print(title)\n",
    "print(underline)"
   ]
  },
  {
   "cell_type": "markdown",
   "metadata": {},
   "source": [
    "__String formatting__"
   ]
  },
  {
   "cell_type": "markdown",
   "metadata": {},
   "source": [
    "There are special formatters you can use to create strings, containing values of variables.\n",
    "The `.format` method with special string formatting elements is a powerful way to create strings. See further examples [here](http://www.python-course.eu/python3_formatted_output.php)."
   ]
  },
  {
   "cell_type": "code",
   "execution_count": 83,
   "metadata": {
    "collapsed": false
   },
   "outputs": [
    {
     "name": "stdout",
     "output_type": "stream",
     "text": [
      "The most important number of the universe is 42\n",
      "The most important number of the universe is 42\n"
     ]
    }
   ],
   "source": [
    "s = \"The most important number of the universe is {}\".format(42)\n",
    "print(s)\n",
    "\n",
    "s2 = \"The most important number of the universe is {:d}\".format(42)\n",
    "# after the \":\" there comes a formatting instruction. \"d\" means integer.\n",
    "print(s2)"
   ]
  },
  {
   "cell_type": "code",
   "execution_count": 84,
   "metadata": {
    "collapsed": false
   },
   "outputs": [
    {
     "name": "stdout",
     "output_type": "stream",
     "text": [
      "Hi, Jeno Pal! How are you today?\n",
      "Hi, Pal, Jeno! How are you today?\n",
      "Hi, Pal, Jeno! How are you today?\n"
     ]
    }
   ],
   "source": [
    "# you can use multiple values to be formatted, too: use tuples\n",
    "first_name = \"Jeno\"\n",
    "last_name = \"Pal\"\n",
    "greetings_message = \"Hi, {} {}! How are you today?\".format(first_name, last_name)\n",
    "\n",
    "print(greetings_message)\n",
    "\n",
    "# we can change the position of the arguments\n",
    "greetings_message = \"Hi, {1}, {0}! How are you today?\".format(first_name, last_name)\n",
    "print(greetings_message)\n",
    "\n",
    "# we can also name arguments instead of using their position\n",
    "greetings_message = \"Hi, {ln}, {fn}! How are you today?\".format(fn = first_name, ln = last_name)\n",
    "print(greetings_message)"
   ]
  },
  {
   "cell_type": "code",
   "execution_count": 85,
   "metadata": {
    "collapsed": false
   },
   "outputs": [
    {
     "name": "stdout",
     "output_type": "stream",
     "text": [
      "3.14\n",
      "3.141593\n"
     ]
    }
   ],
   "source": [
    "# floating point numbers: f\n",
    "# you can round them to make them nicer in a text output\n",
    "\n",
    "pi = 3.1415926535897\n",
    "\n",
    "pi_2_digits = \"{:.2f}\".format(pi)\n",
    "print(pi_2_digits)\n",
    "\n",
    "pi_6_digits = \"{:.6f}\".format(pi)\n",
    "print(pi_6_digits)"
   ]
  },
  {
   "cell_type": "markdown",
   "metadata": {},
   "source": [
    "__Some very useful string methods__"
   ]
  },
  {
   "cell_type": "markdown",
   "metadata": {},
   "source": [
    "__\"split\"__"
   ]
  },
  {
   "cell_type": "code",
   "execution_count": 15,
   "metadata": {
    "collapsed": false
   },
   "outputs": [
    {
     "name": "stdout",
     "output_type": "stream",
     "text": [
      "Rome was not built in a day\n",
      "The length of the sentence is 7 words.\n"
     ]
    }
   ],
   "source": [
    "sentence = \"Rome was not built in a day.\"\n",
    "\n",
    "# Let's count the number of words!\n",
    "# first, get rid of the dot!\n",
    "sentence = sentence.replace(\".\", \"\")\n",
    "print(sentence)\n",
    "\n",
    "# then, split it on the space: returns a list of strings\n",
    "list_words = sentence.split(\" \")\n",
    "# determine the length of the list\n",
    "num_words = len(list_words)\n",
    "print(\"The length of the sentence is {} words.\".format(num_words))"
   ]
  },
  {
   "cell_type": "code",
   "execution_count": 16,
   "metadata": {
    "collapsed": false
   },
   "outputs": [
    {
     "name": "stdout",
     "output_type": "stream",
     "text": [
      "<class 'list'>\n",
      "['John', 'Fitzgerald', 'Kennedy']\n"
     ]
    }
   ],
   "source": [
    "# works with other delimiters, too\n",
    "name = \"John;Fitzgerald;Kennedy\"\n",
    "name_parts = name.split(\";\")\n",
    "print(type(name_parts))\n",
    "print(name_parts)"
   ]
  },
  {
   "cell_type": "markdown",
   "metadata": {},
   "source": [
    "__\"join\"__"
   ]
  },
  {
   "cell_type": "markdown",
   "metadata": {},
   "source": [
    "Alert! This might be confusing first. \"join\" is a method of a string (can be accessed via typing the name of a string variable, then a dot, then \"join\") and it joins with the string a list of strings."
   ]
  },
  {
   "cell_type": "code",
   "execution_count": 17,
   "metadata": {
    "collapsed": false
   },
   "outputs": [
    {
     "name": "stdout",
     "output_type": "stream",
     "text": [
      "<class 'str'>\n",
      "S.O.S\n"
     ]
    }
   ],
   "source": [
    "# can be understood besty examples (as everything)\n",
    "\n",
    "# the variabel dot is a string, with length one, containing only a dot\n",
    "dot = \".\"\n",
    "\n",
    "# it has a method \"join\", that takes a list of strings as an argument and concatenates those\n",
    "# strings with the string that has the join method\n",
    "# result is a string\n",
    "message = dot.join([\"S\", \"O\", \"S\"])\n",
    "print(type(message))\n",
    "print(message)"
   ]
  },
  {
   "cell_type": "code",
   "execution_count": 18,
   "metadata": {
    "collapsed": false
   },
   "outputs": [
    {
     "name": "stdout",
     "output_type": "stream",
     "text": [
      "<class 'str'>\n",
      "Anna,Barbara,Claire\n"
     ]
    }
   ],
   "source": [
    "names = \",\".join([\"Anna\", \"Barbara\", \"Claire\"])\n",
    "print(type(names))\n",
    "print(names)"
   ]
  },
  {
   "cell_type": "markdown",
   "metadata": {},
   "source": [
    "__and more!__"
   ]
  },
  {
   "cell_type": "markdown",
   "metadata": {},
   "source": [
    "You can explore more methods by defining a string, then typing its name, a dot after it then TAB in Ipython."
   ]
  },
  {
   "cell_type": "code",
   "execution_count": 19,
   "metadata": {
    "collapsed": false
   },
   "outputs": [
    {
     "name": "stdout",
     "output_type": "stream",
     "text": [
      "John Lennon\n",
      "True\n",
      "False\n",
      "JOHN DOE\n"
     ]
    }
   ],
   "source": [
    "name = \"John Doe\"\n",
    "\n",
    "# replace a pattern\n",
    "print(name.replace(\"Doe\", \"Lennon\"))\n",
    "\n",
    "# test if it starts/ends with a certain string\n",
    "print(name.startswith(\"John\"))\n",
    "print(name.endswith(\"oek\"))\n",
    "\n",
    "# change characters to uppercase (similarly to lowercase)\n",
    "print(name.upper())"
   ]
  },
  {
   "cell_type": "markdown",
   "metadata": {},
   "source": [
    "<a id='import_statements'></a>"
   ]
  },
  {
   "cell_type": "markdown",
   "metadata": {},
   "source": [
    "## Packages: import statements"
   ]
  },
  {
   "cell_type": "markdown",
   "metadata": {},
   "source": [
    "As already mentioned, Python has a small core of functionality that is loaded every time you start Python, and a vast collection of _libraries_ (also called _modules_) that you can load in addition to that.\n",
    "\n",
    "* a module is a collection of Python functions and objects\n",
    "* the [standard library](https://docs.python.org/2/library/) has many modules, every Python distribution comes with those\n",
    "* Anaconda has a large number of [additional libraries](http://docs.continuum.io/anaconda/pkg-docs.html)\n",
    "* there are even more, you can find those at the [Python Package Index](https://pypi.python.org/pypi)"
   ]
  },
  {
   "cell_type": "markdown",
   "metadata": {},
   "source": [
    "For example, you can generate random numbers with the help of the `random` module. It is a collection of functions that help you generate/work with random numbers. You can load these functions by typing:"
   ]
  },
  {
   "cell_type": "code",
   "execution_count": 20,
   "metadata": {
    "collapsed": false
   },
   "outputs": [],
   "source": [
    "import random"
   ]
  },
  {
   "cell_type": "markdown",
   "metadata": {},
   "source": [
    "After this, functions of this module are accessible by typing first the module's name (here `random`), then a dot and the name of the function."
   ]
  },
  {
   "cell_type": "code",
   "execution_count": 21,
   "metadata": {
    "collapsed": false
   },
   "outputs": [
    {
     "name": "stdout",
     "output_type": "stream",
     "text": [
      "0.9657168213893426\n",
      "39\n"
     ]
    }
   ],
   "source": [
    "# generate a random number between 0 and 1\n",
    "x = random.uniform(0, 1)\n",
    "print(x)\n",
    "\n",
    "# generate a random integer between x where a <= x <= b\n",
    "y = random.randint(1, 100)\n",
    "print(y)"
   ]
  },
  {
   "cell_type": "markdown",
   "metadata": {},
   "source": [
    "The statement can be amended with an `as` clause: this simply abbreviates the name of the package."
   ]
  },
  {
   "cell_type": "code",
   "execution_count": 22,
   "metadata": {
    "collapsed": false
   },
   "outputs": [
    {
     "name": "stdout",
     "output_type": "stream",
     "text": [
      "49.5\n"
     ]
    }
   ],
   "source": [
    "# numpy is used for numerical calculations - it is not part of the standard library but is included in Anaconda\n",
    "import numpy as np\n",
    "\n",
    "print(np.mean([range(100)]))"
   ]
  },
  {
   "cell_type": "markdown",
   "metadata": {},
   "source": [
    "Instead of importing a whole library of functions, you can import just a few if you only need those with the `from module_name import function_name_1, function_name_2, ...` syntax. In this case, you can just use the names themselves, you don't have to add the module's name in front of them."
   ]
  },
  {
   "cell_type": "code",
   "execution_count": 23,
   "metadata": {
    "collapsed": false
   },
   "outputs": [
    {
     "name": "stdout",
     "output_type": "stream",
     "text": [
      "3.141592653589793\n",
      "1.4142135623730951\n"
     ]
    }
   ],
   "source": [
    "from math import sqrt, pi\n",
    "\n",
    "print(pi)\n",
    "print(sqrt(2))"
   ]
  }
 ],
 "metadata": {
  "kernelspec": {
   "display_name": "Python 3",
   "language": "python",
   "name": "python3"
  },
  "language_info": {
   "codemirror_mode": {
    "name": "ipython",
    "version": 3
   },
   "file_extension": ".py",
   "mimetype": "text/x-python",
   "name": "python",
   "nbconvert_exporter": "python",
   "pygments_lexer": "ipython3",
   "version": "3.5.1"
  }
 },
 "nbformat": 4,
 "nbformat_minor": 0
}
