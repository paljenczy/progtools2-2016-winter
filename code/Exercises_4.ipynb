{
 "cells": [
  {
   "cell_type": "markdown",
   "metadata": {},
   "source": [
    "## Exercise: Mining a news article with BS and regex"
   ]
  },
  {
   "cell_type": "markdown",
   "metadata": {},
   "source": [
    "Take the news article http://www.sacbee.com/site-services/databases/article57154063.html. \n",
    "\n",
    "1. Extract the title of the article.\n",
    "2. Extract the author information to a string variable (BY PHILLIP REESE - PREESE@SACBEE.COM)\n",
    "3. Write a function that extracts an email address from a text\n",
    "  * create a regular expression that parses the email address and returns that\n",
    "  * search if the regex matches the input string\n",
    "  * if yes, return the email address, if not, return `None`\n",
    "    * you can test if a match was found using\n",
    "      ```\n",
    "      result = pattern.search(text)\n",
    "      if bool(result):\n",
    "        ...\n",
    "      ```\n",
    "4. Extract the date and time information appearing above the title (JANUARY 28, 2016 4:26 PM)\n",
    "5. Write a function that extracts time information from a string\n",
    "  * it should match \"hour:minute AM/PM\"-like strings\n",
    "    * hint: `[0-5]` matches all digits between 0 and 5\n",
    "    * 2:33 PM, 22:40 AM should be matched\n",
    "    * times that does not make sense should not be matched (like 45:33 PM or 2:67 AM)\n",
    "    * return the time if found and `None` otherwise\n",
    "  * use this function to extract the time from the string extracted in the previous task\n",
    "6. The text contains __two__ links to other news articles. Extract them using a combination of regex with Beautiful Soup search.\n",
    "  * the links should appear in the body of the text, not in other linked content (thus, first you should extract a BS object that is the body of the text\n",
    "  * the links are contained in `<a>` tags' `href` attributes\n",
    "  * the links should match a regex that begins with `http` and end in `html`"
   ]
  }
 ],
 "metadata": {
  "kernelspec": {
   "display_name": "Python 3",
   "language": "python",
   "name": "python3"
  },
  "language_info": {
   "codemirror_mode": {
    "name": "ipython",
    "version": 3
   },
   "file_extension": ".py",
   "mimetype": "text/x-python",
   "name": "python",
   "nbconvert_exporter": "python",
   "pygments_lexer": "ipython3",
   "version": "3.5.1"
  }
 },
 "nbformat": 4,
 "nbformat_minor": 0
}
