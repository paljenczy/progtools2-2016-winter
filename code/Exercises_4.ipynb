{
 "cells": [
  {
   "cell_type": "markdown",
   "metadata": {},
   "source": [
    "## Exercise: read and write .csv data"
   ]
  },
  {
   "cell_type": "markdown",
   "metadata": {},
   "source": [
    "Wherever you have the current file where you work on this problem, create ONE LEVEL UP a directory called \"data\" and put there the datafile [`amazon_stock_data.csv`](https://raw.githubusercontent.com/paljenczy/progtools2-2016-winter/master/data/amazon_stock_data.csv). This data contains data on Amazon's stock price on a daily frequency.\n",
    "\n",
    "1. Read the data using the `csv` module's `DictReader` function and build a list of the daily price data. That is, this will be a list of dictionaries where each dictionary contains data from a day.\n",
    "\n",
    "2. Go through this list and for each dictionary, create a new key-value pair: `\"Avg\"` will be the key and the value will be the average of the `Open` and `Close` prices.\n",
    "    * define an empty list `list_new_dicts` in which you'll collect the new dictionaries\n",
    "    * write a for loop that steps thourgh the dictionaries\n",
    "        * from each dictionary, get the value corresponding to the keys `\"Open\"` and `\"Close\"`. These are strings, turn them into `float`s using the `float` function\n",
    "        * take the average of these two float numbers and assign it to a variable `avg_price`. Its type is `float`.\n",
    "        * add the new key-value pair `\"Avg\"` as key and the calculated average as value. CAUTION! Turn fist the float value into string using `\"{%.2f}\".format(avg_price)`\n",
    "\n",
    "3. Take the new list and write it using `csv.DictWriter`. You have to supply an argument `fieldnames` that specifies the fields that are written (just copy and paste, and inspect how you can use it).\n",
    "\n",
    "```\n",
    "with open(\"../data/amazon_stock_data.csv\", \"w\") as f:\n",
    "      writer = csv.DictWriter(f, fieldnames=[\"Date\", \"Open\", \"High\", \"Low\", \"Close\", \"Volume\", \"Adj Close\",\"Avg\"],\n",
    "                              delimiter=\",\")\n",
    "      # write a header\n",
    "      writer.writeheader()\n",
    "      # loop through the new list of dictionaries\n",
    "      for d in list_new_dicts:\n",
    "            writer.writerow(d)\n",
    "      \n",
    "      \n",
    "```"
   ]
  },
  {
   "cell_type": "markdown",
   "metadata": {},
   "source": [
    "## Exercise: Mining a news article with BS and regex"
   ]
  },
  {
   "cell_type": "markdown",
   "metadata": {},
   "source": [
    "Take the news article http://www.sacbee.com/site-services/databases/article57154063.html. \n",
    "\n",
    "1. Extract the title of the article.\n",
    "2. Extract the author information to a string variable (BY PHILLIP REESE - PREESE@SACBEE.COM)\n",
    "3. Write a function that extracts an email address from a text\n",
    "  * create a regular expression that parses the email address and returns that\n",
    "  * search if the regex matches the input string\n",
    "  * if yes, return the email address, if not, return `None`\n",
    "    * you can test if a match was found using\n",
    "      ```\n",
    "      result = pattern.search(text)\n",
    "      if bool(result):\n",
    "        ...\n",
    "      ```\n",
    "4. Extract the date and time information appearing above the title (JANUARY 28, 2016 4:26 PM)\n",
    "5. Write a function that extracts time information from a string\n",
    "  * it should match \"hour:minute AM/PM\"-like strings\n",
    "    * hint: `[0-5]` matches all digits between 0 and 5\n",
    "    * 2:33 PM, 22:40 AM should be matched\n",
    "    * times that does not make sense should not be matched (like 45:33 PM or 2:67 AM)\n",
    "    * return the time if found and `None` otherwise\n",
    "  * use this function to extract the time from the string extracted in the previous task\n",
    "6. The text contains __two__ links to other news articles. Extract them using a combination of regex with Beautiful Soup search.\n",
    "  * the links should appear in the body of the text, not in other linked content (thus, first you should extract a BS object that is the body of the text\n",
    "  * the links are contained in `<a>` tags' `href` attributes\n",
    "  * the links should match a regex that begins with `http` and end in `html`"
   ]
  }
 ],
 "metadata": {
  "kernelspec": {
   "display_name": "Python 3",
   "language": "python",
   "name": "python3"
  },
  "language_info": {
   "codemirror_mode": {
    "name": "ipython",
    "version": 3
   },
   "file_extension": ".py",
   "mimetype": "text/x-python",
   "name": "python",
   "nbconvert_exporter": "python",
   "pygments_lexer": "ipython3",
   "version": "3.5.1"
  }
 },
 "nbformat": 4,
 "nbformat_minor": 0
}
