{
 "cells": [
  {
   "cell_type": "markdown",
   "metadata": {},
   "source": [
    "# Introduction to Python: Pandas\n",
    "## Programming tools, 2016 Winter semester, CEU\n",
    "_Jeno Pal_, Jan-Feb 2016"
   ]
  },
  {
   "cell_type": "markdown",
   "metadata": {},
   "source": [
    "## Introduction to Pandas"
   ]
  },
  {
   "cell_type": "markdown",
   "metadata": {},
   "source": [
    "Pandas is the most widely-used data analysis library for Python. It makes common data manipulation tasks (reading/writing data, joins, aggregation, plotting) very easy and efficient. It was created by [Wes McKinney](http://wesmckinney.com/). We are only scratching the surface here, dive more into it using the following sources:\n",
    "\n",
    "* check out his book: [Python for Data Analysis](http://shop.oreilly.com/product/0636920023784.do?cmp=af-prog-books-videos-lp-na_afp_book_mckinney_cj_12307942_7040302)\n",
    "* check out the awesome [documentation](http://pandas.pydata.org/) with tons of examples\n",
    "* [tutorials](http://pandas.pydata.org/pandas-docs/version/0.17.1/tutorials.html)"
   ]
  },
  {
   "cell_type": "code",
   "execution_count": 169,
   "metadata": {
    "collapsed": true
   },
   "outputs": [],
   "source": [
    "import pandas as pd"
   ]
  },
  {
   "cell_type": "markdown",
   "metadata": {
    "collapsed": true
   },
   "source": [
    "### Series and data frames"
   ]
  },
  {
   "cell_type": "markdown",
   "metadata": {},
   "source": [
    "The two basic data structures of Pandas are Series and DataFrames."
   ]
  },
  {
   "cell_type": "code",
   "execution_count": 170,
   "metadata": {
    "collapsed": false
   },
   "outputs": [
    {
     "name": "stdout",
     "output_type": "stream",
     "text": [
      "<class 'pandas.core.series.Series'>\n"
     ]
    }
   ],
   "source": [
    "# series is like a vector, or a column of data\n",
    "\n",
    "import numpy as np\n",
    "\n",
    "s = pd.Series(np.random.randn(5))\n",
    "print(type(s))"
   ]
  },
  {
   "cell_type": "code",
   "execution_count": 171,
   "metadata": {
    "collapsed": false
   },
   "outputs": [
    {
     "data": {
      "text/plain": [
       "0   -3.004630\n",
       "1    1.889141\n",
       "2   -1.392735\n",
       "3   -1.046412\n",
       "4    0.752906\n",
       "dtype: float64"
      ]
     },
     "execution_count": 171,
     "metadata": {},
     "output_type": "execute_result"
    }
   ],
   "source": [
    "s"
   ]
  },
  {
   "cell_type": "code",
   "execution_count": 172,
   "metadata": {
    "collapsed": false
   },
   "outputs": [
    {
     "data": {
      "text/plain": [
       "0    3.004630\n",
       "1    1.889141\n",
       "2    1.392735\n",
       "3    1.046412\n",
       "4    0.752906\n",
       "dtype: float64"
      ]
     },
     "execution_count": 172,
     "metadata": {},
     "output_type": "execute_result"
    }
   ],
   "source": [
    "# operations with series\n",
    "\n",
    "abs(s)"
   ]
  },
  {
   "cell_type": "code",
   "execution_count": 173,
   "metadata": {
    "collapsed": false
   },
   "outputs": [
    {
     "data": {
      "text/plain": [
       "0    9.027802\n",
       "1    3.568853\n",
       "2    1.939711\n",
       "3    1.094977\n",
       "4    0.566868\n",
       "dtype: float64"
      ]
     },
     "execution_count": 173,
     "metadata": {},
     "output_type": "execute_result"
    }
   ],
   "source": [
    "s ** 2"
   ]
  },
  {
   "cell_type": "code",
   "execution_count": 174,
   "metadata": {
    "collapsed": false
   },
   "outputs": [
    {
     "name": "stdout",
     "output_type": "stream",
     "text": [
      "1.88914079768\n",
      "-1.39273495581\n"
     ]
    }
   ],
   "source": [
    "# we can use indices\n",
    "print(s[1])\n",
    "\n",
    "# also, named indices can be used\n",
    "s.index = [\"A\", \"G\", \"F\", \"D\", \"B\"]\n",
    "print(s[\"F\"])"
   ]
  },
  {
   "cell_type": "code",
   "execution_count": 175,
   "metadata": {
    "collapsed": false
   },
   "outputs": [
    {
     "data": {
      "text/plain": [
       "G    1.889141\n",
       "B    0.752906\n",
       "dtype: float64"
      ]
     },
     "execution_count": 175,
     "metadata": {},
     "output_type": "execute_result"
    }
   ],
   "source": [
    "# boolean selection also works\n",
    "s[s > 0.5]"
   ]
  },
  {
   "cell_type": "markdown",
   "metadata": {},
   "source": [
    "DataFrames are tables of variables: a row is an observation, a column is a variable."
   ]
  },
  {
   "cell_type": "code",
   "execution_count": 176,
   "metadata": {
    "collapsed": false
   },
   "outputs": [
    {
     "data": {
      "text/html": [
       "<div>\n",
       "<table border=\"1\" class=\"dataframe\">\n",
       "  <thead>\n",
       "    <tr style=\"text-align: right;\">\n",
       "      <th></th>\n",
       "      <th>Date</th>\n",
       "      <th>Open</th>\n",
       "      <th>High</th>\n",
       "      <th>Low</th>\n",
       "      <th>Close</th>\n",
       "      <th>Volume</th>\n",
       "      <th>Adj Close</th>\n",
       "    </tr>\n",
       "  </thead>\n",
       "  <tbody>\n",
       "    <tr>\n",
       "      <th>0</th>\n",
       "      <td>2015-01-14</td>\n",
       "      <td>291.93</td>\n",
       "      <td>295.91</td>\n",
       "      <td>286.50</td>\n",
       "      <td>293.27</td>\n",
       "      <td>5464600</td>\n",
       "      <td>293.27</td>\n",
       "    </tr>\n",
       "    <tr>\n",
       "      <th>1</th>\n",
       "      <td>2015-01-13</td>\n",
       "      <td>297.48</td>\n",
       "      <td>301.50</td>\n",
       "      <td>293.23</td>\n",
       "      <td>294.74</td>\n",
       "      <td>4130900</td>\n",
       "      <td>294.74</td>\n",
       "    </tr>\n",
       "    <tr>\n",
       "      <th>2</th>\n",
       "      <td>2015-01-12</td>\n",
       "      <td>297.56</td>\n",
       "      <td>298.51</td>\n",
       "      <td>289.28</td>\n",
       "      <td>291.41</td>\n",
       "      <td>3404300</td>\n",
       "      <td>291.41</td>\n",
       "    </tr>\n",
       "    <tr>\n",
       "      <th>3</th>\n",
       "      <td>2015-01-09</td>\n",
       "      <td>301.48</td>\n",
       "      <td>302.87</td>\n",
       "      <td>296.68</td>\n",
       "      <td>296.93</td>\n",
       "      <td>2589500</td>\n",
       "      <td>296.93</td>\n",
       "    </tr>\n",
       "    <tr>\n",
       "      <th>4</th>\n",
       "      <td>2015-01-08</td>\n",
       "      <td>300.32</td>\n",
       "      <td>303.14</td>\n",
       "      <td>296.11</td>\n",
       "      <td>300.46</td>\n",
       "      <td>3073700</td>\n",
       "      <td>300.46</td>\n",
       "    </tr>\n",
       "    <tr>\n",
       "      <th>5</th>\n",
       "      <td>2015-01-07</td>\n",
       "      <td>297.50</td>\n",
       "      <td>301.28</td>\n",
       "      <td>295.33</td>\n",
       "      <td>298.42</td>\n",
       "      <td>2612300</td>\n",
       "      <td>298.42</td>\n",
       "    </tr>\n",
       "    <tr>\n",
       "      <th>6</th>\n",
       "      <td>2015-01-06</td>\n",
       "      <td>302.24</td>\n",
       "      <td>303.00</td>\n",
       "      <td>292.38</td>\n",
       "      <td>295.29</td>\n",
       "      <td>3506200</td>\n",
       "      <td>295.29</td>\n",
       "    </tr>\n",
       "    <tr>\n",
       "      <th>7</th>\n",
       "      <td>2015-01-05</td>\n",
       "      <td>307.01</td>\n",
       "      <td>308.38</td>\n",
       "      <td>300.85</td>\n",
       "      <td>302.19</td>\n",
       "      <td>2763700</td>\n",
       "      <td>302.19</td>\n",
       "    </tr>\n",
       "    <tr>\n",
       "      <th>8</th>\n",
       "      <td>2015-01-02</td>\n",
       "      <td>312.58</td>\n",
       "      <td>314.75</td>\n",
       "      <td>306.96</td>\n",
       "      <td>308.52</td>\n",
       "      <td>2783200</td>\n",
       "      <td>308.52</td>\n",
       "    </tr>\n",
       "    <tr>\n",
       "      <th>9</th>\n",
       "      <td>2014-12-31</td>\n",
       "      <td>311.55</td>\n",
       "      <td>312.98</td>\n",
       "      <td>310.01</td>\n",
       "      <td>310.35</td>\n",
       "      <td>2048000</td>\n",
       "      <td>310.35</td>\n",
       "    </tr>\n",
       "    <tr>\n",
       "      <th>10</th>\n",
       "      <td>2014-12-30</td>\n",
       "      <td>311.44</td>\n",
       "      <td>313.91</td>\n",
       "      <td>309.37</td>\n",
       "      <td>310.47</td>\n",
       "      <td>109800</td>\n",
       "      <td>310.47</td>\n",
       "    </tr>\n",
       "    <tr>\n",
       "      <th>11</th>\n",
       "      <td>2014-12-29</td>\n",
       "      <td>307.85</td>\n",
       "      <td>314.27</td>\n",
       "      <td>306.58</td>\n",
       "      <td>312.04</td>\n",
       "      <td>2992500</td>\n",
       "      <td>312.04</td>\n",
       "    </tr>\n",
       "    <tr>\n",
       "      <th>12</th>\n",
       "      <td>2014-12-26</td>\n",
       "      <td>305.00</td>\n",
       "      <td>310.78</td>\n",
       "      <td>303.81</td>\n",
       "      <td>309.09</td>\n",
       "      <td>2887500</td>\n",
       "      <td>309.09</td>\n",
       "    </tr>\n",
       "    <tr>\n",
       "      <th>13</th>\n",
       "      <td>2014-12-24</td>\n",
       "      <td>306.38</td>\n",
       "      <td>307.00</td>\n",
       "      <td>302.88</td>\n",
       "      <td>303.03</td>\n",
       "      <td>1513800</td>\n",
       "      <td>303.03</td>\n",
       "    </tr>\n",
       "    <tr>\n",
       "      <th>14</th>\n",
       "      <td>2014-12-23</td>\n",
       "      <td>306.98</td>\n",
       "      <td>307.49</td>\n",
       "      <td>303.25</td>\n",
       "      <td>306.29</td>\n",
       "      <td>2713700</td>\n",
       "      <td>306.29</td>\n",
       "    </tr>\n",
       "    <tr>\n",
       "      <th>15</th>\n",
       "      <td>2014-12-22</td>\n",
       "      <td>301.94</td>\n",
       "      <td>307.36</td>\n",
       "      <td>301.94</td>\n",
       "      <td>306.54</td>\n",
       "      <td>3828800</td>\n",
       "      <td>306.54</td>\n",
       "    </tr>\n",
       "    <tr>\n",
       "      <th>16</th>\n",
       "      <td>2014-12-19</td>\n",
       "      <td>296.91</td>\n",
       "      <td>301.54</td>\n",
       "      <td>295.52</td>\n",
       "      <td>299.90</td>\n",
       "      <td>8541000</td>\n",
       "      <td>299.90</td>\n",
       "    </tr>\n",
       "    <tr>\n",
       "      <th>17</th>\n",
       "      <td>2014-12-18</td>\n",
       "      <td>304.01</td>\n",
       "      <td>304.50</td>\n",
       "      <td>293.25</td>\n",
       "      <td>297.73</td>\n",
       "      <td>7694600</td>\n",
       "      <td>297.73</td>\n",
       "    </tr>\n",
       "    <tr>\n",
       "      <th>18</th>\n",
       "      <td>2014-12-17</td>\n",
       "      <td>296.37</td>\n",
       "      <td>299.67</td>\n",
       "      <td>293.03</td>\n",
       "      <td>298.88</td>\n",
       "      <td>4399200</td>\n",
       "      <td>298.88</td>\n",
       "    </tr>\n",
       "    <tr>\n",
       "      <th>19</th>\n",
       "      <td>2014-12-16</td>\n",
       "      <td>304.35</td>\n",
       "      <td>304.49</td>\n",
       "      <td>295.01</td>\n",
       "      <td>295.06</td>\n",
       "      <td>6485300</td>\n",
       "      <td>295.06</td>\n",
       "    </tr>\n",
       "    <tr>\n",
       "      <th>20</th>\n",
       "      <td>2014-12-15</td>\n",
       "      <td>308.87</td>\n",
       "      <td>310.86</td>\n",
       "      <td>302.15</td>\n",
       "      <td>306.07</td>\n",
       "      <td>3830100</td>\n",
       "      <td>306.07</td>\n",
       "    </tr>\n",
       "    <tr>\n",
       "      <th>21</th>\n",
       "      <td>2014-12-12</td>\n",
       "      <td>303.99</td>\n",
       "      <td>310.64</td>\n",
       "      <td>303.01</td>\n",
       "      <td>307.32</td>\n",
       "      <td>3153500</td>\n",
       "      <td>307.32</td>\n",
       "    </tr>\n",
       "    <tr>\n",
       "      <th>22</th>\n",
       "      <td>2014-12-11</td>\n",
       "      <td>307.89</td>\n",
       "      <td>312.64</td>\n",
       "      <td>306.01</td>\n",
       "      <td>307.36</td>\n",
       "      <td>3263500</td>\n",
       "      <td>307.36</td>\n",
       "    </tr>\n",
       "    <tr>\n",
       "      <th>23</th>\n",
       "      <td>2014-12-10</td>\n",
       "      <td>312.00</td>\n",
       "      <td>313.19</td>\n",
       "      <td>304.68</td>\n",
       "      <td>305.84</td>\n",
       "      <td>3229100</td>\n",
       "      <td>305.84</td>\n",
       "    </tr>\n",
       "    <tr>\n",
       "      <th>24</th>\n",
       "      <td>2014-12-09</td>\n",
       "      <td>302.99</td>\n",
       "      <td>313.64</td>\n",
       "      <td>301.14</td>\n",
       "      <td>312.50</td>\n",
       "      <td>4027800</td>\n",
       "      <td>312.50</td>\n",
       "    </tr>\n",
       "    <tr>\n",
       "      <th>25</th>\n",
       "      <td>2014-12-08</td>\n",
       "      <td>311.57</td>\n",
       "      <td>316.56</td>\n",
       "      <td>304.82</td>\n",
       "      <td>306.64</td>\n",
       "      <td>3625800</td>\n",
       "      <td>306.64</td>\n",
       "    </tr>\n",
       "    <tr>\n",
       "      <th>26</th>\n",
       "      <td>2014-12-05</td>\n",
       "      <td>316.80</td>\n",
       "      <td>316.93</td>\n",
       "      <td>310.84</td>\n",
       "      <td>312.63</td>\n",
       "      <td>3257700</td>\n",
       "      <td>312.63</td>\n",
       "    </tr>\n",
       "    <tr>\n",
       "      <th>27</th>\n",
       "      <td>2014-12-04</td>\n",
       "      <td>315.53</td>\n",
       "      <td>318.59</td>\n",
       "      <td>313.47</td>\n",
       "      <td>316.93</td>\n",
       "      <td>3290300</td>\n",
       "      <td>316.93</td>\n",
       "    </tr>\n",
       "    <tr>\n",
       "      <th>28</th>\n",
       "      <td>2014-12-03</td>\n",
       "      <td>325.73</td>\n",
       "      <td>326.77</td>\n",
       "      <td>314.36</td>\n",
       "      <td>316.50</td>\n",
       "      <td>5681000</td>\n",
       "      <td>316.50</td>\n",
       "    </tr>\n",
       "    <tr>\n",
       "      <th>29</th>\n",
       "      <td>2014-12-02</td>\n",
       "      <td>327.50</td>\n",
       "      <td>327.93</td>\n",
       "      <td>323.25</td>\n",
       "      <td>326.31</td>\n",
       "      <td>2783500</td>\n",
       "      <td>326.31</td>\n",
       "    </tr>\n",
       "    <tr>\n",
       "      <th>...</th>\n",
       "      <td>...</td>\n",
       "      <td>...</td>\n",
       "      <td>...</td>\n",
       "      <td>...</td>\n",
       "      <td>...</td>\n",
       "      <td>...</td>\n",
       "      <td>...</td>\n",
       "    </tr>\n",
       "    <tr>\n",
       "      <th>4415</th>\n",
       "      <td>1997-06-27</td>\n",
       "      <td>18.19</td>\n",
       "      <td>18.19</td>\n",
       "      <td>17.75</td>\n",
       "      <td>17.87</td>\n",
       "      <td>1188000</td>\n",
       "      <td>1.49</td>\n",
       "    </tr>\n",
       "    <tr>\n",
       "      <th>4416</th>\n",
       "      <td>1997-06-26</td>\n",
       "      <td>18.25</td>\n",
       "      <td>18.25</td>\n",
       "      <td>18.06</td>\n",
       "      <td>18.13</td>\n",
       "      <td>3189600</td>\n",
       "      <td>1.51</td>\n",
       "    </tr>\n",
       "    <tr>\n",
       "      <th>4417</th>\n",
       "      <td>1997-06-25</td>\n",
       "      <td>18.31</td>\n",
       "      <td>18.31</td>\n",
       "      <td>17.87</td>\n",
       "      <td>18.13</td>\n",
       "      <td>2106000</td>\n",
       "      <td>1.51</td>\n",
       "    </tr>\n",
       "    <tr>\n",
       "      <th>4418</th>\n",
       "      <td>1997-06-24</td>\n",
       "      <td>18.06</td>\n",
       "      <td>18.31</td>\n",
       "      <td>17.75</td>\n",
       "      <td>18.13</td>\n",
       "      <td>751200</td>\n",
       "      <td>1.51</td>\n",
       "    </tr>\n",
       "    <tr>\n",
       "      <th>4419</th>\n",
       "      <td>1997-06-23</td>\n",
       "      <td>18.50</td>\n",
       "      <td>18.50</td>\n",
       "      <td>17.75</td>\n",
       "      <td>18.00</td>\n",
       "      <td>1047600</td>\n",
       "      <td>1.50</td>\n",
       "    </tr>\n",
       "    <tr>\n",
       "      <th>4420</th>\n",
       "      <td>1997-06-20</td>\n",
       "      <td>18.38</td>\n",
       "      <td>18.62</td>\n",
       "      <td>18.00</td>\n",
       "      <td>18.31</td>\n",
       "      <td>3387600</td>\n",
       "      <td>1.53</td>\n",
       "    </tr>\n",
       "    <tr>\n",
       "      <th>4421</th>\n",
       "      <td>1997-06-19</td>\n",
       "      <td>18.13</td>\n",
       "      <td>18.38</td>\n",
       "      <td>18.00</td>\n",
       "      <td>18.13</td>\n",
       "      <td>1003200</td>\n",
       "      <td>1.51</td>\n",
       "    </tr>\n",
       "    <tr>\n",
       "      <th>4422</th>\n",
       "      <td>1997-06-18</td>\n",
       "      <td>18.25</td>\n",
       "      <td>18.44</td>\n",
       "      <td>18.00</td>\n",
       "      <td>18.13</td>\n",
       "      <td>2464800</td>\n",
       "      <td>1.51</td>\n",
       "    </tr>\n",
       "    <tr>\n",
       "      <th>4423</th>\n",
       "      <td>1997-06-17</td>\n",
       "      <td>19.19</td>\n",
       "      <td>19.19</td>\n",
       "      <td>17.94</td>\n",
       "      <td>18.06</td>\n",
       "      <td>4706400</td>\n",
       "      <td>1.51</td>\n",
       "    </tr>\n",
       "    <tr>\n",
       "      <th>4424</th>\n",
       "      <td>1997-06-16</td>\n",
       "      <td>19.25</td>\n",
       "      <td>19.25</td>\n",
       "      <td>18.75</td>\n",
       "      <td>18.88</td>\n",
       "      <td>913200</td>\n",
       "      <td>1.57</td>\n",
       "    </tr>\n",
       "    <tr>\n",
       "      <th>4425</th>\n",
       "      <td>1997-06-13</td>\n",
       "      <td>19.50</td>\n",
       "      <td>19.50</td>\n",
       "      <td>19.00</td>\n",
       "      <td>19.00</td>\n",
       "      <td>693600</td>\n",
       "      <td>1.58</td>\n",
       "    </tr>\n",
       "    <tr>\n",
       "      <th>4426</th>\n",
       "      <td>1997-06-12</td>\n",
       "      <td>19.00</td>\n",
       "      <td>19.75</td>\n",
       "      <td>18.62</td>\n",
       "      <td>19.25</td>\n",
       "      <td>1632000</td>\n",
       "      <td>1.60</td>\n",
       "    </tr>\n",
       "    <tr>\n",
       "      <th>4427</th>\n",
       "      <td>1997-06-11</td>\n",
       "      <td>19.12</td>\n",
       "      <td>19.25</td>\n",
       "      <td>18.38</td>\n",
       "      <td>18.50</td>\n",
       "      <td>1188000</td>\n",
       "      <td>1.54</td>\n",
       "    </tr>\n",
       "    <tr>\n",
       "      <th>4428</th>\n",
       "      <td>1997-06-10</td>\n",
       "      <td>20.50</td>\n",
       "      <td>20.50</td>\n",
       "      <td>18.38</td>\n",
       "      <td>19.00</td>\n",
       "      <td>5458800</td>\n",
       "      <td>1.58</td>\n",
       "    </tr>\n",
       "    <tr>\n",
       "      <th>4429</th>\n",
       "      <td>1997-06-09</td>\n",
       "      <td>19.88</td>\n",
       "      <td>20.50</td>\n",
       "      <td>19.88</td>\n",
       "      <td>20.25</td>\n",
       "      <td>2352000</td>\n",
       "      <td>1.69</td>\n",
       "    </tr>\n",
       "    <tr>\n",
       "      <th>4430</th>\n",
       "      <td>1997-06-06</td>\n",
       "      <td>18.19</td>\n",
       "      <td>20.50</td>\n",
       "      <td>18.13</td>\n",
       "      <td>19.88</td>\n",
       "      <td>7807200</td>\n",
       "      <td>1.66</td>\n",
       "    </tr>\n",
       "    <tr>\n",
       "      <th>4431</th>\n",
       "      <td>1997-06-05</td>\n",
       "      <td>17.00</td>\n",
       "      <td>18.50</td>\n",
       "      <td>16.50</td>\n",
       "      <td>18.50</td>\n",
       "      <td>5672400</td>\n",
       "      <td>1.54</td>\n",
       "    </tr>\n",
       "    <tr>\n",
       "      <th>4432</th>\n",
       "      <td>1997-06-04</td>\n",
       "      <td>17.75</td>\n",
       "      <td>17.87</td>\n",
       "      <td>16.75</td>\n",
       "      <td>17.00</td>\n",
       "      <td>3080400</td>\n",
       "      <td>1.42</td>\n",
       "    </tr>\n",
       "    <tr>\n",
       "      <th>4433</th>\n",
       "      <td>1997-06-03</td>\n",
       "      <td>18.38</td>\n",
       "      <td>18.38</td>\n",
       "      <td>17.75</td>\n",
       "      <td>17.75</td>\n",
       "      <td>1183200</td>\n",
       "      <td>1.48</td>\n",
       "    </tr>\n",
       "    <tr>\n",
       "      <th>4434</th>\n",
       "      <td>1997-06-02</td>\n",
       "      <td>18.13</td>\n",
       "      <td>18.38</td>\n",
       "      <td>18.00</td>\n",
       "      <td>18.13</td>\n",
       "      <td>591600</td>\n",
       "      <td>1.51</td>\n",
       "    </tr>\n",
       "    <tr>\n",
       "      <th>4435</th>\n",
       "      <td>1997-05-30</td>\n",
       "      <td>18.00</td>\n",
       "      <td>18.13</td>\n",
       "      <td>17.75</td>\n",
       "      <td>18.00</td>\n",
       "      <td>2594400</td>\n",
       "      <td>1.50</td>\n",
       "    </tr>\n",
       "    <tr>\n",
       "      <th>4436</th>\n",
       "      <td>1997-05-29</td>\n",
       "      <td>18.50</td>\n",
       "      <td>18.50</td>\n",
       "      <td>17.75</td>\n",
       "      <td>18.06</td>\n",
       "      <td>3472800</td>\n",
       "      <td>1.51</td>\n",
       "    </tr>\n",
       "    <tr>\n",
       "      <th>4437</th>\n",
       "      <td>1997-05-28</td>\n",
       "      <td>19.50</td>\n",
       "      <td>19.63</td>\n",
       "      <td>18.38</td>\n",
       "      <td>18.38</td>\n",
       "      <td>4574400</td>\n",
       "      <td>1.53</td>\n",
       "    </tr>\n",
       "    <tr>\n",
       "      <th>4438</th>\n",
       "      <td>1997-05-27</td>\n",
       "      <td>18.13</td>\n",
       "      <td>19.75</td>\n",
       "      <td>17.50</td>\n",
       "      <td>19.00</td>\n",
       "      <td>8697600</td>\n",
       "      <td>1.58</td>\n",
       "    </tr>\n",
       "    <tr>\n",
       "      <th>4439</th>\n",
       "      <td>1997-05-23</td>\n",
       "      <td>16.88</td>\n",
       "      <td>18.25</td>\n",
       "      <td>16.00</td>\n",
       "      <td>18.00</td>\n",
       "      <td>15937200</td>\n",
       "      <td>1.50</td>\n",
       "    </tr>\n",
       "    <tr>\n",
       "      <th>4440</th>\n",
       "      <td>1997-05-22</td>\n",
       "      <td>17.25</td>\n",
       "      <td>17.38</td>\n",
       "      <td>15.75</td>\n",
       "      <td>16.75</td>\n",
       "      <td>11776800</td>\n",
       "      <td>1.40</td>\n",
       "    </tr>\n",
       "    <tr>\n",
       "      <th>4441</th>\n",
       "      <td>1997-05-21</td>\n",
       "      <td>19.63</td>\n",
       "      <td>19.75</td>\n",
       "      <td>16.50</td>\n",
       "      <td>17.12</td>\n",
       "      <td>18853200</td>\n",
       "      <td>1.43</td>\n",
       "    </tr>\n",
       "    <tr>\n",
       "      <th>4442</th>\n",
       "      <td>1997-05-20</td>\n",
       "      <td>20.75</td>\n",
       "      <td>21.00</td>\n",
       "      <td>19.63</td>\n",
       "      <td>19.63</td>\n",
       "      <td>5467200</td>\n",
       "      <td>1.64</td>\n",
       "    </tr>\n",
       "    <tr>\n",
       "      <th>4443</th>\n",
       "      <td>1997-05-19</td>\n",
       "      <td>21.13</td>\n",
       "      <td>21.25</td>\n",
       "      <td>19.50</td>\n",
       "      <td>20.50</td>\n",
       "      <td>6106800</td>\n",
       "      <td>1.71</td>\n",
       "    </tr>\n",
       "    <tr>\n",
       "      <th>4444</th>\n",
       "      <td>1997-05-16</td>\n",
       "      <td>23.62</td>\n",
       "      <td>23.75</td>\n",
       "      <td>20.50</td>\n",
       "      <td>20.75</td>\n",
       "      <td>14700000</td>\n",
       "      <td>1.73</td>\n",
       "    </tr>\n",
       "  </tbody>\n",
       "</table>\n",
       "<p>4445 rows × 7 columns</p>\n",
       "</div>"
      ],
      "text/plain": [
       "            Date    Open    High     Low   Close    Volume  Adj Close\n",
       "0     2015-01-14  291.93  295.91  286.50  293.27   5464600     293.27\n",
       "1     2015-01-13  297.48  301.50  293.23  294.74   4130900     294.74\n",
       "2     2015-01-12  297.56  298.51  289.28  291.41   3404300     291.41\n",
       "3     2015-01-09  301.48  302.87  296.68  296.93   2589500     296.93\n",
       "4     2015-01-08  300.32  303.14  296.11  300.46   3073700     300.46\n",
       "5     2015-01-07  297.50  301.28  295.33  298.42   2612300     298.42\n",
       "6     2015-01-06  302.24  303.00  292.38  295.29   3506200     295.29\n",
       "7     2015-01-05  307.01  308.38  300.85  302.19   2763700     302.19\n",
       "8     2015-01-02  312.58  314.75  306.96  308.52   2783200     308.52\n",
       "9     2014-12-31  311.55  312.98  310.01  310.35   2048000     310.35\n",
       "10    2014-12-30  311.44  313.91  309.37  310.47    109800     310.47\n",
       "11    2014-12-29  307.85  314.27  306.58  312.04   2992500     312.04\n",
       "12    2014-12-26  305.00  310.78  303.81  309.09   2887500     309.09\n",
       "13    2014-12-24  306.38  307.00  302.88  303.03   1513800     303.03\n",
       "14    2014-12-23  306.98  307.49  303.25  306.29   2713700     306.29\n",
       "15    2014-12-22  301.94  307.36  301.94  306.54   3828800     306.54\n",
       "16    2014-12-19  296.91  301.54  295.52  299.90   8541000     299.90\n",
       "17    2014-12-18  304.01  304.50  293.25  297.73   7694600     297.73\n",
       "18    2014-12-17  296.37  299.67  293.03  298.88   4399200     298.88\n",
       "19    2014-12-16  304.35  304.49  295.01  295.06   6485300     295.06\n",
       "20    2014-12-15  308.87  310.86  302.15  306.07   3830100     306.07\n",
       "21    2014-12-12  303.99  310.64  303.01  307.32   3153500     307.32\n",
       "22    2014-12-11  307.89  312.64  306.01  307.36   3263500     307.36\n",
       "23    2014-12-10  312.00  313.19  304.68  305.84   3229100     305.84\n",
       "24    2014-12-09  302.99  313.64  301.14  312.50   4027800     312.50\n",
       "25    2014-12-08  311.57  316.56  304.82  306.64   3625800     306.64\n",
       "26    2014-12-05  316.80  316.93  310.84  312.63   3257700     312.63\n",
       "27    2014-12-04  315.53  318.59  313.47  316.93   3290300     316.93\n",
       "28    2014-12-03  325.73  326.77  314.36  316.50   5681000     316.50\n",
       "29    2014-12-02  327.50  327.93  323.25  326.31   2783500     326.31\n",
       "...          ...     ...     ...     ...     ...       ...        ...\n",
       "4415  1997-06-27   18.19   18.19   17.75   17.87   1188000       1.49\n",
       "4416  1997-06-26   18.25   18.25   18.06   18.13   3189600       1.51\n",
       "4417  1997-06-25   18.31   18.31   17.87   18.13   2106000       1.51\n",
       "4418  1997-06-24   18.06   18.31   17.75   18.13    751200       1.51\n",
       "4419  1997-06-23   18.50   18.50   17.75   18.00   1047600       1.50\n",
       "4420  1997-06-20   18.38   18.62   18.00   18.31   3387600       1.53\n",
       "4421  1997-06-19   18.13   18.38   18.00   18.13   1003200       1.51\n",
       "4422  1997-06-18   18.25   18.44   18.00   18.13   2464800       1.51\n",
       "4423  1997-06-17   19.19   19.19   17.94   18.06   4706400       1.51\n",
       "4424  1997-06-16   19.25   19.25   18.75   18.88    913200       1.57\n",
       "4425  1997-06-13   19.50   19.50   19.00   19.00    693600       1.58\n",
       "4426  1997-06-12   19.00   19.75   18.62   19.25   1632000       1.60\n",
       "4427  1997-06-11   19.12   19.25   18.38   18.50   1188000       1.54\n",
       "4428  1997-06-10   20.50   20.50   18.38   19.00   5458800       1.58\n",
       "4429  1997-06-09   19.88   20.50   19.88   20.25   2352000       1.69\n",
       "4430  1997-06-06   18.19   20.50   18.13   19.88   7807200       1.66\n",
       "4431  1997-06-05   17.00   18.50   16.50   18.50   5672400       1.54\n",
       "4432  1997-06-04   17.75   17.87   16.75   17.00   3080400       1.42\n",
       "4433  1997-06-03   18.38   18.38   17.75   17.75   1183200       1.48\n",
       "4434  1997-06-02   18.13   18.38   18.00   18.13    591600       1.51\n",
       "4435  1997-05-30   18.00   18.13   17.75   18.00   2594400       1.50\n",
       "4436  1997-05-29   18.50   18.50   17.75   18.06   3472800       1.51\n",
       "4437  1997-05-28   19.50   19.63   18.38   18.38   4574400       1.53\n",
       "4438  1997-05-27   18.13   19.75   17.50   19.00   8697600       1.58\n",
       "4439  1997-05-23   16.88   18.25   16.00   18.00  15937200       1.50\n",
       "4440  1997-05-22   17.25   17.38   15.75   16.75  11776800       1.40\n",
       "4441  1997-05-21   19.63   19.75   16.50   17.12  18853200       1.43\n",
       "4442  1997-05-20   20.75   21.00   19.63   19.63   5467200       1.64\n",
       "4443  1997-05-19   21.13   21.25   19.50   20.50   6106800       1.71\n",
       "4444  1997-05-16   23.62   23.75   20.50   20.75  14700000       1.73\n",
       "\n",
       "[4445 rows x 7 columns]"
      ]
     },
     "execution_count": 176,
     "metadata": {},
     "output_type": "execute_result"
    }
   ],
   "source": [
    "# read csv files easily into data frames\n",
    "\n",
    "df = pd.read_csv(\"../data/amazon_stock_data.csv\")\n",
    "df"
   ]
  },
  {
   "cell_type": "code",
   "execution_count": 177,
   "metadata": {
    "collapsed": false
   },
   "outputs": [
    {
     "data": {
      "text/plain": [
       "Index(['Date', 'Open', 'High', 'Low', 'Close', 'Volume', 'Adj Close'], dtype='object')"
      ]
     },
     "execution_count": 177,
     "metadata": {},
     "output_type": "execute_result"
    }
   ],
   "source": [
    "df.columns"
   ]
  },
  {
   "cell_type": "markdown",
   "metadata": {},
   "source": [
    "### Select rows and columns"
   ]
  },
  {
   "cell_type": "markdown",
   "metadata": {},
   "source": [
    "Colunns can be selected individually: each one is a Series."
   ]
  },
  {
   "cell_type": "code",
   "execution_count": 178,
   "metadata": {
    "collapsed": false
   },
   "outputs": [
    {
     "data": {
      "text/plain": [
       "0       291.93\n",
       "1       297.48\n",
       "2       297.56\n",
       "3       301.48\n",
       "4       300.32\n",
       "5       297.50\n",
       "6       302.24\n",
       "7       307.01\n",
       "8       312.58\n",
       "9       311.55\n",
       "10      311.44\n",
       "11      307.85\n",
       "12      305.00\n",
       "13      306.38\n",
       "14      306.98\n",
       "15      301.94\n",
       "16      296.91\n",
       "17      304.01\n",
       "18      296.37\n",
       "19      304.35\n",
       "20      308.87\n",
       "21      303.99\n",
       "22      307.89\n",
       "23      312.00\n",
       "24      302.99\n",
       "25      311.57\n",
       "26      316.80\n",
       "27      315.53\n",
       "28      325.73\n",
       "29      327.50\n",
       "         ...  \n",
       "4415     18.19\n",
       "4416     18.25\n",
       "4417     18.31\n",
       "4418     18.06\n",
       "4419     18.50\n",
       "4420     18.38\n",
       "4421     18.13\n",
       "4422     18.25\n",
       "4423     19.19\n",
       "4424     19.25\n",
       "4425     19.50\n",
       "4426     19.00\n",
       "4427     19.12\n",
       "4428     20.50\n",
       "4429     19.88\n",
       "4430     18.19\n",
       "4431     17.00\n",
       "4432     17.75\n",
       "4433     18.38\n",
       "4434     18.13\n",
       "4435     18.00\n",
       "4436     18.50\n",
       "4437     19.50\n",
       "4438     18.13\n",
       "4439     16.88\n",
       "4440     17.25\n",
       "4441     19.63\n",
       "4442     20.75\n",
       "4443     21.13\n",
       "4444     23.62\n",
       "Name: Open, dtype: float64"
      ]
     },
     "execution_count": 178,
     "metadata": {},
     "output_type": "execute_result"
    }
   ],
   "source": [
    "df.Open"
   ]
  },
  {
   "cell_type": "code",
   "execution_count": 179,
   "metadata": {
    "collapsed": false
   },
   "outputs": [
    {
     "name": "stdout",
     "output_type": "stream",
     "text": [
      "<class 'pandas.core.series.Series'>\n",
      "0    291.93\n",
      "1    297.48\n",
      "2    297.56\n",
      "3    301.48\n",
      "4    300.32\n",
      "Name: Open, dtype: float64\n"
     ]
    }
   ],
   "source": [
    "# copy to a new variable\n",
    "vec_open = df.Open.copy()\n",
    "print(type(vec_open))\n",
    "\n",
    "# .head() shows the first few elements\n",
    "print(vec_open.head())"
   ]
  },
  {
   "cell_type": "markdown",
   "metadata": {},
   "source": [
    "Multiple columns can be selected by supplying a list of column names within square brackets."
   ]
  },
  {
   "cell_type": "code",
   "execution_count": 180,
   "metadata": {
    "collapsed": false
   },
   "outputs": [],
   "source": [
    "df_date_open = df[[\"Date\", \"Open\"]].copy()"
   ]
  },
  {
   "cell_type": "code",
   "execution_count": 181,
   "metadata": {
    "collapsed": false
   },
   "outputs": [
    {
     "data": {
      "text/html": [
       "<div>\n",
       "<table border=\"1\" class=\"dataframe\">\n",
       "  <thead>\n",
       "    <tr style=\"text-align: right;\">\n",
       "      <th></th>\n",
       "      <th>Date</th>\n",
       "      <th>Open</th>\n",
       "    </tr>\n",
       "  </thead>\n",
       "  <tbody>\n",
       "    <tr>\n",
       "      <th>0</th>\n",
       "      <td>2015-01-14</td>\n",
       "      <td>291.93</td>\n",
       "    </tr>\n",
       "    <tr>\n",
       "      <th>1</th>\n",
       "      <td>2015-01-13</td>\n",
       "      <td>297.48</td>\n",
       "    </tr>\n",
       "    <tr>\n",
       "      <th>2</th>\n",
       "      <td>2015-01-12</td>\n",
       "      <td>297.56</td>\n",
       "    </tr>\n",
       "    <tr>\n",
       "      <th>3</th>\n",
       "      <td>2015-01-09</td>\n",
       "      <td>301.48</td>\n",
       "    </tr>\n",
       "    <tr>\n",
       "      <th>4</th>\n",
       "      <td>2015-01-08</td>\n",
       "      <td>300.32</td>\n",
       "    </tr>\n",
       "    <tr>\n",
       "      <th>5</th>\n",
       "      <td>2015-01-07</td>\n",
       "      <td>297.50</td>\n",
       "    </tr>\n",
       "    <tr>\n",
       "      <th>6</th>\n",
       "      <td>2015-01-06</td>\n",
       "      <td>302.24</td>\n",
       "    </tr>\n",
       "    <tr>\n",
       "      <th>7</th>\n",
       "      <td>2015-01-05</td>\n",
       "      <td>307.01</td>\n",
       "    </tr>\n",
       "    <tr>\n",
       "      <th>8</th>\n",
       "      <td>2015-01-02</td>\n",
       "      <td>312.58</td>\n",
       "    </tr>\n",
       "    <tr>\n",
       "      <th>9</th>\n",
       "      <td>2014-12-31</td>\n",
       "      <td>311.55</td>\n",
       "    </tr>\n",
       "  </tbody>\n",
       "</table>\n",
       "</div>"
      ],
      "text/plain": [
       "         Date    Open\n",
       "0  2015-01-14  291.93\n",
       "1  2015-01-13  297.48\n",
       "2  2015-01-12  297.56\n",
       "3  2015-01-09  301.48\n",
       "4  2015-01-08  300.32\n",
       "5  2015-01-07  297.50\n",
       "6  2015-01-06  302.24\n",
       "7  2015-01-05  307.01\n",
       "8  2015-01-02  312.58\n",
       "9  2014-12-31  311.55"
      ]
     },
     "execution_count": 181,
     "metadata": {},
     "output_type": "execute_result"
    }
   ],
   "source": [
    "df_date_open.head(10)"
   ]
  },
  {
   "cell_type": "markdown",
   "metadata": {},
   "source": [
    "Rows can be selected by indices."
   ]
  },
  {
   "cell_type": "code",
   "execution_count": 182,
   "metadata": {
    "collapsed": false
   },
   "outputs": [
    {
     "data": {
      "text/html": [
       "<div>\n",
       "<table border=\"1\" class=\"dataframe\">\n",
       "  <thead>\n",
       "    <tr style=\"text-align: right;\">\n",
       "      <th></th>\n",
       "      <th>Date</th>\n",
       "      <th>Open</th>\n",
       "      <th>High</th>\n",
       "      <th>Low</th>\n",
       "      <th>Close</th>\n",
       "      <th>Volume</th>\n",
       "      <th>Adj Close</th>\n",
       "    </tr>\n",
       "  </thead>\n",
       "  <tbody>\n",
       "    <tr>\n",
       "      <th>1</th>\n",
       "      <td>2015-01-13</td>\n",
       "      <td>297.48</td>\n",
       "      <td>301.50</td>\n",
       "      <td>293.23</td>\n",
       "      <td>294.74</td>\n",
       "      <td>4130900</td>\n",
       "      <td>294.74</td>\n",
       "    </tr>\n",
       "    <tr>\n",
       "      <th>2</th>\n",
       "      <td>2015-01-12</td>\n",
       "      <td>297.56</td>\n",
       "      <td>298.51</td>\n",
       "      <td>289.28</td>\n",
       "      <td>291.41</td>\n",
       "      <td>3404300</td>\n",
       "      <td>291.41</td>\n",
       "    </tr>\n",
       "    <tr>\n",
       "      <th>3</th>\n",
       "      <td>2015-01-09</td>\n",
       "      <td>301.48</td>\n",
       "      <td>302.87</td>\n",
       "      <td>296.68</td>\n",
       "      <td>296.93</td>\n",
       "      <td>2589500</td>\n",
       "      <td>296.93</td>\n",
       "    </tr>\n",
       "  </tbody>\n",
       "</table>\n",
       "</div>"
      ],
      "text/plain": [
       "         Date    Open    High     Low   Close   Volume  Adj Close\n",
       "1  2015-01-13  297.48  301.50  293.23  294.74  4130900     294.74\n",
       "2  2015-01-12  297.56  298.51  289.28  291.41  3404300     291.41\n",
       "3  2015-01-09  301.48  302.87  296.68  296.93  2589500     296.93"
      ]
     },
     "execution_count": 182,
     "metadata": {},
     "output_type": "execute_result"
    }
   ],
   "source": [
    "df.ix[1:3, ]"
   ]
  },
  {
   "cell_type": "markdown",
   "metadata": {},
   "source": [
    "But also using boolean expressions."
   ]
  },
  {
   "cell_type": "code",
   "execution_count": 183,
   "metadata": {
    "collapsed": false
   },
   "outputs": [
    {
     "data": {
      "text/html": [
       "<div>\n",
       "<table border=\"1\" class=\"dataframe\">\n",
       "  <thead>\n",
       "    <tr style=\"text-align: right;\">\n",
       "      <th></th>\n",
       "      <th>Date</th>\n",
       "      <th>Open</th>\n",
       "      <th>High</th>\n",
       "      <th>Low</th>\n",
       "      <th>Close</th>\n",
       "      <th>Volume</th>\n",
       "      <th>Adj Close</th>\n",
       "    </tr>\n",
       "  </thead>\n",
       "  <tbody>\n",
       "    <tr>\n",
       "      <th>3</th>\n",
       "      <td>2015-01-09</td>\n",
       "      <td>301.48</td>\n",
       "      <td>302.87</td>\n",
       "      <td>296.68</td>\n",
       "      <td>296.93</td>\n",
       "      <td>2589500</td>\n",
       "      <td>296.93</td>\n",
       "    </tr>\n",
       "    <tr>\n",
       "      <th>4</th>\n",
       "      <td>2015-01-08</td>\n",
       "      <td>300.32</td>\n",
       "      <td>303.14</td>\n",
       "      <td>296.11</td>\n",
       "      <td>300.46</td>\n",
       "      <td>3073700</td>\n",
       "      <td>300.46</td>\n",
       "    </tr>\n",
       "    <tr>\n",
       "      <th>6</th>\n",
       "      <td>2015-01-06</td>\n",
       "      <td>302.24</td>\n",
       "      <td>303.00</td>\n",
       "      <td>292.38</td>\n",
       "      <td>295.29</td>\n",
       "      <td>3506200</td>\n",
       "      <td>295.29</td>\n",
       "    </tr>\n",
       "    <tr>\n",
       "      <th>7</th>\n",
       "      <td>2015-01-05</td>\n",
       "      <td>307.01</td>\n",
       "      <td>308.38</td>\n",
       "      <td>300.85</td>\n",
       "      <td>302.19</td>\n",
       "      <td>2763700</td>\n",
       "      <td>302.19</td>\n",
       "    </tr>\n",
       "    <tr>\n",
       "      <th>8</th>\n",
       "      <td>2015-01-02</td>\n",
       "      <td>312.58</td>\n",
       "      <td>314.75</td>\n",
       "      <td>306.96</td>\n",
       "      <td>308.52</td>\n",
       "      <td>2783200</td>\n",
       "      <td>308.52</td>\n",
       "    </tr>\n",
       "  </tbody>\n",
       "</table>\n",
       "</div>"
      ],
      "text/plain": [
       "         Date    Open    High     Low   Close   Volume  Adj Close\n",
       "3  2015-01-09  301.48  302.87  296.68  296.93  2589500     296.93\n",
       "4  2015-01-08  300.32  303.14  296.11  300.46  3073700     300.46\n",
       "6  2015-01-06  302.24  303.00  292.38  295.29  3506200     295.29\n",
       "7  2015-01-05  307.01  308.38  300.85  302.19  2763700     302.19\n",
       "8  2015-01-02  312.58  314.75  306.96  308.52  2783200     308.52"
      ]
     },
     "execution_count": 183,
     "metadata": {},
     "output_type": "execute_result"
    }
   ],
   "source": [
    "df[df.Open > 298].head()"
   ]
  },
  {
   "cell_type": "markdown",
   "metadata": {},
   "source": [
    "Row and column selection can be combined using `.ix[]`."
   ]
  },
  {
   "cell_type": "code",
   "execution_count": 184,
   "metadata": {
    "collapsed": false
   },
   "outputs": [
    {
     "data": {
      "text/html": [
       "<div>\n",
       "<table border=\"1\" class=\"dataframe\">\n",
       "  <thead>\n",
       "    <tr style=\"text-align: right;\">\n",
       "      <th></th>\n",
       "      <th>Open</th>\n",
       "      <th>Close</th>\n",
       "    </tr>\n",
       "  </thead>\n",
       "  <tbody>\n",
       "    <tr>\n",
       "      <th>2</th>\n",
       "      <td>297.56</td>\n",
       "      <td>291.41</td>\n",
       "    </tr>\n",
       "    <tr>\n",
       "      <th>3</th>\n",
       "      <td>301.48</td>\n",
       "      <td>296.93</td>\n",
       "    </tr>\n",
       "    <tr>\n",
       "      <th>4</th>\n",
       "      <td>300.32</td>\n",
       "      <td>300.46</td>\n",
       "    </tr>\n",
       "    <tr>\n",
       "      <th>5</th>\n",
       "      <td>297.50</td>\n",
       "      <td>298.42</td>\n",
       "    </tr>\n",
       "  </tbody>\n",
       "</table>\n",
       "</div>"
      ],
      "text/plain": [
       "     Open   Close\n",
       "2  297.56  291.41\n",
       "3  301.48  296.93\n",
       "4  300.32  300.46\n",
       "5  297.50  298.42"
      ]
     },
     "execution_count": 184,
     "metadata": {},
     "output_type": "execute_result"
    }
   ],
   "source": [
    "df.ix[2:5, [\"Open\", \"Close\"]]"
   ]
  },
  {
   "cell_type": "markdown",
   "metadata": {},
   "source": [
    "### Creating new variables"
   ]
  },
  {
   "cell_type": "markdown",
   "metadata": {},
   "source": [
    "New variables can be added with a syntax similar to dictionaries."
   ]
  },
  {
   "cell_type": "code",
   "execution_count": 185,
   "metadata": {
    "collapsed": false
   },
   "outputs": [
    {
     "data": {
      "text/html": [
       "<div>\n",
       "<table border=\"1\" class=\"dataframe\">\n",
       "  <thead>\n",
       "    <tr style=\"text-align: right;\">\n",
       "      <th></th>\n",
       "      <th>Date</th>\n",
       "      <th>Open</th>\n",
       "      <th>High</th>\n",
       "      <th>Low</th>\n",
       "      <th>Close</th>\n",
       "      <th>Volume</th>\n",
       "      <th>Adj Close</th>\n",
       "      <th>Middle</th>\n",
       "    </tr>\n",
       "  </thead>\n",
       "  <tbody>\n",
       "    <tr>\n",
       "      <th>0</th>\n",
       "      <td>2015-01-14</td>\n",
       "      <td>291.93</td>\n",
       "      <td>295.91</td>\n",
       "      <td>286.50</td>\n",
       "      <td>293.27</td>\n",
       "      <td>5464600</td>\n",
       "      <td>293.27</td>\n",
       "      <td>292.600</td>\n",
       "    </tr>\n",
       "    <tr>\n",
       "      <th>1</th>\n",
       "      <td>2015-01-13</td>\n",
       "      <td>297.48</td>\n",
       "      <td>301.50</td>\n",
       "      <td>293.23</td>\n",
       "      <td>294.74</td>\n",
       "      <td>4130900</td>\n",
       "      <td>294.74</td>\n",
       "      <td>296.110</td>\n",
       "    </tr>\n",
       "    <tr>\n",
       "      <th>2</th>\n",
       "      <td>2015-01-12</td>\n",
       "      <td>297.56</td>\n",
       "      <td>298.51</td>\n",
       "      <td>289.28</td>\n",
       "      <td>291.41</td>\n",
       "      <td>3404300</td>\n",
       "      <td>291.41</td>\n",
       "      <td>294.485</td>\n",
       "    </tr>\n",
       "    <tr>\n",
       "      <th>3</th>\n",
       "      <td>2015-01-09</td>\n",
       "      <td>301.48</td>\n",
       "      <td>302.87</td>\n",
       "      <td>296.68</td>\n",
       "      <td>296.93</td>\n",
       "      <td>2589500</td>\n",
       "      <td>296.93</td>\n",
       "      <td>299.205</td>\n",
       "    </tr>\n",
       "    <tr>\n",
       "      <th>4</th>\n",
       "      <td>2015-01-08</td>\n",
       "      <td>300.32</td>\n",
       "      <td>303.14</td>\n",
       "      <td>296.11</td>\n",
       "      <td>300.46</td>\n",
       "      <td>3073700</td>\n",
       "      <td>300.46</td>\n",
       "      <td>300.390</td>\n",
       "    </tr>\n",
       "  </tbody>\n",
       "</table>\n",
       "</div>"
      ],
      "text/plain": [
       "         Date    Open    High     Low   Close   Volume  Adj Close   Middle\n",
       "0  2015-01-14  291.93  295.91  286.50  293.27  5464600     293.27  292.600\n",
       "1  2015-01-13  297.48  301.50  293.23  294.74  4130900     294.74  296.110\n",
       "2  2015-01-12  297.56  298.51  289.28  291.41  3404300     291.41  294.485\n",
       "3  2015-01-09  301.48  302.87  296.68  296.93  2589500     296.93  299.205\n",
       "4  2015-01-08  300.32  303.14  296.11  300.46  3073700     300.46  300.390"
      ]
     },
     "execution_count": 185,
     "metadata": {},
     "output_type": "execute_result"
    }
   ],
   "source": [
    "df[\"Middle\"] = (df[\"Open\"] + df[\"Close\"])/2\n",
    "df.head()"
   ]
  },
  {
   "cell_type": "markdown",
   "metadata": {},
   "source": [
    "More complicated functions can be applied, too, using the `.apply()` method."
   ]
  },
  {
   "cell_type": "code",
   "execution_count": 186,
   "metadata": {
    "collapsed": true
   },
   "outputs": [],
   "source": [
    "def get_year(date):\n",
    "    return date.split(\"-\")[0]"
   ]
  },
  {
   "cell_type": "code",
   "execution_count": 187,
   "metadata": {
    "collapsed": false
   },
   "outputs": [
    {
     "data": {
      "text/html": [
       "<div>\n",
       "<table border=\"1\" class=\"dataframe\">\n",
       "  <thead>\n",
       "    <tr style=\"text-align: right;\">\n",
       "      <th></th>\n",
       "      <th>Date</th>\n",
       "      <th>Open</th>\n",
       "      <th>High</th>\n",
       "      <th>Low</th>\n",
       "      <th>Close</th>\n",
       "      <th>Volume</th>\n",
       "      <th>Adj Close</th>\n",
       "      <th>Middle</th>\n",
       "      <th>Year</th>\n",
       "    </tr>\n",
       "  </thead>\n",
       "  <tbody>\n",
       "    <tr>\n",
       "      <th>0</th>\n",
       "      <td>2015-01-14</td>\n",
       "      <td>291.93</td>\n",
       "      <td>295.91</td>\n",
       "      <td>286.50</td>\n",
       "      <td>293.27</td>\n",
       "      <td>5464600</td>\n",
       "      <td>293.27</td>\n",
       "      <td>292.600</td>\n",
       "      <td>2015</td>\n",
       "    </tr>\n",
       "    <tr>\n",
       "      <th>1</th>\n",
       "      <td>2015-01-13</td>\n",
       "      <td>297.48</td>\n",
       "      <td>301.50</td>\n",
       "      <td>293.23</td>\n",
       "      <td>294.74</td>\n",
       "      <td>4130900</td>\n",
       "      <td>294.74</td>\n",
       "      <td>296.110</td>\n",
       "      <td>2015</td>\n",
       "    </tr>\n",
       "    <tr>\n",
       "      <th>2</th>\n",
       "      <td>2015-01-12</td>\n",
       "      <td>297.56</td>\n",
       "      <td>298.51</td>\n",
       "      <td>289.28</td>\n",
       "      <td>291.41</td>\n",
       "      <td>3404300</td>\n",
       "      <td>291.41</td>\n",
       "      <td>294.485</td>\n",
       "      <td>2015</td>\n",
       "    </tr>\n",
       "    <tr>\n",
       "      <th>3</th>\n",
       "      <td>2015-01-09</td>\n",
       "      <td>301.48</td>\n",
       "      <td>302.87</td>\n",
       "      <td>296.68</td>\n",
       "      <td>296.93</td>\n",
       "      <td>2589500</td>\n",
       "      <td>296.93</td>\n",
       "      <td>299.205</td>\n",
       "      <td>2015</td>\n",
       "    </tr>\n",
       "    <tr>\n",
       "      <th>4</th>\n",
       "      <td>2015-01-08</td>\n",
       "      <td>300.32</td>\n",
       "      <td>303.14</td>\n",
       "      <td>296.11</td>\n",
       "      <td>300.46</td>\n",
       "      <td>3073700</td>\n",
       "      <td>300.46</td>\n",
       "      <td>300.390</td>\n",
       "      <td>2015</td>\n",
       "    </tr>\n",
       "  </tbody>\n",
       "</table>\n",
       "</div>"
      ],
      "text/plain": [
       "         Date    Open    High     Low   Close   Volume  Adj Close   Middle  \\\n",
       "0  2015-01-14  291.93  295.91  286.50  293.27  5464600     293.27  292.600   \n",
       "1  2015-01-13  297.48  301.50  293.23  294.74  4130900     294.74  296.110   \n",
       "2  2015-01-12  297.56  298.51  289.28  291.41  3404300     291.41  294.485   \n",
       "3  2015-01-09  301.48  302.87  296.68  296.93  2589500     296.93  299.205   \n",
       "4  2015-01-08  300.32  303.14  296.11  300.46  3073700     300.46  300.390   \n",
       "\n",
       "   Year  \n",
       "0  2015  \n",
       "1  2015  \n",
       "2  2015  \n",
       "3  2015  \n",
       "4  2015  "
      ]
     },
     "execution_count": 187,
     "metadata": {},
     "output_type": "execute_result"
    }
   ],
   "source": [
    "df[\"Year\"] = df.Date.apply(get_year)\n",
    "df.head()"
   ]
  },
  {
   "cell_type": "markdown",
   "metadata": {},
   "source": [
    "### Missing data"
   ]
  },
  {
   "cell_type": "markdown",
   "metadata": {},
   "source": [
    "Missing data is handled by `np.nan` values which are borrowed from the NumPy module."
   ]
  },
  {
   "cell_type": "code",
   "execution_count": 188,
   "metadata": {
    "collapsed": false
   },
   "outputs": [
    {
     "data": {
      "text/html": [
       "<div>\n",
       "<table border=\"1\" class=\"dataframe\">\n",
       "  <thead>\n",
       "    <tr style=\"text-align: right;\">\n",
       "      <th></th>\n",
       "      <th>bar</th>\n",
       "      <th>foo</th>\n",
       "    </tr>\n",
       "  </thead>\n",
       "  <tbody>\n",
       "    <tr>\n",
       "      <th>0</th>\n",
       "      <td>A</td>\n",
       "      <td>3</td>\n",
       "    </tr>\n",
       "    <tr>\n",
       "      <th>1</th>\n",
       "      <td>B</td>\n",
       "      <td>4</td>\n",
       "    </tr>\n",
       "    <tr>\n",
       "      <th>2</th>\n",
       "      <td>C</td>\n",
       "      <td>NaN</td>\n",
       "    </tr>\n",
       "    <tr>\n",
       "      <th>3</th>\n",
       "      <td>D</td>\n",
       "      <td>7</td>\n",
       "    </tr>\n",
       "    <tr>\n",
       "      <th>4</th>\n",
       "      <td>E</td>\n",
       "      <td>9</td>\n",
       "    </tr>\n",
       "  </tbody>\n",
       "</table>\n",
       "</div>"
      ],
      "text/plain": [
       "  bar  foo\n",
       "0   A    3\n",
       "1   B    4\n",
       "2   C  NaN\n",
       "3   D    7\n",
       "4   E    9"
      ]
     },
     "execution_count": 188,
     "metadata": {},
     "output_type": "execute_result"
    }
   ],
   "source": [
    "dd = pd.DataFrame({\"foo\": np.array([3, 4, np.nan, 7, 9]), \"bar\" : [\"A\", \"B\", \"C\", \"D\", \"E\"]})\n",
    "dd"
   ]
  },
  {
   "cell_type": "markdown",
   "metadata": {},
   "source": [
    "`.notnull()` and `.isnull()` are useful Series methods that return boolean values and test if Series elements are missing or not. We can use these for row selection, too."
   ]
  },
  {
   "cell_type": "code",
   "execution_count": 189,
   "metadata": {
    "collapsed": false
   },
   "outputs": [
    {
     "data": {
      "text/html": [
       "<div>\n",
       "<table border=\"1\" class=\"dataframe\">\n",
       "  <thead>\n",
       "    <tr style=\"text-align: right;\">\n",
       "      <th></th>\n",
       "      <th>bar</th>\n",
       "      <th>foo</th>\n",
       "    </tr>\n",
       "  </thead>\n",
       "  <tbody>\n",
       "    <tr>\n",
       "      <th>2</th>\n",
       "      <td>C</td>\n",
       "      <td>NaN</td>\n",
       "    </tr>\n",
       "  </tbody>\n",
       "</table>\n",
       "</div>"
      ],
      "text/plain": [
       "  bar  foo\n",
       "2   C  NaN"
      ]
     },
     "execution_count": 189,
     "metadata": {},
     "output_type": "execute_result"
    }
   ],
   "source": [
    "dd[dd.foo.isnull()]"
   ]
  },
  {
   "cell_type": "code",
   "execution_count": 190,
   "metadata": {
    "collapsed": false
   },
   "outputs": [
    {
     "data": {
      "text/html": [
       "<div>\n",
       "<table border=\"1\" class=\"dataframe\">\n",
       "  <thead>\n",
       "    <tr style=\"text-align: right;\">\n",
       "      <th></th>\n",
       "      <th>bar</th>\n",
       "      <th>foo</th>\n",
       "    </tr>\n",
       "  </thead>\n",
       "  <tbody>\n",
       "    <tr>\n",
       "      <th>0</th>\n",
       "      <td>A</td>\n",
       "      <td>3</td>\n",
       "    </tr>\n",
       "    <tr>\n",
       "      <th>1</th>\n",
       "      <td>B</td>\n",
       "      <td>4</td>\n",
       "    </tr>\n",
       "    <tr>\n",
       "      <th>3</th>\n",
       "      <td>D</td>\n",
       "      <td>7</td>\n",
       "    </tr>\n",
       "    <tr>\n",
       "      <th>4</th>\n",
       "      <td>E</td>\n",
       "      <td>9</td>\n",
       "    </tr>\n",
       "  </tbody>\n",
       "</table>\n",
       "</div>"
      ],
      "text/plain": [
       "  bar  foo\n",
       "0   A    3\n",
       "1   B    4\n",
       "3   D    7\n",
       "4   E    9"
      ]
     },
     "execution_count": 190,
     "metadata": {},
     "output_type": "execute_result"
    }
   ],
   "source": [
    "dd[dd.foo.notnull()]"
   ]
  },
  {
   "cell_type": "markdown",
   "metadata": {},
   "source": [
    "### Aggregation operations"
   ]
  },
  {
   "cell_type": "markdown",
   "metadata": {},
   "source": [
    "There are efficient methods for aggregating rows of data frames, also by groups."
   ]
  },
  {
   "cell_type": "code",
   "execution_count": 191,
   "metadata": {
    "collapsed": false
   },
   "outputs": [
    {
     "data": {
      "text/plain": [
       "107.55967154105737"
      ]
     },
     "execution_count": 191,
     "metadata": {},
     "output_type": "execute_result"
    }
   ],
   "source": [
    "# get the mean of Open\n",
    "df.Open.mean()"
   ]
  },
  {
   "cell_type": "code",
   "execution_count": 192,
   "metadata": {
    "collapsed": false
   },
   "outputs": [
    {
     "data": {
      "text/plain": [
       "478390.120000001"
      ]
     },
     "execution_count": 192,
     "metadata": {},
     "output_type": "execute_result"
    }
   ],
   "source": [
    "df.Close.sum()"
   ]
  },
  {
   "cell_type": "code",
   "execution_count": 193,
   "metadata": {
    "collapsed": false
   },
   "outputs": [
    {
     "data": {
      "text/plain": [
       "4445"
      ]
     },
     "execution_count": 193,
     "metadata": {},
     "output_type": "execute_result"
    }
   ],
   "source": [
    "# count the non-missing values\n",
    "df.Year.count()"
   ]
  },
  {
   "cell_type": "code",
   "execution_count": 194,
   "metadata": {
    "collapsed": false
   },
   "outputs": [
    {
     "name": "stdout",
     "output_type": "stream",
     "text": [
      "<class 'pandas.core.series.Series'>\n",
      "Year\n",
      "1997    159\n",
      "1998    252\n",
      "1999    252\n",
      "2000    252\n",
      "2001    248\n",
      "Name: Open, dtype: int64\n"
     ]
    },
    {
     "data": {
      "text/plain": [
       "252"
      ]
     },
     "execution_count": 194,
     "metadata": {},
     "output_type": "execute_result"
    }
   ],
   "source": [
    "# get the number of days in each year\n",
    "count_days = df.groupby(\"Year\").Open.count()\n",
    "print(type(count_days))\n",
    "\n",
    "# this is a series with indices taken from the grouping variable\n",
    "print(count_days.head())\n",
    "count_days[\"2000\"]"
   ]
  },
  {
   "cell_type": "code",
   "execution_count": 195,
   "metadata": {
    "collapsed": false
   },
   "outputs": [
    {
     "data": {
      "text/plain": [
       "252    12\n",
       "251     2\n",
       "159     1\n",
       "253     1\n",
       "250     1\n",
       "248     1\n",
       "9       1\n",
       "Name: Open, dtype: int64"
      ]
     },
     "execution_count": 195,
     "metadata": {},
     "output_type": "execute_result"
    }
   ],
   "source": [
    "# value_counts counts the number of occurences of values\n",
    "count_days.value_counts()"
   ]
  },
  {
   "cell_type": "markdown",
   "metadata": {},
   "source": [
    "### Plotting"
   ]
  },
  {
   "cell_type": "markdown",
   "metadata": {},
   "source": [
    "Using Python's main plotting library `matplotlib`, Pandas is able to create simple but useful graphs based on series or data frames."
   ]
  },
  {
   "cell_type": "code",
   "execution_count": 196,
   "metadata": {
    "collapsed": true
   },
   "outputs": [],
   "source": [
    "import matplotlib.pyplot as plt"
   ]
  },
  {
   "cell_type": "code",
   "execution_count": 197,
   "metadata": {
    "collapsed": false
   },
   "outputs": [],
   "source": [
    "df.Open.plot()\n",
    "plt.show()"
   ]
  },
  {
   "cell_type": "code",
   "execution_count": 198,
   "metadata": {
    "collapsed": true
   },
   "outputs": [],
   "source": [
    "# save figures\n",
    "\n",
    "plt.cla()    # clears the plot axes\n",
    "df.Open.plot()\n",
    "plt.savefig(\"../output/opening_prices.png\")"
   ]
  },
  {
   "cell_type": "code",
   "execution_count": 199,
   "metadata": {
    "collapsed": true
   },
   "outputs": [],
   "source": [
    "# many other types of figures can be plotted, you can customize labels, axes, etc.\n",
    "plt.cla()\n",
    "# count the number of days in each year and plot it as a bar chart\n",
    "df.groupby(\"Year\").Open.count().plot(kind=\"bar\", color=\"red\")\n",
    "plt.savefig(\"../output/days_in_years.png\")"
   ]
  },
  {
   "cell_type": "markdown",
   "metadata": {},
   "source": [
    "### Reading and writing data"
   ]
  },
  {
   "cell_type": "markdown",
   "metadata": {},
   "source": [
    "Besides the previously seen `read_csv` function, we can write out dataframes to files, too. Both have many useful options, use the documentation and the help to explore them!"
   ]
  },
  {
   "cell_type": "code",
   "execution_count": 200,
   "metadata": {
    "collapsed": true
   },
   "outputs": [],
   "source": [
    "df = pd.read_csv(\"../data/amazon_stock_data.csv\")"
   ]
  },
  {
   "cell_type": "code",
   "execution_count": 201,
   "metadata": {
    "collapsed": true
   },
   "outputs": [],
   "source": [
    "dd = pd.DataFrame({\"foo\": np.array([3, 4, np.nan, 7, 9]), \"bar\" : [\"A\", \"B\", \"C\", \"D\", \"E\"]})"
   ]
  },
  {
   "cell_type": "code",
   "execution_count": 202,
   "metadata": {
    "collapsed": true
   },
   "outputs": [],
   "source": [
    "# don't output the indices\n",
    "dd.to_csv(\"../output/foobar.csv\", index=False)"
   ]
  }
 ],
 "metadata": {
  "kernelspec": {
   "display_name": "Python 3",
   "language": "python",
   "name": "python3"
  },
  "language_info": {
   "codemirror_mode": {
    "name": "ipython",
    "version": 3
   },
   "file_extension": ".py",
   "mimetype": "text/x-python",
   "name": "python",
   "nbconvert_exporter": "python",
   "pygments_lexer": "ipython3",
   "version": "3.5.1"
  }
 },
 "nbformat": 4,
 "nbformat_minor": 0
}
