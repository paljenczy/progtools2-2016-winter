{
 "cells": [
  {
   "cell_type": "markdown",
   "metadata": {},
   "source": [
    "# Exercises 2"
   ]
  },
  {
   "cell_type": "markdown",
   "metadata": {},
   "source": [
    "### Exercise: working with dictionaries"
   ]
  },
  {
   "cell_type": "markdown",
   "metadata": {},
   "source": [
    "Let's take a number of US states and two dictionaries that contain state abbreviations and some cities in the states.\n",
    "\n",
    "```\n",
    "states = {\n",
    "    'Oregon': 'OR',\n",
    "    'Florida': 'FL',\n",
    "    'California': 'CA',\n",
    "    'New York': 'NY',\n",
    "    'Michigan': 'MI'\n",
    "}\n",
    "\n",
    "cities = {\n",
    "    'CA': 'San Francisco',\n",
    "    'MI': 'Detroit',\n",
    "    'FL': 'Jacksonville',\n",
    "    'NY': 'New York',\n",
    "    'OR': 'Portland'\n",
    "}\n",
    "```"
   ]
  },
  {
   "cell_type": "markdown",
   "metadata": {},
   "source": [
    "Tasks to do:\n",
    "\n",
    "1. Add the \"Georgia\" - \"GA\" key-value pair to the `states` dictionary and the \"GA\" - \"Atlanta\" key-value pair to the `cities` dictionary.\n",
    "2. Test if North Dakota is in the states database. If yes, print a message: \"The abbreviation of >>here comes the state's name<< is >>here comes the abbreviation<<\"., if not, print a sorry message: \"Sorry, the state >>here comes the state's name<< does not exist in the database\".\n",
    "    * with a dictionary `d`, you can iterate on key, value pairs using the following syntax, remembering that `d.items()` gives you a list of (key, value) pairs\n",
    "    ```\n",
    "    for key, value in d.items():\n",
    "        # do something with the key and the value\n",
    "    ```\n",
    "    * you can concatenate strings with the \"+\" operator\n",
    "    * define a variable that has the value \"North Dakota\"\n",
    "    * write your test referencing to this variable. It is useful because if you want to test another state, you only have to modify you code in one place.\n",
    "3. Print all abbreviations with what is it standing for\n",
    "4. To the previous statements, add the city information you have: \".. and this state has a city called [city name]\n"
   ]
  },
  {
   "cell_type": "markdown",
   "metadata": {},
   "source": [
    "### Exercise: numbers divisible by 3 or 7"
   ]
  },
  {
   "cell_type": "markdown",
   "metadata": {},
   "source": [
    "How many numbers below 12345 are divisible by either 3 or 7?\n",
    "\n",
    "* you can get the remainder of dividing an integer `x` by another integer `y` by writing `x % y`. So, for example, `20 % 3` gives 2. Try it!\n",
    "* based on this, you can test if a number is divisible by another by testing if the remainder is zero. Try it!\n",
    "* write a for loop that answers the question!\n",
    "    * set up a `counter = 0`. In the loop, whenever a number is divisible by either 3 or 7, you should increase the value of `counter` by one\n",
    "* write a while loop that answers the same question\n",
    "* write a while loop that begins with `while True:`, and use a `break` statement to finish the loop if you have already examined all integers below 12345"
   ]
  },
  {
   "cell_type": "markdown",
   "metadata": {},
   "source": [
    "### Exercise: combining lists to dict\n",
    "\n",
    "Define two lists: \n",
    "```\n",
    "countries = [\"USA\", \"Hungary\", \"France\", \"Russia\", \"Spain\"]\n",
    "capitals = [\"Washington\", \"Budapest\", \"Paris\", \"Moscow\", \"Madrid\"]\n",
    "```\n",
    "Create a dictionary linking countries (keys) to capitals (values).\n",
    "\n",
    "1. you can create an empty dictionary by `name = {}`, then you can add the pairs with a for loop\n",
    "    * loop over range(len(countries)) and at each step, take the ith element of countries, use it as a key and add the ith element of capitals as value\n",
    "2. observe and try the function `zip` by typing `zip?`, then evaluating the cell with `Shift + Enter`\n",
    "    * it zippes together sequences (lists or tuples) and gives you a new list containing tuples pairing the first element of one list with the first element of the other, second of one with second of the other, etc. Try it! \n",
    "    * now loop over `zip(countries, capitals)` to build your dictionary!\n",
    "3. If you give a list of (key, value) pairs to the function `dict(list_of_key_value_pairs)`, it returns a dictionary with the first elements of the pairs as keys, second elements as values. So, using `zip` and `dict()`, can you solve the problem in just one line?"
   ]
  },
  {
   "cell_type": "markdown",
   "metadata": {},
   "source": [
    "### Exercise: working with text"
   ]
  },
  {
   "cell_type": "markdown",
   "metadata": {},
   "source": [
    "Take the following text: \n",
    "\n",
    "Lorem ipsum dolor sit amet, consectetur adipiscing elit. Pellentesque placerat non libero ultricies consectetur. Proin leo diam, consectetur vel ligula a, hendrerit posuere risus. Quisque vel massa at ligula placerat tempor in eget nibh. Aenean viverra risus vitae pulvinar tincidunt. Etiam tempus nulla eget augue ornare feugiat. Suspendisse potenti. Mauris imperdiet risus vitae nisi tempus, eget laoreet turpis ullamcorper. Vivamus cursus accumsan maximus. Nulla consequat, mi eu tempor gravida, justo odio faucibus massa, vitae pharetra enim nulla sed urna. Nulla tincidunt quis lorem sed cursus. Etiam mi mauris, pellentesque ac turpis vel, interdum rhoncus tortor. Proin tristique mi lectus, vitae lobortis sem ullamcorper nec. Mauris sed mattis nisl. Nam est nunc, congue nec consequat ut, dapibus sed arcu.\n",
    "\n",
    "1. Define a string variable that contains this long text.\n",
    "2. How many sentences are contained in the text? Use that only dots mark the end of a sentence in the text.\n",
    "2. get rid of punctuation: import the `string` module and see what you get with `string.punctuation`. Use that to filter punctuation\n",
    "    * remember that you can iterate on a string like it was a list of characters\n",
    "    * define an empty string `text_clean = \"\"` and with a loop, add all characters `char` that are non-punctuation characters to the variable: `text_clean = text_clean + char`\n",
    "    * you can try an alternative solution\n",
    "        * with list comprehension, create a list of characters that are non-punctuations\n",
    "        * use the `join` method of the empty string `\"\"` to joint these characters\n",
    "3. Count the number of words by splitting the clean text on whitespaces.\n",
    "4. Count the number of words that are longer than 5 letters."
   ]
  }
 ],
 "metadata": {
  "kernelspec": {
   "display_name": "Python 3",
   "language": "python",
   "name": "python3"
  },
  "language_info": {
   "codemirror_mode": {
    "name": "ipython",
    "version": 3
   },
   "file_extension": ".py",
   "mimetype": "text/x-python",
   "name": "python",
   "nbconvert_exporter": "python",
   "pygments_lexer": "ipython3",
   "version": "3.5.1"
  }
 },
 "nbformat": 4,
 "nbformat_minor": 0
}
